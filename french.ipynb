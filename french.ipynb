{
  "nbformat": 4,
  "nbformat_minor": 0,
  "metadata": {
    "colab": {
      "name": "french.ipynb",
      "provenance": [],
      "collapsed_sections": [
        "sSV88mBGoZUa"
      ],
      "toc_visible": true,
      "mount_file_id": "1ZkmnA_QeWySnJ4iFt3SZczh12rO1d34_",
      "authorship_tag": "ABX9TyNqSTiY+Z9VAmA1CJrdZun9",
      "include_colab_link": true
    },
    "kernelspec": {
      "display_name": "Python 3",
      "name": "python3"
    },
    "language_info": {
      "name": "python"
    },
    "accelerator": "GPU"
  },
  "cells": [
    {
      "cell_type": "markdown",
      "metadata": {
        "id": "view-in-github",
        "colab_type": "text"
      },
      "source": [
        "<a href=\"https://colab.research.google.com/github/jademuun/car_insurance_MTPL/blob/master/french.ipynb\" target=\"_parent\"><img src=\"https://colab.research.google.com/assets/colab-badge.svg\" alt=\"Open In Colab\"/></a>"
      ]
    },
    {
      "cell_type": "code",
      "metadata": {
        "colab": {
          "base_uri": "https://localhost:8080/"
        },
        "id": "Z0a33iiGmrsK",
        "outputId": "e7959a9d-3161-4f3e-cd7f-3dec8898eb40"
      },
      "source": [
        "!python3 --version"
      ],
      "execution_count": 1,
      "outputs": [
        {
          "output_type": "stream",
          "text": [
            "Python 3.7.10\n"
          ],
          "name": "stdout"
        }
      ]
    },
    {
      "cell_type": "markdown",
      "metadata": {
        "id": "cOI4467zFF-4"
      },
      "source": [
        "# Libraries"
      ]
    },
    {
      "cell_type": "code",
      "metadata": {
        "id": "JDqgdAwsN7Ym"
      },
      "source": [
        "\n",
        "import pandas as pd\n",
        "import numpy as np\n",
        "import matplotlib.pyplot as plt \n",
        "import seaborn as sns\n",
        "from seaborn import countplot\n",
        "from matplotlib.pyplot import figure, show\n",
        "import timeit\n",
        "\n",
        "from sklearn.pipeline import Pipeline\n",
        "from sklearn.dummy import DummyClassifier\n",
        "from sklearn.metrics import f1_score\n",
        "from sklearn.metrics import confusion_matrix, plot_confusion_matrix, r2_score\n",
        "\n",
        "from sklearn.preprocessing import OneHotEncoder, OrdinalEncoder, LabelEncoder\n",
        "from sklearn.preprocessing import StandardScaler, MinMaxScaler\n",
        "from sklearn.decomposition import PCA\n",
        "from sklearn.model_selection import train_test_split\n",
        "from sklearn.model_selection import KFold, StratifiedKFold\n",
        "\n",
        "import tensorflow as tf\n",
        "from tensorflow import keras\n",
        "from tensorflow.keras import layers\n",
        "from keras.layers import Dense\n",
        "from tensorflow.keras.layers.experimental import preprocessing\n",
        "from keras import backend as K\n"
      ],
      "execution_count": 1,
      "outputs": []
    },
    {
      "cell_type": "markdown",
      "metadata": {
        "id": "sSV88mBGoZUa"
      },
      "source": [
        "# Data load and preprocessing"
      ]
    },
    {
      "cell_type": "code",
      "metadata": {
        "id": "-cj39Sj6FODV"
      },
      "source": [
        "# data can be downloaded from\n",
        "# however they are not in good format as delimiter is chosen badly\n",
        "# people from Masaryk Uni can access the dataset via \n",
        "#https://drive.google.com/file/d/19eCVbFxIbs6uwe7w5MPsdcYNh0uILPfJ/view?usp=sharing\n",
        "claim = pd.read_csv('/content/drive/MyDrive/Data/MTPL.csv')"
      ],
      "execution_count": 3,
      "outputs": []
    },
    {
      "cell_type": "code",
      "metadata": {
        "colab": {
          "base_uri": "https://localhost:8080/",
          "height": 0
        },
        "id": "lFmsKjhIPb2J",
        "outputId": "7565ab2b-c0c6-47a6-a07a-87d5b1e45d55"
      },
      "source": [
        "claim.head()"
      ],
      "execution_count": 4,
      "outputs": [
        {
          "output_type": "execute_result",
          "data": {
            "text/html": [
              "<div>\n",
              "<style scoped>\n",
              "    .dataframe tbody tr th:only-of-type {\n",
              "        vertical-align: middle;\n",
              "    }\n",
              "\n",
              "    .dataframe tbody tr th {\n",
              "        vertical-align: top;\n",
              "    }\n",
              "\n",
              "    .dataframe thead th {\n",
              "        text-align: right;\n",
              "    }\n",
              "</style>\n",
              "<table border=\"1\" class=\"dataframe\">\n",
              "  <thead>\n",
              "    <tr style=\"text-align: right;\">\n",
              "      <th></th>\n",
              "      <th>id</th>\n",
              "      <th>claims</th>\n",
              "      <th>expo</th>\n",
              "      <th>age</th>\n",
              "      <th>ac</th>\n",
              "      <th>power</th>\n",
              "      <th>gas</th>\n",
              "      <th>brand</th>\n",
              "      <th>area</th>\n",
              "      <th>dens</th>\n",
              "      <th>ct</th>\n",
              "      <th>truefreq</th>\n",
              "    </tr>\n",
              "  </thead>\n",
              "  <tbody>\n",
              "    <tr>\n",
              "      <th>0</th>\n",
              "      <td>1</td>\n",
              "      <td>0</td>\n",
              "      <td>0.33</td>\n",
              "      <td>66</td>\n",
              "      <td>4</td>\n",
              "      <td>3</td>\n",
              "      <td>Regular</td>\n",
              "      <td>B12</td>\n",
              "      <td>B</td>\n",
              "      <td>83</td>\n",
              "      <td>BE</td>\n",
              "      <td>0.059941</td>\n",
              "    </tr>\n",
              "    <tr>\n",
              "      <th>1</th>\n",
              "      <td>2</td>\n",
              "      <td>0</td>\n",
              "      <td>0.08</td>\n",
              "      <td>31</td>\n",
              "      <td>1</td>\n",
              "      <td>7</td>\n",
              "      <td>Diesel</td>\n",
              "      <td>B1</td>\n",
              "      <td>A</td>\n",
              "      <td>34</td>\n",
              "      <td>BL</td>\n",
              "      <td>0.119216</td>\n",
              "    </tr>\n",
              "    <tr>\n",
              "      <th>2</th>\n",
              "      <td>3</td>\n",
              "      <td>0</td>\n",
              "      <td>0.92</td>\n",
              "      <td>60</td>\n",
              "      <td>6</td>\n",
              "      <td>5</td>\n",
              "      <td>Diesel</td>\n",
              "      <td>B1</td>\n",
              "      <td>C</td>\n",
              "      <td>223</td>\n",
              "      <td>AG</td>\n",
              "      <td>0.074344</td>\n",
              "    </tr>\n",
              "    <tr>\n",
              "      <th>3</th>\n",
              "      <td>4</td>\n",
              "      <td>0</td>\n",
              "      <td>1.00</td>\n",
              "      <td>66</td>\n",
              "      <td>4</td>\n",
              "      <td>2</td>\n",
              "      <td>Diesel</td>\n",
              "      <td>B1</td>\n",
              "      <td>C</td>\n",
              "      <td>283</td>\n",
              "      <td>FR</td>\n",
              "      <td>0.092829</td>\n",
              "    </tr>\n",
              "    <tr>\n",
              "      <th>4</th>\n",
              "      <td>5</td>\n",
              "      <td>0</td>\n",
              "      <td>0.63</td>\n",
              "      <td>63</td>\n",
              "      <td>3</td>\n",
              "      <td>5</td>\n",
              "      <td>Regular</td>\n",
              "      <td>B12</td>\n",
              "      <td>B</td>\n",
              "      <td>74</td>\n",
              "      <td>VS</td>\n",
              "      <td>0.049981</td>\n",
              "    </tr>\n",
              "  </tbody>\n",
              "</table>\n",
              "</div>"
            ],
            "text/plain": [
              "   id  claims  expo  age  ac  power      gas brand area  dens  ct  truefreq\n",
              "0   1       0  0.33   66   4      3  Regular   B12    B    83  BE  0.059941\n",
              "1   2       0  0.08   31   1      7   Diesel    B1    A    34  BL  0.119216\n",
              "2   3       0  0.92   60   6      5   Diesel    B1    C   223  AG  0.074344\n",
              "3   4       0  1.00   66   4      2   Diesel    B1    C   283  FR  0.092829\n",
              "4   5       0  0.63   63   3      5  Regular   B12    B    74  VS  0.049981"
            ]
          },
          "metadata": {
            "tags": []
          },
          "execution_count": 4
        }
      ]
    },
    {
      "cell_type": "code",
      "metadata": {
        "colab": {
          "base_uri": "https://localhost:8080/"
        },
        "id": "X_RiEe70is8h",
        "outputId": "c6ff0d6d-555d-40cd-dbba-62ef9f81627c"
      },
      "source": [
        "claim.shape"
      ],
      "execution_count": 5,
      "outputs": [
        {
          "output_type": "execute_result",
          "data": {
            "text/plain": [
              "(500000, 12)"
            ]
          },
          "metadata": {
            "tags": []
          },
          "execution_count": 5
        }
      ]
    },
    {
      "cell_type": "code",
      "metadata": {
        "colab": {
          "base_uri": "https://localhost:8080/"
        },
        "id": "5PBaTUnkjjIW",
        "outputId": "7437d47e-b3d3-4e7e-c821-e0a9ac30b84d"
      },
      "source": [
        "claim.info()"
      ],
      "execution_count": 6,
      "outputs": [
        {
          "output_type": "stream",
          "text": [
            "<class 'pandas.core.frame.DataFrame'>\n",
            "RangeIndex: 500000 entries, 0 to 499999\n",
            "Data columns (total 12 columns):\n",
            " #   Column    Non-Null Count   Dtype  \n",
            "---  ------    --------------   -----  \n",
            " 0   id        500000 non-null  int64  \n",
            " 1   claims    500000 non-null  int64  \n",
            " 2   expo      500000 non-null  float64\n",
            " 3   age       500000 non-null  int64  \n",
            " 4   ac        500000 non-null  int64  \n",
            " 5   power     500000 non-null  int64  \n",
            " 6   gas       500000 non-null  object \n",
            " 7   brand     500000 non-null  object \n",
            " 8   area      500000 non-null  object \n",
            " 9   dens      500000 non-null  int64  \n",
            " 10  ct        500000 non-null  object \n",
            " 11  truefreq  500000 non-null  float64\n",
            "dtypes: float64(2), int64(6), object(4)\n",
            "memory usage: 45.8+ MB\n"
          ],
          "name": "stdout"
        }
      ]
    },
    {
      "cell_type": "code",
      "metadata": {
        "id": "tZABGip3ocm3"
      },
      "source": [
        "# obect columns are not good for model training, so we change their\n",
        "# datatype to category\n",
        "numerics = ['int64', 'float64']\n",
        "object_cols = claim.select_dtypes(\"object\").columns  # select object columns\n",
        "claim[object_cols] = claim[object_cols].astype('category')\n"
      ],
      "execution_count": 7,
      "outputs": []
    },
    {
      "cell_type": "code",
      "metadata": {
        "colab": {
          "base_uri": "https://localhost:8080/"
        },
        "id": "Rz95FWamoqJa",
        "outputId": "9d735b2d-32be-4476-ad81-f5e9cc5e0daf"
      },
      "source": [
        "claim.info()"
      ],
      "execution_count": 8,
      "outputs": [
        {
          "output_type": "stream",
          "text": [
            "<class 'pandas.core.frame.DataFrame'>\n",
            "RangeIndex: 500000 entries, 0 to 499999\n",
            "Data columns (total 12 columns):\n",
            " #   Column    Non-Null Count   Dtype   \n",
            "---  ------    --------------   -----   \n",
            " 0   id        500000 non-null  int64   \n",
            " 1   claims    500000 non-null  int64   \n",
            " 2   expo      500000 non-null  float64 \n",
            " 3   age       500000 non-null  int64   \n",
            " 4   ac        500000 non-null  int64   \n",
            " 5   power     500000 non-null  int64   \n",
            " 6   gas       500000 non-null  category\n",
            " 7   brand     500000 non-null  category\n",
            " 8   area      500000 non-null  category\n",
            " 9   dens      500000 non-null  int64   \n",
            " 10  ct        500000 non-null  category\n",
            " 11  truefreq  500000 non-null  float64 \n",
            "dtypes: category(4), float64(2), int64(6)\n",
            "memory usage: 32.4 MB\n"
          ],
          "name": "stdout"
        }
      ]
    },
    {
      "cell_type": "code",
      "metadata": {
        "colab": {
          "base_uri": "https://localhost:8080/",
          "height": 0
        },
        "id": "9UQHjJGisjzx",
        "outputId": "d9d2b6f9-03d5-40d3-af4e-2572d5fc7ed3"
      },
      "source": [
        "# numerical characteristics of dataset\n",
        "claim.describe(exclude='category')"
      ],
      "execution_count": 9,
      "outputs": [
        {
          "output_type": "execute_result",
          "data": {
            "text/html": [
              "<div>\n",
              "<style scoped>\n",
              "    .dataframe tbody tr th:only-of-type {\n",
              "        vertical-align: middle;\n",
              "    }\n",
              "\n",
              "    .dataframe tbody tr th {\n",
              "        vertical-align: top;\n",
              "    }\n",
              "\n",
              "    .dataframe thead th {\n",
              "        text-align: right;\n",
              "    }\n",
              "</style>\n",
              "<table border=\"1\" class=\"dataframe\">\n",
              "  <thead>\n",
              "    <tr style=\"text-align: right;\">\n",
              "      <th></th>\n",
              "      <th>id</th>\n",
              "      <th>claims</th>\n",
              "      <th>expo</th>\n",
              "      <th>age</th>\n",
              "      <th>ac</th>\n",
              "      <th>power</th>\n",
              "      <th>dens</th>\n",
              "      <th>truefreq</th>\n",
              "    </tr>\n",
              "  </thead>\n",
              "  <tbody>\n",
              "    <tr>\n",
              "      <th>count</th>\n",
              "      <td>500000.000000</td>\n",
              "      <td>500000.000000</td>\n",
              "      <td>500000.000000</td>\n",
              "      <td>500000.000000</td>\n",
              "      <td>500000.000000</td>\n",
              "      <td>500000.000000</td>\n",
              "      <td>500000.000000</td>\n",
              "      <td>500000.000000</td>\n",
              "    </tr>\n",
              "    <tr>\n",
              "      <th>mean</th>\n",
              "      <td>250000.500000</td>\n",
              "      <td>0.051966</td>\n",
              "      <td>0.506044</td>\n",
              "      <td>45.169664</td>\n",
              "      <td>6.568550</td>\n",
              "      <td>3.470314</td>\n",
              "      <td>1566.961430</td>\n",
              "      <td>0.111613</td>\n",
              "    </tr>\n",
              "    <tr>\n",
              "      <th>std</th>\n",
              "      <td>144337.711634</td>\n",
              "      <td>0.232503</td>\n",
              "      <td>0.353640</td>\n",
              "      <td>13.841937</td>\n",
              "      <td>5.436954</td>\n",
              "      <td>2.086814</td>\n",
              "      <td>3074.835538</td>\n",
              "      <td>0.077389</td>\n",
              "    </tr>\n",
              "    <tr>\n",
              "      <th>min</th>\n",
              "      <td>1.000000</td>\n",
              "      <td>0.000000</td>\n",
              "      <td>0.020000</td>\n",
              "      <td>18.000000</td>\n",
              "      <td>0.000000</td>\n",
              "      <td>1.000000</td>\n",
              "      <td>1.000000</td>\n",
              "      <td>0.004296</td>\n",
              "    </tr>\n",
              "    <tr>\n",
              "      <th>25%</th>\n",
              "      <td>125000.750000</td>\n",
              "      <td>0.000000</td>\n",
              "      <td>0.160000</td>\n",
              "      <td>34.000000</td>\n",
              "      <td>2.000000</td>\n",
              "      <td>2.000000</td>\n",
              "      <td>111.000000</td>\n",
              "      <td>0.072991</td>\n",
              "    </tr>\n",
              "    <tr>\n",
              "      <th>50%</th>\n",
              "      <td>250000.500000</td>\n",
              "      <td>0.000000</td>\n",
              "      <td>0.470000</td>\n",
              "      <td>44.000000</td>\n",
              "      <td>5.000000</td>\n",
              "      <td>3.000000</td>\n",
              "      <td>451.000000</td>\n",
              "      <td>0.091044</td>\n",
              "    </tr>\n",
              "    <tr>\n",
              "      <th>75%</th>\n",
              "      <td>375000.250000</td>\n",
              "      <td>0.000000</td>\n",
              "      <td>0.890000</td>\n",
              "      <td>54.000000</td>\n",
              "      <td>10.000000</td>\n",
              "      <td>4.000000</td>\n",
              "      <td>1753.000000</td>\n",
              "      <td>0.118862</td>\n",
              "    </tr>\n",
              "    <tr>\n",
              "      <th>max</th>\n",
              "      <td>500000.000000</td>\n",
              "      <td>3.000000</td>\n",
              "      <td>1.000000</td>\n",
              "      <td>90.000000</td>\n",
              "      <td>35.000000</td>\n",
              "      <td>12.000000</td>\n",
              "      <td>27000.000000</td>\n",
              "      <td>1.395911</td>\n",
              "    </tr>\n",
              "  </tbody>\n",
              "</table>\n",
              "</div>"
            ],
            "text/plain": [
              "                  id         claims  ...           dens       truefreq\n",
              "count  500000.000000  500000.000000  ...  500000.000000  500000.000000\n",
              "mean   250000.500000       0.051966  ...    1566.961430       0.111613\n",
              "std    144337.711634       0.232503  ...    3074.835538       0.077389\n",
              "min         1.000000       0.000000  ...       1.000000       0.004296\n",
              "25%    125000.750000       0.000000  ...     111.000000       0.072991\n",
              "50%    250000.500000       0.000000  ...     451.000000       0.091044\n",
              "75%    375000.250000       0.000000  ...    1753.000000       0.118862\n",
              "max    500000.000000       3.000000  ...   27000.000000       1.395911\n",
              "\n",
              "[8 rows x 8 columns]"
            ]
          },
          "metadata": {
            "tags": []
          },
          "execution_count": 9
        }
      ]
    },
    {
      "cell_type": "code",
      "metadata": {
        "colab": {
          "base_uri": "https://localhost:8080/"
        },
        "id": "Y1M-qMaTjxHz",
        "outputId": "4e327ed9-94f3-4c5d-8f9e-49f7dedc1346"
      },
      "source": [
        "# no empty / nan values\n",
        "claim.isnull().sum() "
      ],
      "execution_count": 10,
      "outputs": [
        {
          "output_type": "execute_result",
          "data": {
            "text/plain": [
              "id          0\n",
              "claims      0\n",
              "expo        0\n",
              "age         0\n",
              "ac          0\n",
              "power       0\n",
              "gas         0\n",
              "brand       0\n",
              "area        0\n",
              "dens        0\n",
              "ct          0\n",
              "truefreq    0\n",
              "dtype: int64"
            ]
          },
          "metadata": {
            "tags": []
          },
          "execution_count": 10
        }
      ]
    },
    {
      "cell_type": "code",
      "metadata": {
        "colab": {
          "base_uri": "https://localhost:8080/",
          "height": 0
        },
        "id": "ak4-DstXwKNm",
        "outputId": "3cc2d9dd-0a8d-48c0-d093-48316d85dcec"
      },
      "source": [
        "# pie plot showing the distribution of claim counts\n",
        "\n",
        "fig, ax = plt.subplots(figsize=(6, 3), subplot_kw=dict(aspect=\"equal\"))\n",
        "dat = claim.claims.value_counts()\n",
        "\n",
        "def func(pct, allvals):\n",
        "    absolute = int(round(pct/100.*np.sum(allvals)))\n",
        "    return \"{:.1f}%\\n({:d} g)\".format(pct, absolute)\n",
        "\n",
        "\n",
        "wedges, autotexts = ax.pie(dat, explode = [0,0.5,0.5,0.5], startangle = 30, radius = 1.3, textprops=dict(color=\"w\"))\n",
        "\n",
        "ax.legend(wedges, ['0 -  95.03%','1 -  4.75%','2 -  0.20%','3 -  0.01%'],\n",
        "                    loc=\"lower left\",\n",
        "          bbox_to_anchor=(1, 0, 0.5, 1))\n",
        "\n",
        "plt.setp(autotexts, size=8, weight=\"bold\")\n",
        "\n",
        "plt.show()"
      ],
      "execution_count": 11,
      "outputs": [
        {
          "output_type": "display_data",
          "data": {
            "image/png": "[encoded data removed]",
            "text/plain": [
              "<Figure size 432x216 with 1 Axes>"
            ]
          },
          "metadata": {
            "tags": []
          }
        }
      ]
    },
    {
      "cell_type": "markdown",
      "metadata": {
        "id": "t6lVdazuwJ5q"
      },
      "source": [
        ""
      ]
    },
    {
      "cell_type": "code",
      "metadata": {
        "colab": {
          "base_uri": "https://localhost:8080/"
        },
        "id": "_8v3JF3M62_w",
        "outputId": "984be839-3c01-4264-f792-1c853bb62b3c"
      },
      "source": [
        "# we have only three target labels\n",
        "claim.claims.value_counts()/claim.shape[0] * 100"
      ],
      "execution_count": 12,
      "outputs": [
        {
          "output_type": "execute_result",
          "data": {
            "text/plain": [
              "0    95.0306\n",
              "1     4.7546\n",
              "2     0.2024\n",
              "3     0.0124\n",
              "Name: claims, dtype: float64"
            ]
          },
          "metadata": {
            "tags": []
          },
          "execution_count": 12
        }
      ]
    },
    {
      "cell_type": "code",
      "metadata": {
        "colab": {
          "base_uri": "https://localhost:8080/"
        },
        "id": "aEx7Vrt-pbvM",
        "outputId": "855139b4-b474-42ad-b207-04cc2f857558"
      },
      "source": [
        "# car owner age distribution\n",
        "print(claim.age.unique().size)\n",
        "np.sort(claim.age.unique())\n"
      ],
      "execution_count": 13,
      "outputs": [
        {
          "output_type": "stream",
          "text": [
            "73\n"
          ],
          "name": "stdout"
        },
        {
          "output_type": "execute_result",
          "data": {
            "text/plain": [
              "array([18, 19, 20, 21, 22, 23, 24, 25, 26, 27, 28, 29, 30, 31, 32, 33, 34,\n",
              "       35, 36, 37, 38, 39, 40, 41, 42, 43, 44, 45, 46, 47, 48, 49, 50, 51,\n",
              "       52, 53, 54, 55, 56, 57, 58, 59, 60, 61, 62, 63, 64, 65, 66, 67, 68,\n",
              "       69, 70, 71, 72, 73, 74, 75, 76, 77, 78, 79, 80, 81, 82, 83, 84, 85,\n",
              "       86, 87, 88, 89, 90])"
            ]
          },
          "metadata": {
            "tags": []
          },
          "execution_count": 13
        }
      ]
    },
    {
      "cell_type": "code",
      "metadata": {
        "colab": {
          "base_uri": "https://localhost:8080/"
        },
        "id": "ZvHQieuDqFoO",
        "outputId": "322a8395-eb29-4109-93ab-6a95dda73a77"
      },
      "source": [
        "# exposition period with maxium of 1 y, minimum 0.02 y and mean 0.51 y\n",
        "print(np.min(claim.expo))\n",
        "print(np.max(claim.expo))\n",
        "print(round(np.mean(claim.expo), 2))"
      ],
      "execution_count": 14,
      "outputs": [
        {
          "output_type": "stream",
          "text": [
            "0.02\n",
            "1.0\n",
            "0.51\n"
          ],
          "name": "stdout"
        }
      ]
    },
    {
      "cell_type": "code",
      "metadata": {
        "colab": {
          "base_uri": "https://localhost:8080/",
          "height": 0
        },
        "id": "ALAxcJV9AJrt",
        "outputId": "6a1b7cd7-526f-4d12-efb1-650d1d079fcc"
      },
      "source": [
        "# boxplot for exposition period distribution\n",
        "sns.set_theme(style=\"whitegrid\")\n",
        "sns.boxplot(x = 'expo', data = claim)"
      ],
      "execution_count": 15,
      "outputs": [
        {
          "output_type": "execute_result",
          "data": {
            "text/plain": [
              "<matplotlib.axes._subplots.AxesSubplot at 0x7f3218b3d250>"
            ]
          },
          "metadata": {
            "tags": []
          },
          "execution_count": 15
        },
        {
          "output_type": "display_data",
          "data": {
            "image/png": "[encoded data removed]",
            "text/plain": [
              "<Figure size 432x288 with 1 Axes>"
            ]
          },
          "metadata": {
            "tags": []
          }
        }
      ]
    },
    {
      "cell_type": "code",
      "metadata": {
        "colab": {
          "base_uri": "https://localhost:8080/"
        },
        "id": "keW00C5OrLM0",
        "outputId": "20fff864-a61c-49da-8ff6-67cc54391ca4"
      },
      "source": [
        "# 11 car brand categories\n",
        "print(claim.brand.unique())"
      ],
      "execution_count": 16,
      "outputs": [
        {
          "output_type": "stream",
          "text": [
            "['B12', 'B1', 'B2', 'B13', 'B3', ..., 'B10', 'B5', 'B14', 'B6', 'B11']\n",
            "Length: 11\n",
            "Categories (11, object): ['B12', 'B1', 'B2', 'B13', ..., 'B5', 'B14', 'B6', 'B11']\n"
          ],
          "name": "stdout"
        }
      ]
    },
    {
      "cell_type": "code",
      "metadata": {
        "colab": {
          "base_uri": "https://localhost:8080/"
        },
        "id": "FWgJTVM1rTTK",
        "outputId": "1ff7bd5f-53eb-42cc-bed6-6da9c1f5cccf"
      },
      "source": [
        "# 6 area size categories\n",
        "print(claim.area.unique())"
      ],
      "execution_count": 17,
      "outputs": [
        {
          "output_type": "stream",
          "text": [
            "['B', 'A', 'C', 'D', 'E', 'F']\n",
            "Categories (6, object): ['B', 'A', 'C', 'D', 'E', 'F']\n"
          ],
          "name": "stdout"
        }
      ]
    },
    {
      "cell_type": "code",
      "metadata": {
        "colab": {
          "base_uri": "https://localhost:8080/"
        },
        "id": "UoDeRvOtrXtX",
        "outputId": "bfb3ac6e-8e14-463d-bafc-1c3382ca9202"
      },
      "source": [
        "# 26 license plate categories (Swiss cantons)\n",
        "print(claim.ct.unique())"
      ],
      "execution_count": 18,
      "outputs": [
        {
          "output_type": "stream",
          "text": [
            "['BE', 'BL', 'AG', 'FR', 'VS', ..., 'TI', 'BS', 'UR', 'AR', 'AI']\n",
            "Length: 26\n",
            "Categories (26, object): ['BE', 'BL', 'AG', 'FR', ..., 'BS', 'UR', 'AR', 'AI']\n"
          ],
          "name": "stdout"
        }
      ]
    },
    {
      "cell_type": "code",
      "metadata": {
        "colab": {
          "base_uri": "https://localhost:8080/",
          "height": 0
        },
        "id": "kkYmczHCERnk",
        "outputId": "edd6cf99-d69b-4183-9737-31d05c24bf3a"
      },
      "source": [
        "# Distribution of type of fuel\n",
        "ax = countplot(data=claim,x='gas')\n",
        "ax.set_xticklabels([\"diesel\",\"benzín\"])\n",
        "ax.set_ylabel(\"Počet pozorovaní\")\n",
        "ax.set_xlabel(\"\")\n",
        "\n",
        "show()"
      ],
      "execution_count": 19,
      "outputs": [
        {
          "output_type": "display_data",
          "data": {
            "image/png": "[encoded data removed]",
            "text/plain": [
              "<Figure size 432x288 with 1 Axes>"
            ]
          },
          "metadata": {
            "tags": []
          }
        }
      ]
    },
    {
      "cell_type": "code",
      "metadata": {
        "colab": {
          "base_uri": "https://localhost:8080/",
          "height": 0
        },
        "id": "mrbxdNpe9hBK",
        "outputId": "e9aff59f-8b69-41d0-f85f-d6914d62f76e"
      },
      "source": [
        "# drop unimportant columns, claims/expo is response, \n",
        "# truefreq we dont use in modelling, only on for evaluation\n",
        "x = claim.drop(['id', 'claims', 'expo', 'truefreq'], axis = 1)\n",
        "# x is dataset of all 8 features\n",
        "x.head()"
      ],
      "execution_count": 20,
      "outputs": [
        {
          "output_type": "execute_result",
          "data": {
            "text/html": [
              "<div>\n",
              "<style scoped>\n",
              "    .dataframe tbody tr th:only-of-type {\n",
              "        vertical-align: middle;\n",
              "    }\n",
              "\n",
              "    .dataframe tbody tr th {\n",
              "        vertical-align: top;\n",
              "    }\n",
              "\n",
              "    .dataframe thead th {\n",
              "        text-align: right;\n",
              "    }\n",
              "</style>\n",
              "<table border=\"1\" class=\"dataframe\">\n",
              "  <thead>\n",
              "    <tr style=\"text-align: right;\">\n",
              "      <th></th>\n",
              "      <th>age</th>\n",
              "      <th>ac</th>\n",
              "      <th>power</th>\n",
              "      <th>gas</th>\n",
              "      <th>brand</th>\n",
              "      <th>area</th>\n",
              "      <th>dens</th>\n",
              "      <th>ct</th>\n",
              "    </tr>\n",
              "  </thead>\n",
              "  <tbody>\n",
              "    <tr>\n",
              "      <th>0</th>\n",
              "      <td>66</td>\n",
              "      <td>4</td>\n",
              "      <td>3</td>\n",
              "      <td>Regular</td>\n",
              "      <td>B12</td>\n",
              "      <td>B</td>\n",
              "      <td>83</td>\n",
              "      <td>BE</td>\n",
              "    </tr>\n",
              "    <tr>\n",
              "      <th>1</th>\n",
              "      <td>31</td>\n",
              "      <td>1</td>\n",
              "      <td>7</td>\n",
              "      <td>Diesel</td>\n",
              "      <td>B1</td>\n",
              "      <td>A</td>\n",
              "      <td>34</td>\n",
              "      <td>BL</td>\n",
              "    </tr>\n",
              "    <tr>\n",
              "      <th>2</th>\n",
              "      <td>60</td>\n",
              "      <td>6</td>\n",
              "      <td>5</td>\n",
              "      <td>Diesel</td>\n",
              "      <td>B1</td>\n",
              "      <td>C</td>\n",
              "      <td>223</td>\n",
              "      <td>AG</td>\n",
              "    </tr>\n",
              "    <tr>\n",
              "      <th>3</th>\n",
              "      <td>66</td>\n",
              "      <td>4</td>\n",
              "      <td>2</td>\n",
              "      <td>Diesel</td>\n",
              "      <td>B1</td>\n",
              "      <td>C</td>\n",
              "      <td>283</td>\n",
              "      <td>FR</td>\n",
              "    </tr>\n",
              "    <tr>\n",
              "      <th>4</th>\n",
              "      <td>63</td>\n",
              "      <td>3</td>\n",
              "      <td>5</td>\n",
              "      <td>Regular</td>\n",
              "      <td>B12</td>\n",
              "      <td>B</td>\n",
              "      <td>74</td>\n",
              "      <td>VS</td>\n",
              "    </tr>\n",
              "  </tbody>\n",
              "</table>\n",
              "</div>"
            ],
            "text/plain": [
              "   age  ac  power      gas brand area  dens  ct\n",
              "0   66   4      3  Regular   B12    B    83  BE\n",
              "1   31   1      7   Diesel    B1    A    34  BL\n",
              "2   60   6      5   Diesel    B1    C   223  AG\n",
              "3   66   4      2   Diesel    B1    C   283  FR\n",
              "4   63   3      5  Regular   B12    B    74  VS"
            ]
          },
          "metadata": {
            "tags": []
          },
          "execution_count": 20
        }
      ]
    },
    {
      "cell_type": "code",
      "metadata": {
        "colab": {
          "base_uri": "https://localhost:8080/",
          "height": 0
        },
        "id": "wZIsDxj19EIv",
        "outputId": "f8789cd8-4450-4b36-cd06-dc424a985125"
      },
      "source": [
        "# correlation between numerical features\n",
        "x.corr()"
      ],
      "execution_count": 21,
      "outputs": [
        {
          "output_type": "execute_result",
          "data": {
            "text/html": [
              "<div>\n",
              "<style scoped>\n",
              "    .dataframe tbody tr th:only-of-type {\n",
              "        vertical-align: middle;\n",
              "    }\n",
              "\n",
              "    .dataframe tbody tr th {\n",
              "        vertical-align: top;\n",
              "    }\n",
              "\n",
              "    .dataframe thead th {\n",
              "        text-align: right;\n",
              "    }\n",
              "</style>\n",
              "<table border=\"1\" class=\"dataframe\">\n",
              "  <thead>\n",
              "    <tr style=\"text-align: right;\">\n",
              "      <th></th>\n",
              "      <th>age</th>\n",
              "      <th>ac</th>\n",
              "      <th>power</th>\n",
              "      <th>dens</th>\n",
              "    </tr>\n",
              "  </thead>\n",
              "  <tbody>\n",
              "    <tr>\n",
              "      <th>age</th>\n",
              "      <td>1.000000</td>\n",
              "      <td>-0.073371</td>\n",
              "      <td>0.042067</td>\n",
              "      <td>-0.005100</td>\n",
              "    </tr>\n",
              "    <tr>\n",
              "      <th>ac</th>\n",
              "      <td>-0.073371</td>\n",
              "      <td>1.000000</td>\n",
              "      <td>0.002280</td>\n",
              "      <td>-0.035581</td>\n",
              "    </tr>\n",
              "    <tr>\n",
              "      <th>power</th>\n",
              "      <td>0.042067</td>\n",
              "      <td>0.002280</td>\n",
              "      <td>1.000000</td>\n",
              "      <td>0.016526</td>\n",
              "    </tr>\n",
              "    <tr>\n",
              "      <th>dens</th>\n",
              "      <td>-0.005100</td>\n",
              "      <td>-0.035581</td>\n",
              "      <td>0.016526</td>\n",
              "      <td>1.000000</td>\n",
              "    </tr>\n",
              "  </tbody>\n",
              "</table>\n",
              "</div>"
            ],
            "text/plain": [
              "            age        ac     power      dens\n",
              "age    1.000000 -0.073371  0.042067 -0.005100\n",
              "ac    -0.073371  1.000000  0.002280 -0.035581\n",
              "power  0.042067  0.002280  1.000000  0.016526\n",
              "dens  -0.005100 -0.035581  0.016526  1.000000"
            ]
          },
          "metadata": {
            "tags": []
          },
          "execution_count": 21
        }
      ]
    },
    {
      "cell_type": "markdown",
      "metadata": {
        "id": "kIBgS40qZGaJ"
      },
      "source": [
        "# Scaling and one-hot-encoding"
      ]
    },
    {
      "cell_type": "code",
      "metadata": {
        "id": "p89ncQP1ZJVO"
      },
      "source": [
        "onehot = OneHotEncoder()\n",
        "gasenc = LabelEncoder()\n",
        "minmax = MinMaxScaler(feature_range=(-1 , 1))"
      ],
      "execution_count": 22,
      "outputs": []
    },
    {
      "cell_type": "code",
      "metadata": {
        "id": "yPrjAeqbdKNn"
      },
      "source": [
        "# transform area to numeric categories\n",
        "x['area'] = x['area'].cat.codes\n"
      ],
      "execution_count": 23,
      "outputs": []
    },
    {
      "cell_type": "code",
      "metadata": {
        "id": "uzOUkEHaoaQb"
      },
      "source": [
        "# transform dens to log dens (we follow the initial article of \n",
        "# M. V. Wuthrich - Data Analytics for Non-Life Insurance Pricing, 2020)\n",
        "x['dens'] = np.log(x['dens'])"
      ],
      "execution_count": 24,
      "outputs": []
    },
    {
      "cell_type": "code",
      "metadata": {
        "colab": {
          "base_uri": "https://localhost:8080/",
          "height": 194
        },
        "id": "4kPpfKPI4Hbx",
        "outputId": "1c0605e0-fdbe-4bba-ab43-801c8a079562"
      },
      "source": [
        "# correlation of numerical features \n",
        "# significant correlation between area and dens\n",
        "x.corr()"
      ],
      "execution_count": 25,
      "outputs": [
        {
          "output_type": "execute_result",
          "data": {
            "text/html": [
              "<div>\n",
              "<style scoped>\n",
              "    .dataframe tbody tr th:only-of-type {\n",
              "        vertical-align: middle;\n",
              "    }\n",
              "\n",
              "    .dataframe tbody tr th {\n",
              "        vertical-align: top;\n",
              "    }\n",
              "\n",
              "    .dataframe thead th {\n",
              "        text-align: right;\n",
              "    }\n",
              "</style>\n",
              "<table border=\"1\" class=\"dataframe\">\n",
              "  <thead>\n",
              "    <tr style=\"text-align: right;\">\n",
              "      <th></th>\n",
              "      <th>age</th>\n",
              "      <th>ac</th>\n",
              "      <th>power</th>\n",
              "      <th>area</th>\n",
              "      <th>dens</th>\n",
              "    </tr>\n",
              "  </thead>\n",
              "  <tbody>\n",
              "    <tr>\n",
              "      <th>age</th>\n",
              "      <td>1.000000</td>\n",
              "      <td>-0.073371</td>\n",
              "      <td>0.042067</td>\n",
              "      <td>-0.030323</td>\n",
              "      <td>-0.030430</td>\n",
              "    </tr>\n",
              "    <tr>\n",
              "      <th>ac</th>\n",
              "      <td>-0.073371</td>\n",
              "      <td>1.000000</td>\n",
              "      <td>0.002280</td>\n",
              "      <td>-0.023891</td>\n",
              "      <td>-0.022357</td>\n",
              "    </tr>\n",
              "    <tr>\n",
              "      <th>power</th>\n",
              "      <td>0.042067</td>\n",
              "      <td>0.002280</td>\n",
              "      <td>1.000000</td>\n",
              "      <td>-0.026590</td>\n",
              "      <td>-0.025594</td>\n",
              "    </tr>\n",
              "    <tr>\n",
              "      <th>area</th>\n",
              "      <td>-0.030323</td>\n",
              "      <td>-0.023891</td>\n",
              "      <td>-0.026590</td>\n",
              "      <td>1.000000</td>\n",
              "      <td>0.968001</td>\n",
              "    </tr>\n",
              "    <tr>\n",
              "      <th>dens</th>\n",
              "      <td>-0.030430</td>\n",
              "      <td>-0.022357</td>\n",
              "      <td>-0.025594</td>\n",
              "      <td>0.968001</td>\n",
              "      <td>1.000000</td>\n",
              "    </tr>\n",
              "  </tbody>\n",
              "</table>\n",
              "</div>"
            ],
            "text/plain": [
              "            age        ac     power      area      dens\n",
              "age    1.000000 -0.073371  0.042067 -0.030323 -0.030430\n",
              "ac    -0.073371  1.000000  0.002280 -0.023891 -0.022357\n",
              "power  0.042067  0.002280  1.000000 -0.026590 -0.025594\n",
              "area  -0.030323 -0.023891 -0.026590  1.000000  0.968001\n",
              "dens  -0.030430 -0.022357 -0.025594  0.968001  1.000000"
            ]
          },
          "metadata": {
            "tags": []
          },
          "execution_count": 25
        }
      ]
    },
    {
      "cell_type": "code",
      "metadata": {
        "id": "YyP3f785agg4"
      },
      "source": [
        "# numerical we use min max scaler to map to interval [-1,1]\n",
        "x[['age', 'ac', 'power', 'dens', 'area']] = minmax.fit_transform(x[['age', 'ac', 'power', 'dens', 'area']])"
      ],
      "execution_count": 26,
      "outputs": []
    },
    {
      "cell_type": "code",
      "metadata": {
        "id": "pdVdummBqRue"
      },
      "source": [
        "# gas is transformed into two categories, -1.5, +1.5\n",
        "x['gas'] = x.gas.factorize()[0] - 0.5"
      ],
      "execution_count": 27,
      "outputs": []
    },
    {
      "cell_type": "code",
      "metadata": {
        "id": "LAmapRoO_war"
      },
      "source": [
        "# One hot encoding with drop first\n",
        "x = pd.get_dummies(x, drop_first=True, columns = ['brand', 'ct'])"
      ],
      "execution_count": 28,
      "outputs": []
    },
    {
      "cell_type": "markdown",
      "metadata": {
        "id": "athhby7dKp6j"
      },
      "source": [
        "# Funkcie"
      ]
    },
    {
      "cell_type": "code",
      "metadata": {
        "id": "a8t7gAekKpnU"
      },
      "source": [
        "# plotting the loss\n",
        "def plot_loss(history, yran,  measure = 'loss',\n",
        "              valmeasure = 'val_loss', val = True):\n",
        "  plt.plot(history.history[measure], label=measure)\n",
        "  if val:\n",
        "    plt.plot(history.history[valmeasure], label=valmeasure)\n",
        "  plt.ylim(yran)\n",
        "  plt.xlabel('Epoch')\n",
        "  plt.ylabel('Deviance')\n",
        "  plt.legend()\n",
        "  plt.grid(True)\n",
        "\n",
        "# logarithm limit in deviance\n",
        "def limit_log(mu, N):\n",
        "  result = []\n",
        "  for i in range(len(N)):\n",
        "    if (N[i] > 0):\n",
        "      result.append(N[i] * np.log(N[i] / mu[i]))\n",
        "    else:\n",
        "      result.append(0)\n",
        "  return np.asarray(result)\n",
        "\n",
        "# deviance according to Wuthrix\n",
        "def deviance(lambd, v, N, eps = False):\n",
        "  if not eps:\n",
        "    result = 2 *( lambd * v - N + limit_log(lambd * v, N)).mean()  \n",
        "  else:\n",
        "    result = (2 * v *( lambd - N + limit_log(lambd, N))).mean()\n",
        "  return result"
      ],
      "execution_count": 79,
      "outputs": []
    },
    {
      "cell_type": "code",
      "metadata": {
        "colab": {
          "base_uri": "https://localhost:8080/"
        },
        "id": "pluq9gydRDP1",
        "outputId": "ca3b4168-6ef0-4542-b02c-007ddcaa9811"
      },
      "source": [
        "type(v)"
      ],
      "execution_count": 95,
      "outputs": [
        {
          "output_type": "execute_result",
          "data": {
            "text/plain": [
              "pandas.core.series.Series"
            ]
          },
          "metadata": {
            "tags": []
          },
          "execution_count": 95
        }
      ]
    },
    {
      "cell_type": "markdown",
      "metadata": {
        "id": "32bi7WuroF3J"
      },
      "source": [
        "# Homogenny pripad"
      ]
    },
    {
      "cell_type": "code",
      "metadata": {
        "id": "Och6OAYFLOMW"
      },
      "source": [
        "# target\n",
        "y = claim.claims\n",
        "# offset\n",
        "v = claim.expo"
      ],
      "execution_count": 71,
      "outputs": []
    },
    {
      "cell_type": "code",
      "metadata": {
        "colab": {
          "base_uri": "https://localhost:8080/"
        },
        "id": "hcwBXteUALHV",
        "outputId": "ba843a8c-25d5-4b3c-d765-78fe37924c50"
      },
      "source": [
        "# true frequency\n",
        "truefreq = claim.truefreq\n",
        "# true average frequency\n",
        "lambda_star_mean = np.dot(truefreq, v) / v.sum()\n",
        "print(lambda_star_mean)"
      ],
      "execution_count": 72,
      "outputs": [
        {
          "output_type": "stream",
          "text": [
            "0.10199107887858049\n"
          ],
          "name": "stdout"
        }
      ]
    },
    {
      "cell_type": "code",
      "metadata": {
        "colab": {
          "base_uri": "https://localhost:8080/"
        },
        "id": "OIz4HHosgyli",
        "outputId": "b804cc41-3b48-4f84-9fb0-8baa677a3c61"
      },
      "source": [
        "# deviancia truefreq\n",
        "deviance(truefreq, v, y)"
      ],
      "execution_count": 80,
      "outputs": [
        {
          "output_type": "execute_result",
          "data": {
            "text/plain": [
              "0.2772782297550223"
            ]
          },
          "metadata": {
            "tags": []
          },
          "execution_count": 80
        }
      ]
    },
    {
      "cell_type": "code",
      "metadata": {
        "colab": {
          "base_uri": "https://localhost:8080/"
        },
        "id": "3e2d0udIAaTl",
        "outputId": "aadcad91-cb30-4995-f109-1dfa60bf440b"
      },
      "source": [
        "%%time\n",
        "# Homogenous portfolio frequency\n",
        "lambda_hat = y.sum()/v.sum()\n",
        "print(lambda_hat)"
      ],
      "execution_count": 81,
      "outputs": [
        {
          "output_type": "stream",
          "text": [
            "0.10269062235781508\n",
            "CPU times: user 4.44 ms, sys: 35 µs, total: 4.48 ms\n",
            "Wall time: 8.08 ms\n"
          ],
          "name": "stdout"
        }
      ]
    },
    {
      "cell_type": "code",
      "metadata": {
        "colab": {
          "base_uri": "https://localhost:8080/"
        },
        "id": "b79qytIbam05",
        "outputId": "d97689cc-f0af-4d1b-9814-52fbf720193e"
      },
      "source": [
        "# mean number of insurance claims\n",
        "y.mean()"
      ],
      "execution_count": 75,
      "outputs": [
        {
          "output_type": "execute_result",
          "data": {
            "text/plain": [
              "0.051966"
            ]
          },
          "metadata": {
            "tags": []
          },
          "execution_count": 75
        }
      ]
    },
    {
      "cell_type": "code",
      "metadata": {
        "colab": {
          "base_uri": "https://localhost:8080/"
        },
        "id": "jXNPiOj3iEYp",
        "outputId": "c6b11df6-fa0b-4ba6-cc65-c4405f7759b5"
      },
      "source": [
        "# deviancia homogenous\n",
        "deviance(lambda_hat, v, y)"
      ],
      "execution_count": 82,
      "outputs": [
        {
          "output_type": "execute_result",
          "data": {
            "text/plain": [
              "0.29106463979989994"
            ]
          },
          "metadata": {
            "tags": []
          },
          "execution_count": 82
        }
      ]
    },
    {
      "cell_type": "code",
      "metadata": {
        "colab": {
          "base_uri": "https://localhost:8080/"
        },
        "id": "Al30tkiNjFne",
        "outputId": "9a3f9a59-b3df-42e2-9064-bf90bf4a6e33"
      },
      "source": [
        "#eps\n",
        "lh = np.ones(len(truefreq)) * lambda_hat\n",
        "deviance(lh, v, truefreq, eps = True)"
      ],
      "execution_count": 83,
      "outputs": [
        {
          "output_type": "execute_result",
          "data": {
            "text/plain": [
              "0.013439341841768367"
            ]
          },
          "metadata": {
            "tags": []
          },
          "execution_count": 83
        }
      ]
    },
    {
      "cell_type": "code",
      "metadata": {
        "id": "yeCResVJaztL",
        "colab": {
          "base_uri": "https://localhost:8080/"
        },
        "outputId": "62cb5230-b060-4f47-a5c6-ca079e37c886"
      },
      "source": [
        "# expected number of claims\n",
        "av = (claim.truefreq * claim.expo ).mean()\n",
        "print(av)"
      ],
      "execution_count": 78,
      "outputs": [
        {
          "output_type": "stream",
          "text": [
            "0.05161200003771397\n"
          ],
          "name": "stdout"
        }
      ]
    },
    {
      "cell_type": "markdown",
      "metadata": {
        "id": "LJYdXk2L_UHd"
      },
      "source": [
        "# Modely"
      ]
    },
    {
      "cell_type": "code",
      "metadata": {
        "id": "h-TJE1138Do4"
      },
      "source": [
        "# lv is offset\n",
        "lv = np.log(v) \n",
        "# train and valid set\n",
        "x_train, x_valid, y_train, y_valid = train_test_split(x, y, test_size=0.1, shuffle = True)"
      ],
      "execution_count": 34,
      "outputs": []
    },
    {
      "cell_type": "markdown",
      "metadata": {
        "id": "NEJLqbhl_gWo"
      },
      "source": [
        "## Deep"
      ]
    },
    {
      "cell_type": "code",
      "metadata": {
        "id": "W2Dw5ry4EMub"
      },
      "source": [
        "df = x\n",
        "# hyperparametre\n",
        "batch = 1000\n",
        "epoch = 100"
      ],
      "execution_count": 43,
      "outputs": []
    },
    {
      "cell_type": "code",
      "metadata": {
        "colab": {
          "base_uri": "https://localhost:8080/"
        },
        "id": "vLMpMag9CABw",
        "outputId": "58592160-7e80-49cd-adc4-a83a9098a1f0"
      },
      "source": [
        "Design = tf.keras.Input(shape=(41,), name = 'Design')\n",
        "LogVol = tf.keras.Input(shape=(1,), name = 'LogVol')\n",
        "layer1  = layers.Dense(20, activation = 'tanh', name = 'Layer1')(Design)\n",
        "layer2  = layers.Dense(15, activation= 'tanh',  name = 'Layer2')(layer1)\n",
        "layer3  = layers.Dense(10, activation= 'tanh',  name = 'Layer3')(layer2)\n",
        "Network = layers.Dense(1, activation= 'linear', name = 'Network', \n",
        "                        kernel_initializer = tf.keras.initializers.Constant(0.),\n",
        " bias_initializer = tf.keras.initializers.Constant(lambda_hat))(layer3)\n",
        "addition = layers.add([Network, LogVol], name = 'Add')\n",
        "response = layers.Dense(1, activation='exponential'\n",
        ", name = 'Response', trainable=False, kernel_initializer = tf.keras.initializers.Constant(1.),\n",
        " bias_initializer = tf.keras.initializers.Constant(0.))(addition)\n",
        "deep_full = keras.Model(\n",
        "    inputs = [Design,LogVol],\n",
        "    outputs = response\n",
        ")\n",
        "\n",
        "deep_full.compile(loss = 'poisson', optimizer = tf.keras.optimizers.Nadam(\n",
        "    learning_rate=0.002, beta_1=0.9, beta_2=0.999, epsilon=None))\n",
        "\n",
        "deep_full.build(input_shape=(41,))\n",
        "deep_full.summary()"
      ],
      "execution_count": 40,
      "outputs": [
        {
          "output_type": "stream",
          "text": [
            "Model: \"model_2\"\n",
            "__________________________________________________________________________________________________\n",
            "Layer (type)                    Output Shape         Param #     Connected to                     \n",
            "==================================================================================================\n",
            "Design (InputLayer)             [(None, 41)]         0                                            \n",
            "__________________________________________________________________________________________________\n",
            "Layer1 (Dense)                  (None, 20)           840         Design[0][0]                     \n",
            "__________________________________________________________________________________________________\n",
            "Layer2 (Dense)                  (None, 15)           315         Layer1[0][0]                     \n",
            "__________________________________________________________________________________________________\n",
            "Layer3 (Dense)                  (None, 10)           160         Layer2[0][0]                     \n",
            "__________________________________________________________________________________________________\n",
            "Network (Dense)                 (None, 1)            11          Layer3[0][0]                     \n",
            "__________________________________________________________________________________________________\n",
            "LogVol (InputLayer)             [(None, 1)]          0                                            \n",
            "__________________________________________________________________________________________________\n",
            "Add (Add)                       (None, 1)            0           Network[0][0]                    \n",
            "                                                                 LogVol[0][0]                     \n",
            "__________________________________________________________________________________________________\n",
            "Response (Dense)                (None, 1)            2           Add[0][0]                        \n",
            "==================================================================================================\n",
            "Total params: 1,328\n",
            "Trainable params: 1,326\n",
            "Non-trainable params: 2\n",
            "__________________________________________________________________________________________________\n"
          ],
          "name": "stdout"
        }
      ]
    },
    {
      "cell_type": "code",
      "metadata": {
        "colab": {
          "base_uri": "https://localhost:8080/",
          "height": 89
        },
        "id": "GJaPTjeokPHZ",
        "outputId": "a2b9dfe4-3e07-4986-f054-f9a1e2e3171c"
      },
      "source": [
        "# initial first bad guess\n",
        "'''\n",
        "model = keras.Sequential([\n",
        "                          layers.InputLayer(input_shape=(41,)),\n",
        "                          layers.Dense(20, activation = 'tanh'),\n",
        "                          layers.Dense(15, activation= 'tanh'),\n",
        "                          layers.Dense(10, activation= 'tanh'),\n",
        "                          layers.Dense(1, activation= 'linear'),\n",
        "                          layers.Dense(units = 1, activation= 'exponential', trainable=False)\n",
        "\n",
        "])\n",
        "model.compile(loss = 'poisson', optimizer = tf.keras.optimizers.Nadam(\n",
        "    learning_rate=0.002, beta_1=0.9, beta_2=0.999, epsilon=1e-07))\n",
        "\n",
        "'''"
      ],
      "execution_count": 73,
      "outputs": [
        {
          "output_type": "execute_result",
          "data": {
            "application/vnd.google.colaboratory.intrinsic+json": {
              "type": "string"
            },
            "text/plain": [
              "\"\\nmodel = keras.Sequential([\\n                          layers.InputLayer(input_shape=(41,)),\\n                          layers.Dense(20, activation = 'tanh'),\\n                          layers.Dense(15, activation= 'tanh'),\\n                          layers.Dense(10, activation= 'tanh'),\\n                          layers.Dense(1, activation= 'linear'),\\n                          layers.Dense(units = 1, activation= 'exponential', trainable=False)\\n\\n])\\nmodel.compile(loss = 'poisson', optimizer = tf.keras.optimizers.Nadam(\\n    learning_rate=0.002, beta_1=0.9, beta_2=0.999, epsilon=1e-07))\\n\\n\""
            ]
          },
          "metadata": {
            "tags": []
          },
          "execution_count": 73
        }
      ]
    },
    {
      "cell_type": "code",
      "metadata": {
        "colab": {
          "base_uri": "https://localhost:8080/",
          "height": 754
        },
        "id": "Whlh9YaHDyV_",
        "outputId": "1408a8ee-881f-4e0e-e435-0396c41cccb3"
      },
      "source": [
        "keras.utils.plot_model(deep_full, \"multi_input_and_output_model.png\", show_shapes=True)"
      ],
      "execution_count": 41,
      "outputs": [
        {
          "output_type": "execute_result",
          "data": {
            "image/png": "[encoded data removed]",
            "text/plain": [
              "<IPython.core.display.Image object>"
            ]
          },
          "metadata": {
            "tags": []
          },
          "execution_count": 41
        }
      ]
    },
    {
      "cell_type": "markdown",
      "metadata": {
        "id": "iSyzWcWJEgVR"
      },
      "source": [
        "### Full dataset"
      ]
    },
    {
      "cell_type": "code",
      "metadata": {
        "colab": {
          "base_uri": "https://localhost:8080/"
        },
        "id": "_4rpPSiPmzBr",
        "outputId": "ef13f158-8a6b-47c4-afb5-5f71c9a0fb4e"
      },
      "source": [
        "%%time\n",
        "\n",
        "history = deep_full.fit(\n",
        "    x = [df, lv],\n",
        "    y = y,\n",
        "    #x_train, y_train,\n",
        "    #validation_data = (x_valid, y_valid),\n",
        "    verbose=2,\n",
        "    epochs=epoch,\n",
        "    batch_size = batch)"
      ],
      "execution_count": 44,
      "outputs": [
        {
          "output_type": "stream",
          "text": [
            "Epoch 1/100\n",
            "500/500 - 5s - loss: 0.2212\n",
            "Epoch 2/100\n",
            "500/500 - 1s - loss: 0.1943\n",
            "Epoch 3/100\n",
            "500/500 - 1s - loss: 0.1943\n",
            "Epoch 4/100\n",
            "500/500 - 1s - loss: 0.1925\n",
            "Epoch 5/100\n",
            "500/500 - 1s - loss: 0.1914\n",
            "Epoch 6/100\n",
            "500/500 - 1s - loss: 0.1908\n",
            "Epoch 7/100\n",
            "500/500 - 1s - loss: 0.1900\n",
            "Epoch 8/100\n",
            "500/500 - 1s - loss: 0.1897\n",
            "Epoch 9/100\n",
            "500/500 - 1s - loss: 0.1895\n",
            "Epoch 10/100\n",
            "500/500 - 1s - loss: 0.1894\n",
            "Epoch 11/100\n",
            "500/500 - 1s - loss: 0.1893\n",
            "Epoch 12/100\n",
            "500/500 - 1s - loss: 0.1892\n",
            "Epoch 13/100\n",
            "500/500 - 1s - loss: 0.1891\n",
            "Epoch 14/100\n",
            "500/500 - 1s - loss: 0.1891\n",
            "Epoch 15/100\n",
            "500/500 - 1s - loss: 0.1890\n",
            "Epoch 16/100\n",
            "500/500 - 1s - loss: 0.1890\n",
            "Epoch 17/100\n",
            "500/500 - 1s - loss: 0.1889\n",
            "Epoch 18/100\n",
            "500/500 - 1s - loss: 0.1889\n",
            "Epoch 19/100\n",
            "500/500 - 1s - loss: 0.1888\n",
            "Epoch 20/100\n",
            "500/500 - 1s - loss: 0.1888\n",
            "Epoch 21/100\n",
            "500/500 - 1s - loss: 0.1887\n",
            "Epoch 22/100\n",
            "500/500 - 1s - loss: 0.1887\n",
            "Epoch 23/100\n",
            "500/500 - 1s - loss: 0.1887\n",
            "Epoch 24/100\n",
            "500/500 - 1s - loss: 0.1887\n",
            "Epoch 25/100\n",
            "500/500 - 1s - loss: 0.1886\n",
            "Epoch 26/100\n",
            "500/500 - 1s - loss: 0.1886\n",
            "Epoch 27/100\n",
            "500/500 - 1s - loss: 0.1886\n",
            "Epoch 28/100\n",
            "500/500 - 1s - loss: 0.1886\n",
            "Epoch 29/100\n",
            "500/500 - 1s - loss: 0.1885\n",
            "Epoch 30/100\n",
            "500/500 - 1s - loss: 0.1885\n",
            "Epoch 31/100\n",
            "500/500 - 1s - loss: 0.1885\n",
            "Epoch 32/100\n",
            "500/500 - 1s - loss: 0.1885\n",
            "Epoch 33/100\n",
            "500/500 - 1s - loss: 0.1885\n",
            "Epoch 34/100\n",
            "500/500 - 1s - loss: 0.1884\n",
            "Epoch 35/100\n",
            "500/500 - 1s - loss: 0.1884\n",
            "Epoch 36/100\n",
            "500/500 - 1s - loss: 0.1884\n",
            "Epoch 37/100\n",
            "500/500 - 1s - loss: 0.1884\n",
            "Epoch 38/100\n",
            "500/500 - 1s - loss: 0.1884\n",
            "Epoch 39/100\n",
            "500/500 - 1s - loss: 0.1884\n",
            "Epoch 40/100\n",
            "500/500 - 1s - loss: 0.1884\n",
            "Epoch 41/100\n",
            "500/500 - 1s - loss: 0.1883\n",
            "Epoch 42/100\n",
            "500/500 - 1s - loss: 0.1883\n",
            "Epoch 43/100\n",
            "500/500 - 1s - loss: 0.1883\n",
            "Epoch 44/100\n",
            "500/500 - 1s - loss: 0.1883\n",
            "Epoch 45/100\n",
            "500/500 - 1s - loss: 0.1882\n",
            "Epoch 46/100\n",
            "500/500 - 1s - loss: 0.1882\n",
            "Epoch 47/100\n",
            "500/500 - 1s - loss: 0.1883\n",
            "Epoch 48/100\n",
            "500/500 - 1s - loss: 0.1882\n",
            "Epoch 49/100\n",
            "500/500 - 1s - loss: 0.1882\n",
            "Epoch 50/100\n",
            "500/500 - 1s - loss: 0.1882\n",
            "Epoch 51/100\n",
            "500/500 - 1s - loss: 0.1882\n",
            "Epoch 52/100\n",
            "500/500 - 1s - loss: 0.1882\n",
            "Epoch 53/100\n",
            "500/500 - 1s - loss: 0.1881\n",
            "Epoch 54/100\n",
            "500/500 - 1s - loss: 0.1882\n",
            "Epoch 55/100\n",
            "500/500 - 1s - loss: 0.1881\n",
            "Epoch 56/100\n",
            "500/500 - 1s - loss: 0.1881\n",
            "Epoch 57/100\n",
            "500/500 - 1s - loss: 0.1881\n",
            "Epoch 58/100\n",
            "500/500 - 1s - loss: 0.1880\n",
            "Epoch 59/100\n",
            "500/500 - 1s - loss: 0.1880\n",
            "Epoch 60/100\n",
            "500/500 - 1s - loss: 0.1881\n",
            "Epoch 61/100\n",
            "500/500 - 1s - loss: 0.1880\n",
            "Epoch 62/100\n",
            "500/500 - 1s - loss: 0.1880\n",
            "Epoch 63/100\n",
            "500/500 - 1s - loss: 0.1880\n",
            "Epoch 64/100\n",
            "500/500 - 1s - loss: 0.1880\n",
            "Epoch 65/100\n",
            "500/500 - 1s - loss: 0.1880\n",
            "Epoch 66/100\n",
            "500/500 - 1s - loss: 0.1879\n",
            "Epoch 67/100\n",
            "500/500 - 1s - loss: 0.1879\n",
            "Epoch 68/100\n",
            "500/500 - 1s - loss: 0.1880\n",
            "Epoch 69/100\n",
            "500/500 - 1s - loss: 0.1879\n",
            "Epoch 70/100\n",
            "500/500 - 1s - loss: 0.1879\n",
            "Epoch 71/100\n",
            "500/500 - 1s - loss: 0.1879\n",
            "Epoch 72/100\n",
            "500/500 - 1s - loss: 0.1878\n",
            "Epoch 73/100\n",
            "500/500 - 1s - loss: 0.1878\n",
            "Epoch 74/100\n",
            "500/500 - 1s - loss: 0.1878\n",
            "Epoch 75/100\n",
            "500/500 - 1s - loss: 0.1877\n",
            "Epoch 76/100\n",
            "500/500 - 1s - loss: 0.1877\n",
            "Epoch 77/100\n",
            "500/500 - 1s - loss: 0.1877\n",
            "Epoch 78/100\n",
            "500/500 - 1s - loss: 0.1877\n",
            "Epoch 79/100\n",
            "500/500 - 1s - loss: 0.1877\n",
            "Epoch 80/100\n",
            "500/500 - 1s - loss: 0.1877\n",
            "Epoch 81/100\n",
            "500/500 - 1s - loss: 0.1876\n",
            "Epoch 82/100\n",
            "500/500 - 1s - loss: 0.1876\n",
            "Epoch 83/100\n",
            "500/500 - 1s - loss: 0.1876\n",
            "Epoch 84/100\n",
            "500/500 - 1s - loss: 0.1875\n",
            "Epoch 85/100\n",
            "500/500 - 1s - loss: 0.1876\n",
            "Epoch 86/100\n",
            "500/500 - 1s - loss: 0.1876\n",
            "Epoch 87/100\n",
            "500/500 - 1s - loss: 0.1875\n",
            "Epoch 88/100\n",
            "500/500 - 1s - loss: 0.1875\n",
            "Epoch 89/100\n",
            "500/500 - 1s - loss: 0.1875\n",
            "Epoch 90/100\n",
            "500/500 - 1s - loss: 0.1875\n",
            "Epoch 91/100\n",
            "500/500 - 1s - loss: 0.1874\n",
            "Epoch 92/100\n",
            "500/500 - 1s - loss: 0.1875\n",
            "Epoch 93/100\n",
            "500/500 - 1s - loss: 0.1874\n",
            "Epoch 94/100\n",
            "500/500 - 1s - loss: 0.1874\n",
            "Epoch 95/100\n",
            "500/500 - 1s - loss: 0.1874\n",
            "Epoch 96/100\n",
            "500/500 - 1s - loss: 0.1874\n",
            "Epoch 97/100\n",
            "500/500 - 1s - loss: 0.1874\n",
            "Epoch 98/100\n",
            "500/500 - 1s - loss: 0.1874\n",
            "Epoch 99/100\n",
            "500/500 - 1s - loss: 0.1873\n",
            "Epoch 100/100\n",
            "500/500 - 1s - loss: 0.1873\n",
            "CPU times: user 2min 21s, sys: 10.9 s, total: 2min 32s\n",
            "Wall time: 1min 55s\n"
          ],
          "name": "stdout"
        }
      ]
    },
    {
      "cell_type": "code",
      "metadata": {
        "id": "W7-xMKRTDTLK",
        "colab": {
          "base_uri": "https://localhost:8080/"
        },
        "outputId": "6c8a61bd-2707-4c53-fc34-df8a77107b48"
      },
      "source": [
        "deep_full.save('/content/drive/MyDrive/models/deep_full')"
      ],
      "execution_count": 45,
      "outputs": [
        {
          "output_type": "stream",
          "text": [
            "INFO:tensorflow:Assets written to: /content/drive/MyDrive/models/deep_full/assets\n"
          ],
          "name": "stdout"
        }
      ]
    },
    {
      "cell_type": "code",
      "metadata": {
        "id": "yJ1G2LuyEEEL"
      },
      "source": [
        "\n",
        "deep_full = keras.models.load_model('/content/drive/MyDrive/models/deep_full')"
      ],
      "execution_count": null,
      "outputs": []
    },
    {
      "cell_type": "code",
      "metadata": {
        "colab": {
          "base_uri": "https://localhost:8080/",
          "height": 289
        },
        "id": "v0MeyVc92BTA",
        "outputId": "c9ed90d6-0cfc-4975-d720-9d6e137cb288"
      },
      "source": [
        "plot_loss(history, yran=[0.185, 0.2], val = False)"
      ],
      "execution_count": 55,
      "outputs": [
        {
          "output_type": "display_data",
          "data": {
            "image/png": "[encoded data removed]",
            "text/plain": [
              "<Figure size 432x288 with 1 Axes>"
            ]
          },
          "metadata": {
            "tags": []
          }
        }
      ]
    },
    {
      "cell_type": "code",
      "metadata": {
        "id": "8Fjvim6pnP_I"
      },
      "source": [
        "predictions = deep_full.predict([x,lv])"
      ],
      "execution_count": 56,
      "outputs": []
    },
    {
      "cell_type": "code",
      "metadata": {
        "colab": {
          "base_uri": "https://localhost:8080/"
        },
        "id": "OITF28I71GrA",
        "outputId": "bf51217f-a1ad-4746-d704-00706d8c5b82"
      },
      "source": [
        "preds = predictions.flatten()\n",
        "# mean of predicted claims\n",
        "preds.mean()"
      ],
      "execution_count": 57,
      "outputs": [
        {
          "output_type": "execute_result",
          "data": {
            "text/plain": [
              "0.05100592"
            ]
          },
          "metadata": {
            "tags": []
          },
          "execution_count": 57
        }
      ]
    },
    {
      "cell_type": "code",
      "metadata": {
        "colab": {
          "base_uri": "https://localhost:8080/"
        },
        "id": "by-uyHi37tRC",
        "outputId": "fd9e1d16-5224-47be-8ca8-2a5fa44ac1d3"
      },
      "source": [
        "preds.max()\n"
      ],
      "execution_count": 58,
      "outputs": [
        {
          "output_type": "execute_result",
          "data": {
            "text/plain": [
              "1.0428671"
            ]
          },
          "metadata": {
            "tags": []
          },
          "execution_count": 58
        }
      ]
    },
    {
      "cell_type": "code",
      "metadata": {
        "id": "M9XYhkIiGkCe",
        "colab": {
          "base_uri": "https://localhost:8080/"
        },
        "outputId": "2de92307-1775-4db1-d9e3-36341bfdf95e"
      },
      "source": [
        "# in sample deviance\n",
        "deviance(preds / v, v, y)"
      ],
      "execution_count": 84,
      "outputs": [
        {
          "output_type": "execute_result",
          "data": {
            "text/plain": [
              "0.2764431166951795"
            ]
          },
          "metadata": {
            "tags": []
          },
          "execution_count": 84
        }
      ]
    },
    {
      "cell_type": "code",
      "metadata": {
        "colab": {
          "base_uri": "https://localhost:8080/"
        },
        "id": "DqQqHM96M9xz",
        "outputId": "4fa68917-2fd6-4156-a2c8-d46bcf31998c"
      },
      "source": [
        "# eps\n",
        "deviance(preds / v, v , truefreq, eps = True)"
      ],
      "execution_count": 85,
      "outputs": [
        {
          "output_type": "execute_result",
          "data": {
            "text/plain": [
              "0.003798787393684862"
            ]
          },
          "metadata": {
            "tags": []
          },
          "execution_count": 85
        }
      ]
    },
    {
      "cell_type": "code",
      "metadata": {
        "id": "ukfyOOl13Poo"
      },
      "source": [
        "tf.keras.backend.set_epsilon(1e-7)\n"
      ],
      "execution_count": null,
      "outputs": []
    }
  ]
}