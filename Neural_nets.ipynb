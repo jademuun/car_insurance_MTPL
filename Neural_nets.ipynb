{
  "nbformat": 4,
  "nbformat_minor": 0,
  "metadata": {
    "colab": {
      "name": "Neural_nets.ipynb",
      "provenance": [],
      "toc_visible": true,
      "mount_file_id": "1_rhelS0rDHGxdxWW1TaOZndpRjHA16zf",
      "authorship_tag": "ABX9TyP9EL8ClmGZnQUS1ToPup0C",
      "include_colab_link": true
    },
    "kernelspec": {
      "name": "python3",
      "display_name": "Python 3"
    },
    "language_info": {
      "name": "python"
    }
  },
  "cells": [
    {
      "cell_type": "markdown",
      "metadata": {
        "id": "view-in-github",
        "colab_type": "text"
      },
      "source": [
        "<a href=\"https://colab.research.google.com/github/jademuun/car_insurance_MTPL/blob/master/Neural_nets.ipynb\" target=\"_parent\"><img src=\"https://colab.research.google.com/assets/colab-badge.svg\" alt=\"Open In Colab\"/></a>"
      ]
    },
    {
      "cell_type": "code",
      "metadata": {
        "colab": {
          "base_uri": "https://localhost:8080/"
        },
        "id": "b2Evb0ZLdp6O",
        "outputId": "740349df-b0d1-4f06-f266-294f8bdc7150"
      },
      "source": [
        "!python3 --version"
      ],
      "execution_count": 1,
      "outputs": [
        {
          "output_type": "stream",
          "text": [
            "Python 3.7.10\n"
          ],
          "name": "stdout"
        }
      ]
    },
    {
      "cell_type": "code",
      "metadata": {
        "colab": {
          "base_uri": "https://localhost:8080/"
        },
        "id": "blPmq6YQdRLt",
        "outputId": "b81de05d-efec-4b8f-a5fe-f314aa58ea43"
      },
      "source": [
        "!pip install probflow"
      ],
      "execution_count": 2,
      "outputs": [
        {
          "output_type": "stream",
          "text": [
            "Collecting probflow\n",
            "\u001b[?25l  Downloading https://files.pythonhosted.org/packages/ad/9f/ef30e8c74eea112b62e910ffb91b0f6a3410c8977dc2f85dc48acf4554cf/probflow-2.4.1-py3-none-any.whl (93kB)\n",
            "\r\u001b[K     |███▌                            | 10kB 17.3MB/s eta 0:00:01\r\u001b[K     |███████                         | 20kB 8.0MB/s eta 0:00:01\r\u001b[K     |██████████▌                     | 30kB 6.9MB/s eta 0:00:01\r\u001b[K     |██████████████                  | 40kB 6.7MB/s eta 0:00:01\r\u001b[K     |█████████████████▋              | 51kB 4.0MB/s eta 0:00:01\r\u001b[K     |█████████████████████           | 61kB 4.3MB/s eta 0:00:01\r\u001b[K     |████████████████████████▋       | 71kB 4.6MB/s eta 0:00:01\r\u001b[K     |████████████████████████████    | 81kB 4.9MB/s eta 0:00:01\r\u001b[K     |███████████████████████████████▋| 92kB 5.1MB/s eta 0:00:01\r\u001b[K     |████████████████████████████████| 102kB 3.8MB/s \n",
            "\u001b[?25hRequirement already satisfied: cloudpickle>=1.3 in /usr/local/lib/python3.7/dist-packages (from probflow) (1.3.0)\n",
            "Requirement already satisfied: pandas>=0.25.0 in /usr/local/lib/python3.7/dist-packages (from probflow) (1.1.5)\n",
            "Requirement already satisfied: matplotlib>=3.1.0 in /usr/local/lib/python3.7/dist-packages (from probflow) (3.2.2)\n",
            "Requirement already satisfied: numpy>=1.17.0 in /usr/local/lib/python3.7/dist-packages (from probflow) (1.19.5)\n",
            "Requirement already satisfied: python-dateutil>=2.7.3 in /usr/local/lib/python3.7/dist-packages (from pandas>=0.25.0->probflow) (2.8.1)\n",
            "Requirement already satisfied: pytz>=2017.2 in /usr/local/lib/python3.7/dist-packages (from pandas>=0.25.0->probflow) (2018.9)\n",
            "Requirement already satisfied: pyparsing!=2.0.4,!=2.1.2,!=2.1.6,>=2.0.1 in /usr/local/lib/python3.7/dist-packages (from matplotlib>=3.1.0->probflow) (2.4.7)\n",
            "Requirement already satisfied: cycler>=0.10 in /usr/local/lib/python3.7/dist-packages (from matplotlib>=3.1.0->probflow) (0.10.0)\n",
            "Requirement already satisfied: kiwisolver>=1.0.1 in /usr/local/lib/python3.7/dist-packages (from matplotlib>=3.1.0->probflow) (1.3.1)\n",
            "Requirement already satisfied: six>=1.5 in /usr/local/lib/python3.7/dist-packages (from python-dateutil>=2.7.3->pandas>=0.25.0->probflow) (1.15.0)\n",
            "Installing collected packages: probflow\n",
            "Successfully installed probflow-2.4.1\n"
          ],
          "name": "stdout"
        }
      ]
    },
    {
      "cell_type": "markdown",
      "metadata": {
        "id": "RneRHlUQdwH1"
      },
      "source": [
        "# Libraries\n"
      ]
    },
    {
      "cell_type": "code",
      "metadata": {
        "id": "Ki3HWvMsdxwp"
      },
      "source": [
        "import pandas as pd\n",
        "import numpy as np\n",
        "import matplotlib.pyplot as plt \n",
        "import seaborn as sns\n",
        "from seaborn import countplot\n",
        "from matplotlib.pyplot import figure, show\n",
        "import timeit\n",
        "\n",
        "from sklearn.pipeline import Pipeline\n",
        "from sklearn.dummy import DummyClassifier\n",
        "from sklearn.metrics import f1_score\n",
        "from sklearn.metrics import confusion_matrix, plot_confusion_matrix, r2_score\n",
        "\n",
        "from sklearn.preprocessing import OneHotEncoder, OrdinalEncoder, LabelEncoder\n",
        "from sklearn.preprocessing import StandardScaler, MinMaxScaler\n",
        "from sklearn.decomposition import PCA\n",
        "from sklearn.model_selection import train_test_split\n",
        "from sklearn.model_selection import KFold, StratifiedKFold\n",
        "\n",
        "import tensorflow as tf\n",
        "from tensorflow import keras\n",
        "from tensorflow.keras import layers\n",
        "from keras.layers import Dense\n",
        "from tensorflow.keras.layers.experimental import preprocessing\n",
        "from keras import backend as K\n",
        "\n",
        "import probflow as pf"
      ],
      "execution_count": 1,
      "outputs": []
    },
    {
      "cell_type": "markdown",
      "metadata": {
        "id": "fpJ52wYweAYM"
      },
      "source": [
        "# Functions"
      ]
    },
    {
      "cell_type": "code",
      "metadata": {
        "id": "8JMHTphbeBm4"
      },
      "source": [
        "# plotting the loss\n",
        "def plot_loss(history, yran,  measure = 'loss',\n",
        "              valmeasure = 'val_loss', val = True):\n",
        "  plt.plot(history.history[measure], label=measure)\n",
        "  if val:\n",
        "    plt.plot(history.history[valmeasure], label=valmeasure)\n",
        "  plt.ylim(yran)\n",
        "  plt.xlabel('Epoch')\n",
        "  plt.ylabel('Deviance')\n",
        "  plt.legend()\n",
        "  plt.grid(True)\n",
        "\n",
        "# logarithm limit in deviance\n",
        "def limit_log(mu, N):\n",
        "  result = []\n",
        "  for i in range(len(N)):\n",
        "    if (N[i] > 0):\n",
        "      result.append(N[i] * np.log(N[i] / mu[i]))\n",
        "    else:\n",
        "      result.append(0)\n",
        "  return np.asarray(result)\n",
        "\n",
        "# deviance according to Wuthrix\n",
        "def deviance(lambd, v, N, eps = False):\n",
        "  v = np.asarray(v)\n",
        "  N = np.asarray(N)\n",
        "  log = np.asarray(limit_log(lambd * v, N ))\n",
        "  if not eps:\n",
        "    result = 2 * np.sum(v *lambd - N  + log)/ len(N)\n",
        "  else:\n",
        "    result = 2 * (np.sum(lambd) - np.sum(N * v) + np.sum(limit_log(lambd,(N * v)))) / len(v)\n",
        "  return result\n"
      ],
      "execution_count": 35,
      "outputs": []
    },
    {
      "cell_type": "markdown",
      "metadata": {
        "id": "32bi7WuroF3J"
      },
      "source": [
        "# Homogenous portfolio"
      ]
    },
    {
      "cell_type": "code",
      "metadata": {
        "id": "aXUTGnTVi_DA"
      },
      "source": [
        "claim = pd.read_csv('/content/drive/MyDrive/data/scaled.csv')\n",
        "claim = claim.drop(claim.columns[0], axis = 1)"
      ],
      "execution_count": 3,
      "outputs": []
    },
    {
      "cell_type": "code",
      "metadata": {
        "colab": {
          "base_uri": "https://localhost:8080/"
        },
        "id": "lnBg-CDJjM7J",
        "outputId": "ef1dfffb-2ac8-4e07-9bdb-71e274f74847"
      },
      "source": [
        "v * lambda_hat"
      ],
      "execution_count": 44,
      "outputs": [
        {
          "output_type": "execute_result",
          "data": {
            "text/plain": [
              "0         0.010057\n",
              "1         0.077443\n",
              "2         0.075431\n",
              "3         0.009052\n",
              "4         0.084483\n",
              "            ...   \n",
              "678008    0.000276\n",
              "678009    0.000276\n",
              "678010    0.000276\n",
              "678011    0.000276\n",
              "678012    0.000276\n",
              "Name: Exposure, Length: 678013, dtype: float64"
            ]
          },
          "metadata": {
            "tags": []
          },
          "execution_count": 44
        }
      ]
    },
    {
      "cell_type": "code",
      "metadata": {
        "colab": {
          "base_uri": "https://localhost:8080/"
        },
        "id": "2IoWxRaRHarC",
        "outputId": "83c08a94-13bf-45c4-91d6-7e828c05f33b"
      },
      "source": [
        "v"
      ],
      "execution_count": 45,
      "outputs": [
        {
          "output_type": "execute_result",
          "data": {
            "text/plain": [
              "0         0.10000\n",
              "1         0.77000\n",
              "2         0.75000\n",
              "3         0.09000\n",
              "4         0.84000\n",
              "           ...   \n",
              "678008    0.00274\n",
              "678009    0.00274\n",
              "678010    0.00274\n",
              "678011    0.00274\n",
              "678012    0.00274\n",
              "Name: Exposure, Length: 678013, dtype: float64"
            ]
          },
          "metadata": {
            "tags": []
          },
          "execution_count": 45
        }
      ]
    },
    {
      "cell_type": "code",
      "metadata": {
        "id": "Och6OAYFLOMW"
      },
      "source": [
        "# target\n",
        "y = claim.ClaimNb\n",
        "# exposure\n",
        "v = claim.Exposure"
      ],
      "execution_count": 5,
      "outputs": []
    },
    {
      "cell_type": "code",
      "metadata": {
        "colab": {
          "base_uri": "https://localhost:8080/"
        },
        "id": "BRiMkM961BPZ",
        "outputId": "5afbec26-cc6f-4221-c5b5-4ed6adbf03d9"
      },
      "source": [
        "v[0:15]"
      ],
      "execution_count": 12,
      "outputs": [
        {
          "output_type": "execute_result",
          "data": {
            "text/plain": [
              "0     0.10\n",
              "1     0.77\n",
              "2     0.75\n",
              "3     0.09\n",
              "4     0.84\n",
              "5     0.52\n",
              "6     0.45\n",
              "7     0.27\n",
              "8     0.71\n",
              "9     0.15\n",
              "10    0.75\n",
              "11    0.87\n",
              "12    0.81\n",
              "13    0.05\n",
              "14    0.76\n",
              "Name: Exposure, dtype: float64"
            ]
          },
          "metadata": {
            "tags": []
          },
          "execution_count": 12
        }
      ]
    },
    {
      "cell_type": "code",
      "metadata": {
        "colab": {
          "base_uri": "https://localhost:8080/"
        },
        "id": "hcwBXteUALHV",
        "outputId": "2e913921-8c60-44b6-9a6b-9ce13c423145"
      },
      "source": [
        "# true frequency\n",
        "#truefreq = claim.truefreq\n",
        "# true average frequency\n",
        "#lambda_star_mean = np.dot(truefreq, v) / v.sum()\n",
        "#print(lambda_star_mean)"
      ],
      "execution_count": null,
      "outputs": [
        {
          "output_type": "stream",
          "text": [
            "0.10199107887858037\n"
          ],
          "name": "stdout"
        }
      ]
    },
    {
      "cell_type": "code",
      "metadata": {
        "colab": {
          "base_uri": "https://localhost:8080/"
        },
        "id": "OIz4HHosgyli",
        "outputId": "c6b4d1de-423b-4b27-c16f-b7bc057078ce"
      },
      "source": [
        "from random import sample, seed\n",
        "seed(100)\n",
        "list1 = [1, 2, 3, 4, 5]\n",
        "sample(list1, 2)"
      ],
      "execution_count": 60,
      "outputs": [
        {
          "output_type": "execute_result",
          "data": {
            "text/plain": [
              "[2, 4]"
            ]
          },
          "metadata": {
            "tags": []
          },
          "execution_count": 60
        }
      ]
    },
    {
      "cell_type": "code",
      "metadata": {
        "colab": {
          "base_uri": "https://localhost:8080/"
        },
        "id": "3e2d0udIAaTl",
        "outputId": "afec2789-1348-4ff3-d32f-7592829b218b"
      },
      "source": [
        "%%time\n",
        "# Homogenous portfolio frequency\n",
        "lambda_hat = np.sum(y)/ np.sum(v)\n",
        "print(lambda_hat)\n",
        "ll = [lambda_hat] * len(v)"
      ],
      "execution_count": 23,
      "outputs": [
        {
          "output_type": "stream",
          "text": [
            "0.10057477202910454\n",
            "CPU times: user 12.4 ms, sys: 881 µs, total: 13.3 ms\n",
            "Wall time: 14.3 ms\n"
          ],
          "name": "stdout"
        }
      ]
    },
    {
      "cell_type": "code",
      "metadata": {
        "colab": {
          "base_uri": "https://localhost:8080/"
        },
        "id": "b79qytIbam05",
        "outputId": "bb29b858-be31-4e65-d654-f92211b55208"
      },
      "source": [
        "lh = np.sum(y_valid ) / np.sum(v_valid)\n",
        "lh"
      ],
      "execution_count": 48,
      "outputs": [
        {
          "output_type": "execute_result",
          "data": {
            "text/plain": [
              "0.09655782319870805"
            ]
          },
          "metadata": {
            "tags": []
          },
          "execution_count": 48
        }
      ]
    },
    {
      "cell_type": "code",
      "metadata": {
        "colab": {
          "base_uri": "https://localhost:8080/"
        },
        "id": "vp-hRCDVGRHY",
        "outputId": "13958469-7f3e-49e5-c46f-6845d8028a65"
      },
      "source": [
        "y_train"
      ],
      "execution_count": 34,
      "outputs": [
        {
          "output_type": "execute_result",
          "data": {
            "text/plain": [
              "456696    0\n",
              "429518    1\n",
              "366419    0\n",
              "483662    0\n",
              "653031    1\n",
              "         ..\n",
              "363333    0\n",
              "523101    0\n",
              "150315    1\n",
              "346741    0\n",
              "231428    0\n",
              "Name: ClaimNb, Length: 610211, dtype: int64"
            ]
          },
          "metadata": {
            "tags": []
          },
          "execution_count": 34
        }
      ]
    },
    {
      "cell_type": "code",
      "metadata": {
        "colab": {
          "base_uri": "https://localhost:8080/"
        },
        "id": "jXNPiOj3iEYp",
        "outputId": "3b8877a7-9aab-417f-decc-54fc250a8b2a"
      },
      "source": [
        "# deviancia homogenous\n",
        "deviance(lh, v_valid, y_valid)"
      ],
      "execution_count": 49,
      "outputs": [
        {
          "output_type": "execute_result",
          "data": {
            "text/plain": [
              "0.3196615948372742"
            ]
          },
          "metadata": {
            "tags": []
          },
          "execution_count": 49
        }
      ]
    },
    {
      "cell_type": "code",
      "metadata": {
        "colab": {
          "base_uri": "https://localhost:8080/"
        },
        "id": "Al30tkiNjFne",
        "outputId": "4d37eba5-5d18-4b1f-8a6e-7feb96a112e2"
      },
      "source": [
        "#eps\n",
        "lh = np.ones(len(truefreq)) * lambda_hat\n",
        "deviance(lh, v, truefreq, eps = True)"
      ],
      "execution_count": null,
      "outputs": [
        {
          "output_type": "execute_result",
          "data": {
            "text/plain": [
              "0.06657800797294176"
            ]
          },
          "metadata": {
            "tags": []
          },
          "execution_count": 48
        }
      ]
    },
    {
      "cell_type": "code",
      "metadata": {
        "id": "yeCResVJaztL",
        "colab": {
          "base_uri": "https://localhost:8080/"
        },
        "outputId": "15313f9a-6082-4784-c319-e7262b938c30"
      },
      "source": [
        "# expected number of claims\n",
        "av = (claim.truefreq * claim.expo ).mean()\n",
        "print(av)"
      ],
      "execution_count": null,
      "outputs": [
        {
          "output_type": "stream",
          "text": [
            "0.05161200003771397\n"
          ],
          "name": "stdout"
        }
      ]
    },
    {
      "cell_type": "markdown",
      "metadata": {
        "id": "LJYdXk2L_UHd"
      },
      "source": [
        "# Models"
      ]
    },
    {
      "cell_type": "code",
      "metadata": {
        "id": "h-TJE1138Do4"
      },
      "source": [
        "# lv is offset\n",
        "lv = np.log(v) \n",
        "# train and valid set\n",
        "\n",
        "x_train, x_valid, y_train, y_valid, v_train, v_valid = train_test_split(claim, y, v, test_size=0.1, shuffle = True)\n",
        "lv_train = np.log(v_train)\n",
        "lv_valid = np.log(v_valid)"
      ],
      "execution_count": 29,
      "outputs": []
    },
    {
      "cell_type": "code",
      "metadata": {
        "colab": {
          "base_uri": "https://localhost:8080/",
          "height": 383
        },
        "id": "LwsvBDL5_DhS",
        "outputId": "503fa1a7-d3c3-45a6-ef4d-b524cb600bbd"
      },
      "source": [
        "sns.displot(data = claim, x = 'truefreq')"
      ],
      "execution_count": null,
      "outputs": [
        {
          "output_type": "execute_result",
          "data": {
            "text/plain": [
              "<seaborn.axisgrid.FacetGrid at 0x7fd9ec66c290>"
            ]
          },
          "metadata": {
            "tags": []
          },
          "execution_count": 105
        },
        {
          "output_type": "display_data",
          "data": {
            "image/png": "[encoded data removed]",
            "text/plain": [
              "<Figure size 360x360 with 1 Axes>"
            ]
          },
          "metadata": {
            "tags": []
          }
        }
      ]
    },
    {
      "cell_type": "markdown",
      "metadata": {
        "id": "Ma9eliScFS0e"
      },
      "source": [
        "## Shallow\n",
        "\n"
      ]
    },
    {
      "cell_type": "code",
      "metadata": {
        "id": "XhB7jkE4FXe4"
      },
      "source": [
        "# hyperparametres\n",
        "batch = 1000\n",
        "epoch = 100\n",
        "q1 = 20 # 8"
      ],
      "execution_count": null,
      "outputs": []
    },
    {
      "cell_type": "code",
      "metadata": {
        "colab": {
          "base_uri": "https://localhost:8080/"
        },
        "id": "8NSIj6boFSUG",
        "outputId": "e5af26ee-80dd-4cf6-9c41-19d105b8cd1d"
      },
      "source": [
        "Design = tf.keras.Input(shape=(41,), name = 'Design')\n",
        "LogVol = tf.keras.Input(shape=(1,), name = 'LogVol')\n",
        "layer1  = layers.Dense(5, activation = 'tanh', name = 'Layer1')(Design)\n",
        "Network = layers.Dense(1, activation= 'linear', name = 'Network', \n",
        "                        kernel_initializer = tf.keras.initializers.Constant(0.),\n",
        "                        bias_initializer =\n",
        "                        tf.keras.initializers.Constant(np.log(lambda_hat)))(layer1)\n",
        "addition = layers.add([Network, LogVol], name = 'Add')\n",
        "response = layers.Dense(1, activation='exponential'\n",
        ", name = 'Response', trainable=False, kernel_initializer = tf.keras.initializers.Constant(1.),\n",
        " bias_initializer = tf.keras.initializers.Constant(0.))(addition)\n",
        "shallow = keras.Model(\n",
        "    inputs = [Design,LogVol],\n",
        "    outputs = response\n",
        ")\n",
        "shallow.compile(loss = 'poisson', optimizer = tf.keras.optimizers.Nadam(\n",
        "    learning_rate=0.002, beta_1=0.9, beta_2=0.999, epsilon=None))\n",
        "\n",
        "shallow.build(input_shape=(41,))\n",
        "shallow.summary()"
      ],
      "execution_count": null,
      "outputs": [
        {
          "output_type": "stream",
          "text": [
            "Model: \"model_2\"\n",
            "__________________________________________________________________________________________________\n",
            "Layer (type)                    Output Shape         Param #     Connected to                     \n",
            "==================================================================================================\n",
            "Design (InputLayer)             [(None, 41)]         0                                            \n",
            "__________________________________________________________________________________________________\n",
            "Layer1 (Dense)                  (None, 5)            210         Design[0][0]                     \n",
            "__________________________________________________________________________________________________\n",
            "Network (Dense)                 (None, 1)            6           Layer1[0][0]                     \n",
            "__________________________________________________________________________________________________\n",
            "LogVol (InputLayer)             [(None, 1)]          0                                            \n",
            "__________________________________________________________________________________________________\n",
            "Add (Add)                       (None, 1)            0           Network[0][0]                    \n",
            "                                                                 LogVol[0][0]                     \n",
            "__________________________________________________________________________________________________\n",
            "Response (Dense)                (None, 1)            2           Add[0][0]                        \n",
            "==================================================================================================\n",
            "Total params: 218\n",
            "Trainable params: 216\n",
            "Non-trainable params: 2\n",
            "__________________________________________________________________________________________________\n"
          ],
          "name": "stdout"
        }
      ]
    },
    {
      "cell_type": "code",
      "metadata": {
        "colab": {
          "base_uri": "https://localhost:8080/"
        },
        "id": "NlQ3yHSCJEU5",
        "outputId": "b4aea940-5dc3-4130-d06e-176ef05f7952"
      },
      "source": [
        "keras.utils.plot_model(shallow, \"multi_input_and_output_model.png\", show_shapes=True)"
      ],
      "execution_count": null,
      "outputs": [
        {
          "output_type": "execute_result",
          "data": {
            "image/png": "[encoded data removed]",
            "text/plain": [
              "<IPython.core.display.Image object>"
            ]
          },
          "metadata": {
            "tags": []
          },
          "execution_count": 58
        }
      ]
    },
    {
      "cell_type": "code",
      "metadata": {
        "colab": {
          "base_uri": "https://localhost:8080/"
        },
        "id": "_8G9jobQG5b9",
        "outputId": "6edc2d53-e1ca-44a2-b555-8ea5f2d6c9fd"
      },
      "source": [
        "history = shallow.fit(\n",
        "    x = [x, lv],\n",
        "    y = y,\n",
        "    #x = [x_train, lv_train],\n",
        "    #y = y_train,\n",
        "    #validation_data = ([x_valid, lv_valid], y_valid),\n",
        "    verbose=2,\n",
        "    epochs=epoch,\n",
        "    batch_size = batch)"
      ],
      "execution_count": null,
      "outputs": [
        {
          "output_type": "stream",
          "text": [
            "Epoch 1/100\n",
            "500/500 - 1s - loss: 0.1926\n",
            "Epoch 2/100\n",
            "500/500 - 1s - loss: 0.1918\n",
            "Epoch 3/100\n",
            "500/500 - 1s - loss: 0.1917\n",
            "Epoch 4/100\n",
            "500/500 - 1s - loss: 0.1917\n",
            "Epoch 5/100\n",
            "500/500 - 1s - loss: 0.1917\n",
            "Epoch 6/100\n",
            "500/500 - 1s - loss: 0.1917\n",
            "Epoch 7/100\n",
            "500/500 - 1s - loss: 0.1917\n",
            "Epoch 8/100\n",
            "500/500 - 1s - loss: 0.1917\n",
            "Epoch 9/100\n",
            "500/500 - 1s - loss: 0.1916\n",
            "Epoch 10/100\n",
            "500/500 - 1s - loss: 0.1916\n",
            "Epoch 11/100\n",
            "500/500 - 1s - loss: 0.1916\n",
            "Epoch 12/100\n",
            "500/500 - 1s - loss: 0.1916\n",
            "Epoch 13/100\n",
            "500/500 - 1s - loss: 0.1916\n",
            "Epoch 14/100\n",
            "500/500 - 1s - loss: 0.1916\n",
            "Epoch 15/100\n",
            "500/500 - 1s - loss: 0.1915\n",
            "Epoch 16/100\n",
            "500/500 - 1s - loss: 0.1915\n",
            "Epoch 17/100\n",
            "500/500 - 1s - loss: 0.1915\n",
            "Epoch 18/100\n",
            "500/500 - 1s - loss: 0.1914\n",
            "Epoch 19/100\n",
            "500/500 - 1s - loss: 0.1914\n",
            "Epoch 20/100\n",
            "500/500 - 1s - loss: 0.1914\n",
            "Epoch 21/100\n",
            "500/500 - 1s - loss: 0.1913\n",
            "Epoch 22/100\n",
            "500/500 - 1s - loss: 0.1912\n",
            "Epoch 23/100\n",
            "500/500 - 1s - loss: 0.1912\n",
            "Epoch 24/100\n",
            "500/500 - 1s - loss: 0.1911\n",
            "Epoch 25/100\n",
            "500/500 - 1s - loss: 0.1910\n",
            "Epoch 26/100\n",
            "500/500 - 1s - loss: 0.1909\n",
            "Epoch 27/100\n",
            "500/500 - 1s - loss: 0.1909\n",
            "Epoch 28/100\n",
            "500/500 - 1s - loss: 0.1908\n",
            "Epoch 29/100\n",
            "500/500 - 1s - loss: 0.1907\n",
            "Epoch 30/100\n",
            "500/500 - 1s - loss: 0.1906\n",
            "Epoch 31/100\n",
            "500/500 - 1s - loss: 0.1905\n",
            "Epoch 32/100\n",
            "500/500 - 1s - loss: 0.1904\n",
            "Epoch 33/100\n",
            "500/500 - 1s - loss: 0.1903\n",
            "Epoch 34/100\n",
            "500/500 - 1s - loss: 0.1902\n",
            "Epoch 35/100\n",
            "500/500 - 1s - loss: 0.1902\n",
            "Epoch 36/100\n",
            "500/500 - 1s - loss: 0.1901\n",
            "Epoch 37/100\n",
            "500/500 - 1s - loss: 0.1900\n",
            "Epoch 38/100\n",
            "500/500 - 1s - loss: 0.1900\n",
            "Epoch 39/100\n",
            "500/500 - 1s - loss: 0.1899\n",
            "Epoch 40/100\n",
            "500/500 - 1s - loss: 0.1899\n",
            "Epoch 41/100\n",
            "500/500 - 1s - loss: 0.1898\n",
            "Epoch 42/100\n",
            "500/500 - 1s - loss: 0.1898\n",
            "Epoch 43/100\n",
            "500/500 - 1s - loss: 0.1897\n",
            "Epoch 44/100\n",
            "500/500 - 1s - loss: 0.1897\n",
            "Epoch 45/100\n",
            "500/500 - 1s - loss: 0.1897\n",
            "Epoch 46/100\n",
            "500/500 - 1s - loss: 0.1896\n",
            "Epoch 47/100\n",
            "500/500 - 1s - loss: 0.1896\n",
            "Epoch 48/100\n",
            "500/500 - 1s - loss: 0.1896\n",
            "Epoch 49/100\n",
            "500/500 - 1s - loss: 0.1896\n",
            "Epoch 50/100\n",
            "500/500 - 1s - loss: 0.1896\n",
            "Epoch 51/100\n",
            "500/500 - 1s - loss: 0.1895\n",
            "Epoch 52/100\n",
            "500/500 - 1s - loss: 0.1895\n",
            "Epoch 53/100\n",
            "500/500 - 1s - loss: 0.1895\n",
            "Epoch 54/100\n",
            "500/500 - 1s - loss: 0.1895\n",
            "Epoch 55/100\n",
            "500/500 - 1s - loss: 0.1894\n",
            "Epoch 56/100\n",
            "500/500 - 1s - loss: 0.1894\n",
            "Epoch 57/100\n",
            "500/500 - 1s - loss: 0.1894\n",
            "Epoch 58/100\n",
            "500/500 - 1s - loss: 0.1894\n",
            "Epoch 59/100\n",
            "500/500 - 1s - loss: 0.1894\n",
            "Epoch 60/100\n",
            "500/500 - 1s - loss: 0.1894\n",
            "Epoch 61/100\n",
            "500/500 - 1s - loss: 0.1893\n",
            "Epoch 62/100\n",
            "500/500 - 1s - loss: 0.1893\n",
            "Epoch 63/100\n",
            "500/500 - 1s - loss: 0.1893\n",
            "Epoch 64/100\n",
            "500/500 - 1s - loss: 0.1893\n",
            "Epoch 65/100\n",
            "500/500 - 1s - loss: 0.1893\n",
            "Epoch 66/100\n",
            "500/500 - 1s - loss: 0.1893\n",
            "Epoch 67/100\n",
            "500/500 - 1s - loss: 0.1892\n",
            "Epoch 68/100\n",
            "500/500 - 1s - loss: 0.1892\n",
            "Epoch 69/100\n",
            "500/500 - 1s - loss: 0.1892\n",
            "Epoch 70/100\n",
            "500/500 - 1s - loss: 0.1892\n",
            "Epoch 71/100\n",
            "500/500 - 1s - loss: 0.1892\n",
            "Epoch 72/100\n",
            "500/500 - 1s - loss: 0.1892\n",
            "Epoch 73/100\n",
            "500/500 - 1s - loss: 0.1892\n",
            "Epoch 74/100\n",
            "500/500 - 1s - loss: 0.1892\n",
            "Epoch 75/100\n",
            "500/500 - 1s - loss: 0.1892\n",
            "Epoch 76/100\n",
            "500/500 - 1s - loss: 0.1891\n",
            "Epoch 77/100\n",
            "500/500 - 1s - loss: 0.1891\n",
            "Epoch 78/100\n",
            "500/500 - 1s - loss: 0.1891\n",
            "Epoch 79/100\n",
            "500/500 - 1s - loss: 0.1891\n",
            "Epoch 80/100\n",
            "500/500 - 1s - loss: 0.1891\n",
            "Epoch 81/100\n",
            "500/500 - 1s - loss: 0.1891\n",
            "Epoch 82/100\n",
            "500/500 - 1s - loss: 0.1890\n",
            "Epoch 83/100\n",
            "500/500 - 1s - loss: 0.1891\n",
            "Epoch 84/100\n",
            "500/500 - 1s - loss: 0.1890\n",
            "Epoch 85/100\n",
            "500/500 - 1s - loss: 0.1891\n",
            "Epoch 86/100\n",
            "500/500 - 1s - loss: 0.1890\n",
            "Epoch 87/100\n",
            "500/500 - 1s - loss: 0.1890\n",
            "Epoch 88/100\n",
            "500/500 - 1s - loss: 0.1890\n",
            "Epoch 89/100\n",
            "500/500 - 1s - loss: 0.1890\n",
            "Epoch 90/100\n",
            "500/500 - 1s - loss: 0.1890\n",
            "Epoch 91/100\n",
            "500/500 - 1s - loss: 0.1890\n",
            "Epoch 92/100\n",
            "500/500 - 1s - loss: 0.1890\n",
            "Epoch 93/100\n",
            "500/500 - 1s - loss: 0.1890\n",
            "Epoch 94/100\n",
            "500/500 - 1s - loss: 0.1890\n",
            "Epoch 95/100\n",
            "500/500 - 1s - loss: 0.1889\n",
            "Epoch 96/100\n",
            "500/500 - 1s - loss: 0.1889\n",
            "Epoch 97/100\n",
            "500/500 - 1s - loss: 0.1889\n",
            "Epoch 98/100\n",
            "500/500 - 1s - loss: 0.1889\n",
            "Epoch 99/100\n",
            "500/500 - 1s - loss: 0.1889\n",
            "Epoch 100/100\n",
            "500/500 - 1s - loss: 0.1889\n"
          ],
          "name": "stdout"
        }
      ]
    },
    {
      "cell_type": "code",
      "metadata": {
        "colab": {
          "base_uri": "https://localhost:8080/"
        },
        "id": "_wJq_sN7HU96",
        "outputId": "b396f514-d64b-4050-9019-2211788381fe"
      },
      "source": [
        "shallow.save('/content/drive/MyDrive/models/shallow_32')"
      ],
      "execution_count": null,
      "outputs": [
        {
          "output_type": "stream",
          "text": [
            "INFO:tensorflow:Assets written to: /content/drive/MyDrive/models/shallow_32/assets\n"
          ],
          "name": "stdout"
        }
      ]
    },
    {
      "cell_type": "code",
      "metadata": {
        "colab": {
          "base_uri": "https://localhost:8080/",
          "height": 289
        },
        "id": "3dXdMfgtHU98",
        "outputId": "9f45efc5-ccc4-443c-e184-22a455a4e54f"
      },
      "source": [
        "plot_loss(history, yran=[0.1886, 0.1930], val = True)"
      ],
      "execution_count": null,
      "outputs": [
        {
          "output_type": "display_data",
          "data": {
            "image/png": "[encoded data removed]",
            "text/plain": [
              "<Figure size 432x288 with 1 Axes>"
            ]
          },
          "metadata": {
            "tags": []
          }
        }
      ]
    },
    {
      "cell_type": "code",
      "metadata": {
        "id": "iZh139Y0HHTH"
      },
      "source": [
        "predictions = shallow.predict([x,lv])"
      ],
      "execution_count": null,
      "outputs": []
    },
    {
      "cell_type": "code",
      "metadata": {
        "colab": {
          "base_uri": "https://localhost:8080/"
        },
        "id": "f2TnBteoHHTJ",
        "outputId": "11c59fac-c380-4ca5-a3a0-bd0e0a9a49cc"
      },
      "source": [
        "preds = predictions.flatten()\n",
        "# mean of predicted claims\n",
        "preds.mean()"
      ],
      "execution_count": null,
      "outputs": [
        {
          "output_type": "execute_result",
          "data": {
            "text/plain": [
              "0.053084563"
            ]
          },
          "metadata": {
            "tags": []
          },
          "execution_count": 50
        }
      ]
    },
    {
      "cell_type": "code",
      "metadata": {
        "colab": {
          "base_uri": "https://localhost:8080/"
        },
        "id": "3OOUm9d6HHTJ",
        "outputId": "1bed7f81-e9bd-44a5-80df-00904dc3ba5c"
      },
      "source": [
        "preds.max()\n"
      ],
      "execution_count": null,
      "outputs": [
        {
          "output_type": "execute_result",
          "data": {
            "text/plain": [
              "0.4101158"
            ]
          },
          "metadata": {
            "tags": []
          },
          "execution_count": 52
        }
      ]
    },
    {
      "cell_type": "code",
      "metadata": {
        "colab": {
          "base_uri": "https://localhost:8080/"
        },
        "id": "UC6abd-BHHTK",
        "outputId": "dca09288-40a3-406b-bad8-bb33747ccabe"
      },
      "source": [
        "# in sample deviance\n",
        "deviance(preds / v, v, y)"
      ],
      "execution_count": null,
      "outputs": [
        {
          "output_type": "execute_result",
          "data": {
            "text/plain": [
              "0.28024056721800217"
            ]
          },
          "metadata": {
            "tags": []
          },
          "execution_count": 53
        }
      ]
    },
    {
      "cell_type": "code",
      "metadata": {
        "colab": {
          "base_uri": "https://localhost:8080/"
        },
        "id": "mXTZ7RobHHTK",
        "outputId": "e9ea094c-856f-41ab-f74b-8d86402f1aa3"
      },
      "source": [
        "# eps\n",
        "deviance(preds, v , truefreq, eps = True)"
      ],
      "execution_count": null,
      "outputs": [
        {
          "output_type": "execute_result",
          "data": {
            "text/plain": [
              "0.0038377746015047067"
            ]
          },
          "metadata": {
            "tags": []
          },
          "execution_count": 54
        }
      ]
    },
    {
      "cell_type": "markdown",
      "metadata": {
        "id": "NEJLqbhl_gWo"
      },
      "source": [
        "## Deep"
      ]
    },
    {
      "cell_type": "code",
      "metadata": {
        "id": "W2Dw5ry4EMub"
      },
      "source": [
        "# hyperparametre\n",
        "batch = 1000\n",
        "epoch = 100\n",
        "q1 = 20\n",
        "q2 = 10\n",
        "q3 = 8"
      ],
      "execution_count": null,
      "outputs": []
    },
    {
      "cell_type": "code",
      "metadata": {
        "colab": {
          "base_uri": "https://localhost:8080/"
        },
        "id": "vLMpMag9CABw",
        "outputId": "3c92b251-a799-4891-d5e0-b0047da0a550"
      },
      "source": [
        "Design = tf.keras.Input(shape=(41,), name = 'Design')\n",
        "LogVol = tf.keras.Input(shape=(1,), name = 'LogVol')\n",
        "layer1  = layers.Dense(q1, activation = 'tanh', name = 'Layer1')(Design)\n",
        "layer2  = layers.Dense(q2, activation= 'tanh',  name = 'Layer2')(layer1)\n",
        "layer3  = layers.Dense(q3, activation= 'tanh',  name = 'Layer3')(layer2)\n",
        "Network = layers.Dense(1, activation= 'linear', name = 'Network', \n",
        "                        kernel_initializer = tf.keras.initializers.Constant(0.),\n",
        " bias_initializer = tf.keras.initializers.Constant(np.log(lambda_hat)))(layer3)\n",
        "addition = layers.add([Network, LogVol], name = 'Add')\n",
        "response = layers.Dense(1, activation='exponential'\n",
        ", name = 'Response', trainable=False, kernel_initializer = tf.keras.initializers.Constant(1.),\n",
        " bias_initializer = tf.keras.initializers.Constant(0.))(addition)\n",
        "deep = keras.Model(\n",
        "    inputs = [Design,LogVol],\n",
        "    outputs = response\n",
        ")\n",
        "\n",
        "deep.compile(loss = 'poisson', optimizer = tf.keras.optimizers.Nadam(\n",
        "    learning_rate=0.002, beta_1=0.9, beta_2=0.999, epsilon=None))\n",
        "\n",
        "deep.build(input_shape=(41,))\n",
        "deep.summary()"
      ],
      "execution_count": null,
      "outputs": [
        {
          "output_type": "stream",
          "text": [
            "Model: \"model_8\"\n",
            "__________________________________________________________________________________________________\n",
            "Layer (type)                    Output Shape         Param #     Connected to                     \n",
            "==================================================================================================\n",
            "Design (InputLayer)             [(None, 41)]         0                                            \n",
            "__________________________________________________________________________________________________\n",
            "Layer1 (Dense)                  (None, 20)           840         Design[0][0]                     \n",
            "__________________________________________________________________________________________________\n",
            "Layer2 (Dense)                  (None, 10)           210         Layer1[0][0]                     \n",
            "__________________________________________________________________________________________________\n",
            "Layer3 (Dense)                  (None, 8)            88          Layer2[0][0]                     \n",
            "__________________________________________________________________________________________________\n",
            "Network (Dense)                 (None, 1)            9           Layer3[0][0]                     \n",
            "__________________________________________________________________________________________________\n",
            "LogVol (InputLayer)             [(None, 1)]          0                                            \n",
            "__________________________________________________________________________________________________\n",
            "Add (Add)                       (None, 1)            0           Network[0][0]                    \n",
            "                                                                 LogVol[0][0]                     \n",
            "__________________________________________________________________________________________________\n",
            "Response (Dense)                (None, 1)            2           Add[0][0]                        \n",
            "==================================================================================================\n",
            "Total params: 1,149\n",
            "Trainable params: 1,147\n",
            "Non-trainable params: 2\n",
            "__________________________________________________________________________________________________\n"
          ],
          "name": "stdout"
        }
      ]
    },
    {
      "cell_type": "code",
      "metadata": {
        "colab": {
          "base_uri": "https://localhost:8080/",
          "height": 69
        },
        "id": "GJaPTjeokPHZ",
        "outputId": "ee448c8e-af2d-4693-96fc-8fc129a8e458"
      },
      "source": [
        "# initial first bad guess\n",
        "'''\n",
        "model = keras.Sequential([\n",
        "                          layers.InputLayer(input_shape=(41,)),\n",
        "                          layers.Dense(20, activation = 'tanh'),\n",
        "                          layers.Dense(15, activation= 'tanh'),\n",
        "                          layers.Dense(10, activation= 'tanh'),\n",
        "                          layers.Dense(1, activation= 'linear'),\n",
        "                          layers.Dense(units = 1, activation= 'exponential', trainable=False)\n",
        "\n",
        "])\n",
        "model.compile(loss = 'poisson', optimizer = tf.keras.optimizers.Nadam(\n",
        "    learning_rate=0.002, beta_1=0.9, beta_2=0.999, epsilon=1e-07))\n",
        "\n",
        "'''"
      ],
      "execution_count": null,
      "outputs": [
        {
          "output_type": "execute_result",
          "data": {
            "application/vnd.google.colaboratory.intrinsic+json": {
              "type": "string"
            },
            "text/plain": [
              "\"\\nmodel = keras.Sequential([\\n                          layers.InputLayer(input_shape=(41,)),\\n                          layers.Dense(20, activation = 'tanh'),\\n                          layers.Dense(15, activation= 'tanh'),\\n                          layers.Dense(10, activation= 'tanh'),\\n                          layers.Dense(1, activation= 'linear'),\\n                          layers.Dense(units = 1, activation= 'exponential', trainable=False)\\n\\n])\\nmodel.compile(loss = 'poisson', optimizer = tf.keras.optimizers.Nadam(\\n    learning_rate=0.002, beta_1=0.9, beta_2=0.999, epsilon=1e-07))\\n\\n\""
            ]
          },
          "metadata": {
            "tags": []
          },
          "execution_count": 158
        }
      ]
    },
    {
      "cell_type": "code",
      "metadata": {
        "colab": {
          "base_uri": "https://localhost:8080/",
          "height": 754
        },
        "id": "Whlh9YaHDyV_",
        "outputId": "bb4133a2-3772-4d23-cabd-bf08a6fccb74"
      },
      "source": [
        "keras.utils.plot_model(deep, \"multi_input_and_output_model.png\", show_shapes=True)"
      ],
      "execution_count": null,
      "outputs": [
        {
          "output_type": "execute_result",
          "data": {
            "image/png": "[encoded data removed]",
            "text/plain": [
              "<IPython.core.display.Image object>"
            ]
          },
          "metadata": {
            "tags": []
          },
          "execution_count": 159
        }
      ]
    },
    {
      "cell_type": "markdown",
      "metadata": {
        "id": "iSyzWcWJEgVR"
      },
      "source": [
        "### Full dataset"
      ]
    },
    {
      "cell_type": "code",
      "metadata": {
        "colab": {
          "base_uri": "https://localhost:8080/"
        },
        "id": "_4rpPSiPmzBr",
        "outputId": "2158f309-e81e-4e17-d572-d33d54fdbc15"
      },
      "source": [
        "%%time\n",
        "\n",
        "history = deep.fit(\n",
        "    x = [x, lv],\n",
        "    y = y,\n",
        "    #x_train, y_train,\n",
        "    #validation_data = (x_valid, y_valid),\n",
        "    verbose=2,\n",
        "    epochs=epoch,\n",
        "    batch_size = batch)"
      ],
      "execution_count": null,
      "outputs": [
        {
          "output_type": "stream",
          "text": [
            "Epoch 1/100\n",
            "500/500 - 2s - loss: 0.1922\n",
            "Epoch 2/100\n",
            "500/500 - 1s - loss: 0.1914\n",
            "Epoch 3/100\n",
            "500/500 - 1s - loss: 0.1907\n",
            "Epoch 4/100\n",
            "500/500 - 1s - loss: 0.1902\n",
            "Epoch 5/100\n",
            "500/500 - 1s - loss: 0.1899\n",
            "Epoch 6/100\n",
            "500/500 - 1s - loss: 0.1898\n",
            "Epoch 7/100\n",
            "500/500 - 1s - loss: 0.1896\n",
            "Epoch 8/100\n",
            "500/500 - 1s - loss: 0.1896\n",
            "Epoch 9/100\n",
            "500/500 - 1s - loss: 0.1895\n",
            "Epoch 10/100\n",
            "500/500 - 1s - loss: 0.1894\n",
            "Epoch 11/100\n",
            "500/500 - 1s - loss: 0.1894\n",
            "Epoch 12/100\n",
            "500/500 - 1s - loss: 0.1893\n",
            "Epoch 13/100\n",
            "500/500 - 1s - loss: 0.1893\n",
            "Epoch 14/100\n",
            "500/500 - 1s - loss: 0.1893\n",
            "Epoch 15/100\n",
            "500/500 - 1s - loss: 0.1893\n",
            "Epoch 16/100\n",
            "500/500 - 1s - loss: 0.1892\n",
            "Epoch 17/100\n",
            "500/500 - 1s - loss: 0.1892\n",
            "Epoch 18/100\n",
            "500/500 - 1s - loss: 0.1892\n",
            "Epoch 19/100\n",
            "500/500 - 1s - loss: 0.1891\n",
            "Epoch 20/100\n",
            "500/500 - 1s - loss: 0.1891\n",
            "Epoch 21/100\n",
            "500/500 - 1s - loss: 0.1891\n",
            "Epoch 22/100\n",
            "500/500 - 1s - loss: 0.1891\n",
            "Epoch 23/100\n",
            "500/500 - 1s - loss: 0.1891\n",
            "Epoch 24/100\n",
            "500/500 - 1s - loss: 0.1890\n",
            "Epoch 25/100\n",
            "500/500 - 1s - loss: 0.1890\n",
            "Epoch 26/100\n",
            "500/500 - 1s - loss: 0.1890\n",
            "Epoch 27/100\n",
            "500/500 - 1s - loss: 0.1890\n",
            "Epoch 28/100\n",
            "500/500 - 1s - loss: 0.1889\n",
            "Epoch 29/100\n",
            "500/500 - 1s - loss: 0.1889\n",
            "Epoch 30/100\n",
            "500/500 - 1s - loss: 0.1889\n",
            "Epoch 31/100\n",
            "500/500 - 1s - loss: 0.1888\n",
            "Epoch 32/100\n",
            "500/500 - 1s - loss: 0.1888\n",
            "Epoch 33/100\n",
            "500/500 - 1s - loss: 0.1887\n",
            "Epoch 34/100\n",
            "500/500 - 1s - loss: 0.1887\n",
            "Epoch 35/100\n",
            "500/500 - 1s - loss: 0.1886\n",
            "Epoch 36/100\n",
            "500/500 - 1s - loss: 0.1886\n",
            "Epoch 37/100\n",
            "500/500 - 1s - loss: 0.1886\n",
            "Epoch 38/100\n",
            "500/500 - 1s - loss: 0.1885\n",
            "Epoch 39/100\n",
            "500/500 - 1s - loss: 0.1885\n",
            "Epoch 40/100\n",
            "500/500 - 1s - loss: 0.1884\n",
            "Epoch 41/100\n",
            "500/500 - 1s - loss: 0.1884\n",
            "Epoch 42/100\n",
            "500/500 - 1s - loss: 0.1883\n",
            "Epoch 43/100\n",
            "500/500 - 1s - loss: 0.1883\n",
            "Epoch 44/100\n",
            "500/500 - 1s - loss: 0.1883\n",
            "Epoch 45/100\n",
            "500/500 - 1s - loss: 0.1883\n",
            "Epoch 46/100\n",
            "500/500 - 1s - loss: 0.1882\n",
            "Epoch 47/100\n",
            "500/500 - 1s - loss: 0.1882\n",
            "Epoch 48/100\n",
            "500/500 - 1s - loss: 0.1882\n",
            "Epoch 49/100\n",
            "500/500 - 1s - loss: 0.1882\n",
            "Epoch 50/100\n",
            "500/500 - 1s - loss: 0.1881\n",
            "Epoch 51/100\n",
            "500/500 - 1s - loss: 0.1881\n",
            "Epoch 52/100\n",
            "500/500 - 1s - loss: 0.1881\n",
            "Epoch 53/100\n",
            "500/500 - 1s - loss: 0.1881\n",
            "Epoch 54/100\n",
            "500/500 - 1s - loss: 0.1881\n",
            "Epoch 55/100\n",
            "500/500 - 1s - loss: 0.1880\n",
            "Epoch 56/100\n",
            "500/500 - 1s - loss: 0.1880\n",
            "Epoch 57/100\n",
            "500/500 - 1s - loss: 0.1880\n",
            "Epoch 58/100\n",
            "500/500 - 1s - loss: 0.1879\n",
            "Epoch 59/100\n",
            "500/500 - 1s - loss: 0.1880\n",
            "Epoch 60/100\n",
            "500/500 - 1s - loss: 0.1880\n",
            "Epoch 61/100\n",
            "500/500 - 1s - loss: 0.1879\n",
            "Epoch 62/100\n",
            "500/500 - 1s - loss: 0.1879\n",
            "Epoch 63/100\n",
            "500/500 - 1s - loss: 0.1879\n",
            "Epoch 64/100\n",
            "500/500 - 1s - loss: 0.1879\n",
            "Epoch 65/100\n",
            "500/500 - 1s - loss: 0.1879\n",
            "Epoch 66/100\n",
            "500/500 - 1s - loss: 0.1879\n",
            "Epoch 67/100\n",
            "500/500 - 1s - loss: 0.1879\n",
            "Epoch 68/100\n",
            "500/500 - 1s - loss: 0.1878\n",
            "Epoch 69/100\n",
            "500/500 - 1s - loss: 0.1878\n",
            "Epoch 70/100\n",
            "500/500 - 1s - loss: 0.1878\n",
            "Epoch 71/100\n",
            "500/500 - 1s - loss: 0.1878\n",
            "Epoch 72/100\n",
            "500/500 - 1s - loss: 0.1877\n",
            "Epoch 73/100\n",
            "500/500 - 1s - loss: 0.1877\n",
            "Epoch 74/100\n",
            "500/500 - 1s - loss: 0.1878\n",
            "Epoch 75/100\n",
            "500/500 - 1s - loss: 0.1877\n",
            "Epoch 76/100\n",
            "500/500 - 1s - loss: 0.1877\n",
            "Epoch 77/100\n",
            "500/500 - 1s - loss: 0.1877\n",
            "Epoch 78/100\n",
            "500/500 - 1s - loss: 0.1877\n",
            "Epoch 79/100\n",
            "500/500 - 1s - loss: 0.1877\n",
            "Epoch 80/100\n",
            "500/500 - 1s - loss: 0.1876\n",
            "Epoch 81/100\n",
            "500/500 - 1s - loss: 0.1876\n",
            "Epoch 82/100\n",
            "500/500 - 1s - loss: 0.1876\n",
            "Epoch 83/100\n",
            "500/500 - 1s - loss: 0.1876\n",
            "Epoch 84/100\n",
            "500/500 - 1s - loss: 0.1876\n",
            "Epoch 85/100\n",
            "500/500 - 1s - loss: 0.1876\n",
            "Epoch 86/100\n",
            "500/500 - 1s - loss: 0.1876\n",
            "Epoch 87/100\n",
            "500/500 - 1s - loss: 0.1875\n",
            "Epoch 88/100\n",
            "500/500 - 1s - loss: 0.1875\n",
            "Epoch 89/100\n",
            "500/500 - 1s - loss: 0.1875\n",
            "Epoch 90/100\n",
            "500/500 - 1s - loss: 0.1875\n",
            "Epoch 91/100\n",
            "500/500 - 1s - loss: 0.1875\n",
            "Epoch 92/100\n",
            "500/500 - 1s - loss: 0.1875\n",
            "Epoch 93/100\n",
            "500/500 - 1s - loss: 0.1875\n",
            "Epoch 94/100\n",
            "500/500 - 1s - loss: 0.1875\n",
            "Epoch 95/100\n",
            "500/500 - 1s - loss: 0.1875\n",
            "Epoch 96/100\n",
            "500/500 - 1s - loss: 0.1875\n",
            "Epoch 97/100\n",
            "500/500 - 1s - loss: 0.1874\n",
            "Epoch 98/100\n",
            "500/500 - 1s - loss: 0.1874\n",
            "Epoch 99/100\n",
            "500/500 - 1s - loss: 0.1874\n",
            "Epoch 100/100\n",
            "500/500 - 1s - loss: 0.1874\n",
            "CPU times: user 2min 25s, sys: 11.1 s, total: 2min 36s\n",
            "Wall time: 1min 52s\n"
          ],
          "name": "stdout"
        }
      ]
    },
    {
      "cell_type": "code",
      "metadata": {
        "id": "W7-xMKRTDTLK",
        "colab": {
          "base_uri": "https://localhost:8080/"
        },
        "outputId": "181ee803-9b98-4bd3-bede-5c1156b03dfe"
      },
      "source": [
        "deep_full.save('/content/drive/MyDrive/models/deep1')"
      ],
      "execution_count": null,
      "outputs": [
        {
          "output_type": "stream",
          "text": [
            "INFO:tensorflow:Assets written to: /content/drive/MyDrive/models/deep1/assets\n"
          ],
          "name": "stdout"
        }
      ]
    },
    {
      "cell_type": "code",
      "metadata": {
        "colab": {
          "base_uri": "https://localhost:8080/",
          "height": 289
        },
        "id": "v0MeyVc92BTA",
        "outputId": "f2f4d174-58a8-4f72-8776-a125eab51b46"
      },
      "source": [
        "plot_loss(history, yran=[0.186, 0.2], val = False)"
      ],
      "execution_count": null,
      "outputs": [
        {
          "output_type": "display_data",
          "data": {
            "image/png": "[encoded data removed]",
            "text/plain": [
              "<Figure size 432x288 with 1 Axes>"
            ]
          },
          "metadata": {
            "tags": []
          }
        }
      ]
    },
    {
      "cell_type": "code",
      "metadata": {
        "id": "8Fjvim6pnP_I"
      },
      "source": [
        "predictions = deep.predict([x,lv])"
      ],
      "execution_count": null,
      "outputs": []
    },
    {
      "cell_type": "code",
      "metadata": {
        "colab": {
          "base_uri": "https://localhost:8080/"
        },
        "id": "OITF28I71GrA",
        "outputId": "654a4dc2-0aef-4c47-c12b-19a9de199332"
      },
      "source": [
        "preds = predictions.flatten()\n",
        "# mean of predicted claims\n",
        "preds.mean()"
      ],
      "execution_count": null,
      "outputs": [
        {
          "output_type": "execute_result",
          "data": {
            "text/plain": [
              "0.051582538"
            ]
          },
          "metadata": {
            "tags": []
          },
          "execution_count": 162
        }
      ]
    },
    {
      "cell_type": "code",
      "metadata": {
        "colab": {
          "base_uri": "https://localhost:8080/"
        },
        "id": "by-uyHi37tRC",
        "outputId": "0d2e5c04-f01c-4f3b-af50-c2fdf667597e"
      },
      "source": [
        "preds.max()\n"
      ],
      "execution_count": null,
      "outputs": [
        {
          "output_type": "execute_result",
          "data": {
            "text/plain": [
              "0.8455306"
            ]
          },
          "metadata": {
            "tags": []
          },
          "execution_count": 163
        }
      ]
    },
    {
      "cell_type": "code",
      "metadata": {
        "id": "M9XYhkIiGkCe",
        "colab": {
          "base_uri": "https://localhost:8080/"
        },
        "outputId": "86591e41-9b45-4a65-8bae-34e55a06704c"
      },
      "source": [
        "# in sample deviance\n",
        "deviance(preds / v, v, y)"
      ],
      "execution_count": null,
      "outputs": [
        {
          "output_type": "execute_result",
          "data": {
            "text/plain": [
              "0.27661915508799556"
            ]
          },
          "metadata": {
            "tags": []
          },
          "execution_count": 168
        }
      ]
    },
    {
      "cell_type": "code",
      "metadata": {
        "colab": {
          "base_uri": "https://localhost:8080/"
        },
        "id": "DqQqHM96M9xz",
        "outputId": "5498879c-e01e-4b33-aee1-288eb44f4e9e"
      },
      "source": [
        "# eps\n",
        "deviance(preds, v , truefreq, eps = True)"
      ],
      "execution_count": null,
      "outputs": [
        {
          "output_type": "stream",
          "text": [
            "878.760751612073\n"
          ],
          "name": "stdout"
        },
        {
          "output_type": "execute_result",
          "data": {
            "text/plain": [
              "0.0034561210560226014"
            ]
          },
          "metadata": {
            "tags": []
          },
          "execution_count": 165
        }
      ]
    },
    {
      "cell_type": "code",
      "metadata": {
        "id": "ukfyOOl13Poo"
      },
      "source": [
        "tf.keras.backend.set_epsilon(1e-7)\n"
      ],
      "execution_count": null,
      "outputs": []
    },
    {
      "cell_type": "code",
      "metadata": {
        "id": "77hyEUgH7_N7"
      },
      "source": [
        "class DenseLayer(pf.Module):\n",
        "\n",
        "    def __init__(self, d_in: int, d_out: int):\n",
        "\n",
        "        self.w = pf.Parameter([d_in, d_out])\n",
        "        self.b = pf.Parameter([1, d_out])\n",
        "\n",
        "    def __call__(self, x):\n",
        "        return x @ self.w() + self.b()\n",
        "\n",
        "class Linearizer(pf.Module):\n",
        "  \n",
        "  def __init__(self, d_in, d_out):\n",
        "\n",
        "        self.w = pf.Parameter(shape = [d_in, d_out],\n",
        "                          prior = pf.Normal(0, 1/15000),\n",
        "                          )\n",
        "        self.b = pf.Parameter(shape = [1, d_out], \n",
        "                          prior = pf.Normal(lambda_hat, 1/15000),\n",
        "                          )\n",
        "    \n",
        "  def __call__(self,x):\n",
        "        return x @ self.w() + self.b()\n",
        "\n",
        "\n",
        "class DenseNetwork(pf.Module):\n",
        "\n",
        "    def __init__(self, dims):\n",
        "        Nl = len(dims) - 1 #number of layers\n",
        "        self.layers = [pf.Dense(dims[i], dims[i+1]) for i in range(Nl)]\n",
        "        self.activations = (Nl - 1) * [tf.nn.relu]\n",
        "        self.activations += [tf.math.softplus] # toto robi ze z vystupu poslednej vrstvy idie identita\n",
        "        #self.last_layer = Linearizer(Nl, Nl + 1)\n",
        "\n",
        "    def __call__(self, x):\n",
        "        for i in range(len(self.layers)):\n",
        "            x = self.layers[i](x)\n",
        "            x = self.activations[i](x)\n",
        "        #x = self.last_layer(x)\n",
        "        #x = self.activations[len(self.activations) - 1](x)\n",
        "        return x\n",
        "\n",
        "class DenserRegression(pf.ContinuousModel):\n",
        "\n",
        "    def __init__(self, dims):\n",
        "        self.net = DenseNetwork(dims)\n",
        "\n",
        "    def __call__(self, x):\n",
        "        return pf.Poisson(self.net(x))"
      ],
      "execution_count": null,
      "outputs": []
    },
    {
      "cell_type": "code",
      "metadata": {
        "id": "fq78b1yx8PGQ"
      },
      "source": [
        "bayes_first = DenserRegression([42,20,10,8,1])"
      ],
      "execution_count": null,
      "outputs": []
    },
    {
      "cell_type": "code",
      "metadata": {
        "colab": {
          "base_uri": "https://localhost:8080/"
        },
        "id": "84A5w0I1Lkz4",
        "outputId": "999d1df5-e4a7-4346-f232-11cd90ecaeed"
      },
      "source": [
        "bayes_first.net"
      ],
      "execution_count": null,
      "outputs": [
        {
          "output_type": "execute_result",
          "data": {
            "text/plain": [
              "<__main__.DenseNetwork at 0x7f474f796d50>"
            ]
          },
          "metadata": {
            "tags": []
          },
          "execution_count": 64
        }
      ]
    },
    {
      "cell_type": "code",
      "metadata": {
        "colab": {
          "base_uri": "https://localhost:8080/",
          "height": 422
        },
        "id": "VnShmAqCTTdX",
        "outputId": "60bc9219-0620-4aa7-d8f1-cee303e7659f"
      },
      "source": [
        "xx = x\n",
        "xx['v'] = v\n",
        "# Record the ELBO\n",
        "monitor_elbo = pf.MonitorELBO()\n",
        "\n",
        "# Record the mean absolute error on validation data\n",
        "monitor_mae = pf.MonitorMetric('mae', x, y)\n",
        "\n",
        "# Anneal the learning rate from ~2e-4 to ~0\n",
        "lr_scheduler = pf.LearningRateScheduler(lambda e: 2e-4-2e-6*e)\n",
        "\n",
        "# List of callbacks\n",
        "callbacks = [monitor_elbo, monitor_mae]\n",
        "xx"
      ],
      "execution_count": null,
      "outputs": [
        {
          "output_type": "execute_result",
          "data": {
            "text/html": [
              "<div>\n",
              "<style scoped>\n",
              "    .dataframe tbody tr th:only-of-type {\n",
              "        vertical-align: middle;\n",
              "    }\n",
              "\n",
              "    .dataframe tbody tr th {\n",
              "        vertical-align: top;\n",
              "    }\n",
              "\n",
              "    .dataframe thead th {\n",
              "        text-align: right;\n",
              "    }\n",
              "</style>\n",
              "<table border=\"1\" class=\"dataframe\">\n",
              "  <thead>\n",
              "    <tr style=\"text-align: right;\">\n",
              "      <th></th>\n",
              "      <th>age</th>\n",
              "      <th>ac</th>\n",
              "      <th>power</th>\n",
              "      <th>gas</th>\n",
              "      <th>area</th>\n",
              "      <th>dens</th>\n",
              "      <th>brand_B10</th>\n",
              "      <th>brand_B11</th>\n",
              "      <th>brand_B12</th>\n",
              "      <th>brand_B13</th>\n",
              "      <th>brand_B14</th>\n",
              "      <th>brand_B2</th>\n",
              "      <th>brand_B3</th>\n",
              "      <th>brand_B4</th>\n",
              "      <th>brand_B5</th>\n",
              "      <th>brand_B6</th>\n",
              "      <th>ct_AI</th>\n",
              "      <th>ct_AR</th>\n",
              "      <th>ct_BE</th>\n",
              "      <th>ct_BL</th>\n",
              "      <th>ct_BS</th>\n",
              "      <th>ct_FR</th>\n",
              "      <th>ct_GE</th>\n",
              "      <th>ct_GL</th>\n",
              "      <th>ct_GR</th>\n",
              "      <th>ct_JU</th>\n",
              "      <th>ct_LU</th>\n",
              "      <th>ct_NE</th>\n",
              "      <th>ct_NW</th>\n",
              "      <th>ct_OW</th>\n",
              "      <th>ct_SG</th>\n",
              "      <th>ct_SH</th>\n",
              "      <th>ct_SO</th>\n",
              "      <th>ct_SZ</th>\n",
              "      <th>ct_TG</th>\n",
              "      <th>ct_TI</th>\n",
              "      <th>ct_UR</th>\n",
              "      <th>ct_VD</th>\n",
              "      <th>ct_VS</th>\n",
              "      <th>ct_ZG</th>\n",
              "      <th>ct_ZH</th>\n",
              "      <th>v</th>\n",
              "    </tr>\n",
              "  </thead>\n",
              "  <tbody>\n",
              "    <tr>\n",
              "      <th>0</th>\n",
              "      <td>0.333333</td>\n",
              "      <td>-0.771429</td>\n",
              "      <td>-0.636364</td>\n",
              "      <td>-0.5</td>\n",
              "      <td>-0.6</td>\n",
              "      <td>-0.133866</td>\n",
              "      <td>0</td>\n",
              "      <td>0</td>\n",
              "      <td>1</td>\n",
              "      <td>0</td>\n",
              "      <td>0</td>\n",
              "      <td>0</td>\n",
              "      <td>0</td>\n",
              "      <td>0</td>\n",
              "      <td>0</td>\n",
              "      <td>0</td>\n",
              "      <td>0</td>\n",
              "      <td>0</td>\n",
              "      <td>1</td>\n",
              "      <td>0</td>\n",
              "      <td>0</td>\n",
              "      <td>0</td>\n",
              "      <td>0</td>\n",
              "      <td>0</td>\n",
              "      <td>0</td>\n",
              "      <td>0</td>\n",
              "      <td>0</td>\n",
              "      <td>0</td>\n",
              "      <td>0</td>\n",
              "      <td>0</td>\n",
              "      <td>0</td>\n",
              "      <td>0</td>\n",
              "      <td>0</td>\n",
              "      <td>0</td>\n",
              "      <td>0</td>\n",
              "      <td>0</td>\n",
              "      <td>0</td>\n",
              "      <td>0</td>\n",
              "      <td>0</td>\n",
              "      <td>0</td>\n",
              "      <td>0</td>\n",
              "      <td>0.33</td>\n",
              "    </tr>\n",
              "    <tr>\n",
              "      <th>1</th>\n",
              "      <td>-0.638889</td>\n",
              "      <td>-0.942857</td>\n",
              "      <td>0.090909</td>\n",
              "      <td>0.5</td>\n",
              "      <td>-1.0</td>\n",
              "      <td>-0.308800</td>\n",
              "      <td>0</td>\n",
              "      <td>0</td>\n",
              "      <td>0</td>\n",
              "      <td>0</td>\n",
              "      <td>0</td>\n",
              "      <td>0</td>\n",
              "      <td>0</td>\n",
              "      <td>0</td>\n",
              "      <td>0</td>\n",
              "      <td>0</td>\n",
              "      <td>0</td>\n",
              "      <td>0</td>\n",
              "      <td>0</td>\n",
              "      <td>1</td>\n",
              "      <td>0</td>\n",
              "      <td>0</td>\n",
              "      <td>0</td>\n",
              "      <td>0</td>\n",
              "      <td>0</td>\n",
              "      <td>0</td>\n",
              "      <td>0</td>\n",
              "      <td>0</td>\n",
              "      <td>0</td>\n",
              "      <td>0</td>\n",
              "      <td>0</td>\n",
              "      <td>0</td>\n",
              "      <td>0</td>\n",
              "      <td>0</td>\n",
              "      <td>0</td>\n",
              "      <td>0</td>\n",
              "      <td>0</td>\n",
              "      <td>0</td>\n",
              "      <td>0</td>\n",
              "      <td>0</td>\n",
              "      <td>0</td>\n",
              "      <td>0.08</td>\n",
              "    </tr>\n",
              "    <tr>\n",
              "      <th>2</th>\n",
              "      <td>0.166667</td>\n",
              "      <td>-0.657143</td>\n",
              "      <td>-0.272727</td>\n",
              "      <td>0.5</td>\n",
              "      <td>-0.2</td>\n",
              "      <td>0.059857</td>\n",
              "      <td>0</td>\n",
              "      <td>0</td>\n",
              "      <td>0</td>\n",
              "      <td>0</td>\n",
              "      <td>0</td>\n",
              "      <td>0</td>\n",
              "      <td>0</td>\n",
              "      <td>0</td>\n",
              "      <td>0</td>\n",
              "      <td>0</td>\n",
              "      <td>0</td>\n",
              "      <td>0</td>\n",
              "      <td>0</td>\n",
              "      <td>0</td>\n",
              "      <td>0</td>\n",
              "      <td>0</td>\n",
              "      <td>0</td>\n",
              "      <td>0</td>\n",
              "      <td>0</td>\n",
              "      <td>0</td>\n",
              "      <td>0</td>\n",
              "      <td>0</td>\n",
              "      <td>0</td>\n",
              "      <td>0</td>\n",
              "      <td>0</td>\n",
              "      <td>0</td>\n",
              "      <td>0</td>\n",
              "      <td>0</td>\n",
              "      <td>0</td>\n",
              "      <td>0</td>\n",
              "      <td>0</td>\n",
              "      <td>0</td>\n",
              "      <td>0</td>\n",
              "      <td>0</td>\n",
              "      <td>0</td>\n",
              "      <td>0.92</td>\n",
              "    </tr>\n",
              "    <tr>\n",
              "      <th>3</th>\n",
              "      <td>0.333333</td>\n",
              "      <td>-0.771429</td>\n",
              "      <td>-0.818182</td>\n",
              "      <td>0.5</td>\n",
              "      <td>-0.2</td>\n",
              "      <td>0.106561</td>\n",
              "      <td>0</td>\n",
              "      <td>0</td>\n",
              "      <td>0</td>\n",
              "      <td>0</td>\n",
              "      <td>0</td>\n",
              "      <td>0</td>\n",
              "      <td>0</td>\n",
              "      <td>0</td>\n",
              "      <td>0</td>\n",
              "      <td>0</td>\n",
              "      <td>0</td>\n",
              "      <td>0</td>\n",
              "      <td>0</td>\n",
              "      <td>0</td>\n",
              "      <td>0</td>\n",
              "      <td>1</td>\n",
              "      <td>0</td>\n",
              "      <td>0</td>\n",
              "      <td>0</td>\n",
              "      <td>0</td>\n",
              "      <td>0</td>\n",
              "      <td>0</td>\n",
              "      <td>0</td>\n",
              "      <td>0</td>\n",
              "      <td>0</td>\n",
              "      <td>0</td>\n",
              "      <td>0</td>\n",
              "      <td>0</td>\n",
              "      <td>0</td>\n",
              "      <td>0</td>\n",
              "      <td>0</td>\n",
              "      <td>0</td>\n",
              "      <td>0</td>\n",
              "      <td>0</td>\n",
              "      <td>0</td>\n",
              "      <td>1.00</td>\n",
              "    </tr>\n",
              "    <tr>\n",
              "      <th>4</th>\n",
              "      <td>0.250000</td>\n",
              "      <td>-0.828571</td>\n",
              "      <td>-0.272727</td>\n",
              "      <td>-0.5</td>\n",
              "      <td>-0.6</td>\n",
              "      <td>-0.156363</td>\n",
              "      <td>0</td>\n",
              "      <td>0</td>\n",
              "      <td>1</td>\n",
              "      <td>0</td>\n",
              "      <td>0</td>\n",
              "      <td>0</td>\n",
              "      <td>0</td>\n",
              "      <td>0</td>\n",
              "      <td>0</td>\n",
              "      <td>0</td>\n",
              "      <td>0</td>\n",
              "      <td>0</td>\n",
              "      <td>0</td>\n",
              "      <td>0</td>\n",
              "      <td>0</td>\n",
              "      <td>0</td>\n",
              "      <td>0</td>\n",
              "      <td>0</td>\n",
              "      <td>0</td>\n",
              "      <td>0</td>\n",
              "      <td>0</td>\n",
              "      <td>0</td>\n",
              "      <td>0</td>\n",
              "      <td>0</td>\n",
              "      <td>0</td>\n",
              "      <td>0</td>\n",
              "      <td>0</td>\n",
              "      <td>0</td>\n",
              "      <td>0</td>\n",
              "      <td>0</td>\n",
              "      <td>0</td>\n",
              "      <td>0</td>\n",
              "      <td>1</td>\n",
              "      <td>0</td>\n",
              "      <td>0</td>\n",
              "      <td>0.63</td>\n",
              "    </tr>\n",
              "    <tr>\n",
              "      <th>...</th>\n",
              "      <td>...</td>\n",
              "      <td>...</td>\n",
              "      <td>...</td>\n",
              "      <td>...</td>\n",
              "      <td>...</td>\n",
              "      <td>...</td>\n",
              "      <td>...</td>\n",
              "      <td>...</td>\n",
              "      <td>...</td>\n",
              "      <td>...</td>\n",
              "      <td>...</td>\n",
              "      <td>...</td>\n",
              "      <td>...</td>\n",
              "      <td>...</td>\n",
              "      <td>...</td>\n",
              "      <td>...</td>\n",
              "      <td>...</td>\n",
              "      <td>...</td>\n",
              "      <td>...</td>\n",
              "      <td>...</td>\n",
              "      <td>...</td>\n",
              "      <td>...</td>\n",
              "      <td>...</td>\n",
              "      <td>...</td>\n",
              "      <td>...</td>\n",
              "      <td>...</td>\n",
              "      <td>...</td>\n",
              "      <td>...</td>\n",
              "      <td>...</td>\n",
              "      <td>...</td>\n",
              "      <td>...</td>\n",
              "      <td>...</td>\n",
              "      <td>...</td>\n",
              "      <td>...</td>\n",
              "      <td>...</td>\n",
              "      <td>...</td>\n",
              "      <td>...</td>\n",
              "      <td>...</td>\n",
              "      <td>...</td>\n",
              "      <td>...</td>\n",
              "      <td>...</td>\n",
              "      <td>...</td>\n",
              "    </tr>\n",
              "    <tr>\n",
              "      <th>499995</th>\n",
              "      <td>-0.611111</td>\n",
              "      <td>-0.828571</td>\n",
              "      <td>-0.818182</td>\n",
              "      <td>0.5</td>\n",
              "      <td>-0.2</td>\n",
              "      <td>0.042402</td>\n",
              "      <td>0</td>\n",
              "      <td>0</td>\n",
              "      <td>0</td>\n",
              "      <td>0</td>\n",
              "      <td>0</td>\n",
              "      <td>0</td>\n",
              "      <td>0</td>\n",
              "      <td>0</td>\n",
              "      <td>0</td>\n",
              "      <td>0</td>\n",
              "      <td>0</td>\n",
              "      <td>0</td>\n",
              "      <td>0</td>\n",
              "      <td>0</td>\n",
              "      <td>0</td>\n",
              "      <td>1</td>\n",
              "      <td>0</td>\n",
              "      <td>0</td>\n",
              "      <td>0</td>\n",
              "      <td>0</td>\n",
              "      <td>0</td>\n",
              "      <td>0</td>\n",
              "      <td>0</td>\n",
              "      <td>0</td>\n",
              "      <td>0</td>\n",
              "      <td>0</td>\n",
              "      <td>0</td>\n",
              "      <td>0</td>\n",
              "      <td>0</td>\n",
              "      <td>0</td>\n",
              "      <td>0</td>\n",
              "      <td>0</td>\n",
              "      <td>0</td>\n",
              "      <td>0</td>\n",
              "      <td>0</td>\n",
              "      <td>0.15</td>\n",
              "    </tr>\n",
              "    <tr>\n",
              "      <th>499996</th>\n",
              "      <td>-0.388889</td>\n",
              "      <td>-0.885714</td>\n",
              "      <td>-0.818182</td>\n",
              "      <td>-0.5</td>\n",
              "      <td>0.2</td>\n",
              "      <td>0.259335</td>\n",
              "      <td>0</td>\n",
              "      <td>0</td>\n",
              "      <td>1</td>\n",
              "      <td>0</td>\n",
              "      <td>0</td>\n",
              "      <td>0</td>\n",
              "      <td>0</td>\n",
              "      <td>0</td>\n",
              "      <td>0</td>\n",
              "      <td>0</td>\n",
              "      <td>0</td>\n",
              "      <td>0</td>\n",
              "      <td>0</td>\n",
              "      <td>0</td>\n",
              "      <td>0</td>\n",
              "      <td>1</td>\n",
              "      <td>0</td>\n",
              "      <td>0</td>\n",
              "      <td>0</td>\n",
              "      <td>0</td>\n",
              "      <td>0</td>\n",
              "      <td>0</td>\n",
              "      <td>0</td>\n",
              "      <td>0</td>\n",
              "      <td>0</td>\n",
              "      <td>0</td>\n",
              "      <td>0</td>\n",
              "      <td>0</td>\n",
              "      <td>0</td>\n",
              "      <td>0</td>\n",
              "      <td>0</td>\n",
              "      <td>0</td>\n",
              "      <td>0</td>\n",
              "      <td>0</td>\n",
              "      <td>0</td>\n",
              "      <td>0.86</td>\n",
              "    </tr>\n",
              "    <tr>\n",
              "      <th>499997</th>\n",
              "      <td>-0.222222</td>\n",
              "      <td>-0.600000</td>\n",
              "      <td>-0.454545</td>\n",
              "      <td>-0.5</td>\n",
              "      <td>-0.2</td>\n",
              "      <td>0.072617</td>\n",
              "      <td>0</td>\n",
              "      <td>0</td>\n",
              "      <td>0</td>\n",
              "      <td>0</td>\n",
              "      <td>0</td>\n",
              "      <td>0</td>\n",
              "      <td>0</td>\n",
              "      <td>0</td>\n",
              "      <td>0</td>\n",
              "      <td>0</td>\n",
              "      <td>0</td>\n",
              "      <td>0</td>\n",
              "      <td>0</td>\n",
              "      <td>0</td>\n",
              "      <td>0</td>\n",
              "      <td>0</td>\n",
              "      <td>0</td>\n",
              "      <td>0</td>\n",
              "      <td>0</td>\n",
              "      <td>0</td>\n",
              "      <td>0</td>\n",
              "      <td>0</td>\n",
              "      <td>0</td>\n",
              "      <td>0</td>\n",
              "      <td>0</td>\n",
              "      <td>0</td>\n",
              "      <td>0</td>\n",
              "      <td>0</td>\n",
              "      <td>0</td>\n",
              "      <td>0</td>\n",
              "      <td>0</td>\n",
              "      <td>1</td>\n",
              "      <td>0</td>\n",
              "      <td>0</td>\n",
              "      <td>0</td>\n",
              "      <td>0.74</td>\n",
              "    </tr>\n",
              "    <tr>\n",
              "      <th>499998</th>\n",
              "      <td>0.500000</td>\n",
              "      <td>-0.714286</td>\n",
              "      <td>-0.636364</td>\n",
              "      <td>0.5</td>\n",
              "      <td>-0.6</td>\n",
              "      <td>-0.109472</td>\n",
              "      <td>0</td>\n",
              "      <td>0</td>\n",
              "      <td>0</td>\n",
              "      <td>0</td>\n",
              "      <td>0</td>\n",
              "      <td>1</td>\n",
              "      <td>0</td>\n",
              "      <td>0</td>\n",
              "      <td>0</td>\n",
              "      <td>0</td>\n",
              "      <td>0</td>\n",
              "      <td>0</td>\n",
              "      <td>0</td>\n",
              "      <td>0</td>\n",
              "      <td>0</td>\n",
              "      <td>0</td>\n",
              "      <td>0</td>\n",
              "      <td>0</td>\n",
              "      <td>0</td>\n",
              "      <td>0</td>\n",
              "      <td>0</td>\n",
              "      <td>0</td>\n",
              "      <td>0</td>\n",
              "      <td>0</td>\n",
              "      <td>0</td>\n",
              "      <td>0</td>\n",
              "      <td>0</td>\n",
              "      <td>0</td>\n",
              "      <td>0</td>\n",
              "      <td>0</td>\n",
              "      <td>0</td>\n",
              "      <td>0</td>\n",
              "      <td>1</td>\n",
              "      <td>0</td>\n",
              "      <td>0</td>\n",
              "      <td>1.00</td>\n",
              "    </tr>\n",
              "    <tr>\n",
              "      <th>499999</th>\n",
              "      <td>-0.638889</td>\n",
              "      <td>-0.942857</td>\n",
              "      <td>-1.000000</td>\n",
              "      <td>0.5</td>\n",
              "      <td>-0.2</td>\n",
              "      <td>0.132474</td>\n",
              "      <td>0</td>\n",
              "      <td>0</td>\n",
              "      <td>1</td>\n",
              "      <td>0</td>\n",
              "      <td>0</td>\n",
              "      <td>0</td>\n",
              "      <td>0</td>\n",
              "      <td>0</td>\n",
              "      <td>0</td>\n",
              "      <td>0</td>\n",
              "      <td>0</td>\n",
              "      <td>0</td>\n",
              "      <td>0</td>\n",
              "      <td>1</td>\n",
              "      <td>0</td>\n",
              "      <td>0</td>\n",
              "      <td>0</td>\n",
              "      <td>0</td>\n",
              "      <td>0</td>\n",
              "      <td>0</td>\n",
              "      <td>0</td>\n",
              "      <td>0</td>\n",
              "      <td>0</td>\n",
              "      <td>0</td>\n",
              "      <td>0</td>\n",
              "      <td>0</td>\n",
              "      <td>0</td>\n",
              "      <td>0</td>\n",
              "      <td>0</td>\n",
              "      <td>0</td>\n",
              "      <td>0</td>\n",
              "      <td>0</td>\n",
              "      <td>0</td>\n",
              "      <td>0</td>\n",
              "      <td>0</td>\n",
              "      <td>0.64</td>\n",
              "    </tr>\n",
              "  </tbody>\n",
              "</table>\n",
              "<p>500000 rows × 42 columns</p>\n",
              "</div>"
            ],
            "text/plain": [
              "             age        ac     power  gas  ...  ct_VS  ct_ZG  ct_ZH     v\n",
              "0       0.333333 -0.771429 -0.636364 -0.5  ...      0      0      0  0.33\n",
              "1      -0.638889 -0.942857  0.090909  0.5  ...      0      0      0  0.08\n",
              "2       0.166667 -0.657143 -0.272727  0.5  ...      0      0      0  0.92\n",
              "3       0.333333 -0.771429 -0.818182  0.5  ...      0      0      0  1.00\n",
              "4       0.250000 -0.828571 -0.272727 -0.5  ...      1      0      0  0.63\n",
              "...          ...       ...       ...  ...  ...    ...    ...    ...   ...\n",
              "499995 -0.611111 -0.828571 -0.818182  0.5  ...      0      0      0  0.15\n",
              "499996 -0.388889 -0.885714 -0.818182 -0.5  ...      0      0      0  0.86\n",
              "499997 -0.222222 -0.600000 -0.454545 -0.5  ...      0      0      0  0.74\n",
              "499998  0.500000 -0.714286 -0.636364  0.5  ...      1      0      0  1.00\n",
              "499999 -0.638889 -0.942857 -1.000000  0.5  ...      0      0      0  0.64\n",
              "\n",
              "[500000 rows x 42 columns]"
            ]
          },
          "metadata": {
            "tags": []
          },
          "execution_count": 53
        }
      ]
    },
    {
      "cell_type": "code",
      "metadata": {
        "colab": {
          "base_uri": "https://localhost:8080/"
        },
        "id": "xtmhIbWW8epZ",
        "outputId": "562452af-28fe-4e0d-d646-e1542d1078e3"
      },
      "source": [
        "%%time\n",
        "bayes_first.fit(xx, y, epochs= 100, batch_size=1024, callbacks=callbacks, num_workers=4, eager = True)"
      ],
      "execution_count": null,
      "outputs": [
        {
          "output_type": "stream",
          "text": [
            "CPU times: user 49min 6s, sys: 25min 2s, total: 1h 14min 9s\n",
            "Wall time: 1h 12min 49s\n"
          ],
          "name": "stdout"
        }
      ]
    },
    {
      "cell_type": "code",
      "metadata": {
        "id": "3dbqbwByoI_n"
      },
      "source": [
        "vysledky = bayes_first.predict(xx)"
      ],
      "execution_count": null,
      "outputs": []
    },
    {
      "cell_type": "code",
      "metadata": {
        "colab": {
          "base_uri": "https://localhost:8080/",
          "height": 285
        },
        "id": "HNah0U288ilp",
        "outputId": "7e994e03-b68c-437c-a705-503aad3bb679"
      },
      "source": [
        "monitor_elbo.plot()"
      ],
      "execution_count": null,
      "outputs": [
        {
          "output_type": "display_data",
          "data": {
            "image/png": "[encoded data removed]",
            "text/plain": [
              "<Figure size 432x288 with 1 Axes>"
            ]
          },
          "metadata": {
            "tags": []
          }
        }
      ]
    },
    {
      "cell_type": "code",
      "metadata": {
        "colab": {
          "base_uri": "https://localhost:8080/",
          "height": 162
        },
        "id": "ZuuHvDQNo6Q2",
        "outputId": "0cd3ada8-28b1-4a7f-92db-535663243386"
      },
      "source": [
        "vysledky.mean()"
      ],
      "execution_count": null,
      "outputs": [
        {
          "output_type": "error",
          "ename": "NameError",
          "evalue": "ignored",
          "traceback": [
            "\u001b[0;31m---------------------------------------------------------------------------\u001b[0m",
            "\u001b[0;31mNameError\u001b[0m                                 Traceback (most recent call last)",
            "\u001b[0;32m<ipython-input-1-f1d94783b8dc>\u001b[0m in \u001b[0;36m<module>\u001b[0;34m()\u001b[0m\n\u001b[0;32m----> 1\u001b[0;31m \u001b[0mvysledky\u001b[0m\u001b[0;34m.\u001b[0m\u001b[0mmean\u001b[0m\u001b[0;34m(\u001b[0m\u001b[0;34m)\u001b[0m\u001b[0;34m\u001b[0m\u001b[0;34m\u001b[0m\u001b[0m\n\u001b[0m",
            "\u001b[0;31mNameError\u001b[0m: name 'vysledky' is not defined"
          ]
        }
      ]
    },
    {
      "cell_type": "code",
      "metadata": {
        "colab": {
          "base_uri": "https://localhost:8080/",
          "height": 236
        },
        "id": "Exv8bDjBn4M3",
        "outputId": "00125aef-f5f5-4475-f54e-3fa867819237"
      },
      "source": [
        "bayes_first.pred_dist_plot(xx.values[128:129,:], n = 10000)"
      ],
      "execution_count": null,
      "outputs": [
        {
          "output_type": "error",
          "ename": "InvalidArgumentError",
          "evalue": "ignored",
          "traceback": [
            "\u001b[0;31m---------------------------------------------------------------------------\u001b[0m",
            "\u001b[0;31mInvalidArgumentError\u001b[0m                      Traceback (most recent call last)",
            "\u001b[0;32m<ipython-input-59-94f7ab294129>\u001b[0m in \u001b[0;36m<module>\u001b[0;34m()\u001b[0m\n\u001b[0;32m----> 1\u001b[0;31m \u001b[0mbayes_first\u001b[0m\u001b[0;34m.\u001b[0m\u001b[0mpred_dist_plot\u001b[0m\u001b[0;34m(\u001b[0m\u001b[0mxx\u001b[0m\u001b[0;34m.\u001b[0m\u001b[0mvalues\u001b[0m\u001b[0;34m[\u001b[0m\u001b[0;36m128\u001b[0m\u001b[0;34m:\u001b[0m\u001b[0;36m129\u001b[0m\u001b[0;34m,\u001b[0m\u001b[0;34m:\u001b[0m\u001b[0;34m]\u001b[0m\u001b[0;34m,\u001b[0m \u001b[0mn\u001b[0m \u001b[0;34m=\u001b[0m \u001b[0;36m10000\u001b[0m\u001b[0;34m)\u001b[0m\u001b[0;34m\u001b[0m\u001b[0;34m\u001b[0m\u001b[0m\n\u001b[0m",
            "\u001b[0;32m/usr/local/lib/python3.7/dist-packages/probflow/models/continuous_model.py\u001b[0m in \u001b[0;36mpred_dist_plot\u001b[0;34m(self, x, n, cols, individually, batch_size, **kwargs)\u001b[0m\n\u001b[1;32m    289\u001b[0m \u001b[0;34m\u001b[0m\u001b[0m\n\u001b[1;32m    290\u001b[0m         \u001b[0;31m# Sample from the predictive distribution\u001b[0m\u001b[0;34m\u001b[0m\u001b[0;34m\u001b[0m\u001b[0;34m\u001b[0m\u001b[0m\n\u001b[0;32m--> 291\u001b[0;31m         \u001b[0msamples\u001b[0m \u001b[0;34m=\u001b[0m \u001b[0mself\u001b[0m\u001b[0;34m.\u001b[0m\u001b[0mpredictive_sample\u001b[0m\u001b[0;34m(\u001b[0m\u001b[0mx\u001b[0m\u001b[0;34m,\u001b[0m \u001b[0mn\u001b[0m\u001b[0;34m=\u001b[0m\u001b[0mn\u001b[0m\u001b[0;34m,\u001b[0m \u001b[0mbatch_size\u001b[0m\u001b[0;34m=\u001b[0m\u001b[0mbatch_size\u001b[0m\u001b[0;34m)\u001b[0m\u001b[0;34m\u001b[0m\u001b[0;34m\u001b[0m\u001b[0m\n\u001b[0m\u001b[1;32m    292\u001b[0m \u001b[0;34m\u001b[0m\u001b[0m\n\u001b[1;32m    293\u001b[0m         \u001b[0;31m# Independent variable must be scalar\u001b[0m\u001b[0;34m\u001b[0m\u001b[0;34m\u001b[0m\u001b[0;34m\u001b[0m\u001b[0m\n",
            "\u001b[0;32m/usr/local/lib/python3.7/dist-packages/probflow/models/model.py\u001b[0m in \u001b[0;36mpredictive_sample\u001b[0;34m(self, x, n, batch_size)\u001b[0m\n\u001b[1;32m    449\u001b[0m         \u001b[0;32mwith\u001b[0m \u001b[0mSampling\u001b[0m\u001b[0;34m(\u001b[0m\u001b[0mn\u001b[0m\u001b[0;34m=\u001b[0m\u001b[0mn\u001b[0m\u001b[0;34m,\u001b[0m \u001b[0mflipout\u001b[0m\u001b[0;34m=\u001b[0m\u001b[0;32mFalse\u001b[0m\u001b[0;34m)\u001b[0m\u001b[0;34m:\u001b[0m\u001b[0;34m\u001b[0m\u001b[0;34m\u001b[0m\u001b[0m\n\u001b[1;32m    450\u001b[0m             return self._sample(\n\u001b[0;32m--> 451\u001b[0;31m                 \u001b[0mx\u001b[0m\u001b[0;34m,\u001b[0m \u001b[0;32mlambda\u001b[0m \u001b[0mx\u001b[0m\u001b[0;34m:\u001b[0m \u001b[0mx\u001b[0m\u001b[0;34m.\u001b[0m\u001b[0msample\u001b[0m\u001b[0;34m(\u001b[0m\u001b[0;34m)\u001b[0m\u001b[0;34m,\u001b[0m \u001b[0med\u001b[0m\u001b[0;34m=\u001b[0m\u001b[0;36m0\u001b[0m\u001b[0;34m,\u001b[0m \u001b[0mbatch_size\u001b[0m\u001b[0;34m=\u001b[0m\u001b[0mbatch_size\u001b[0m\u001b[0;34m\u001b[0m\u001b[0;34m\u001b[0m\u001b[0m\n\u001b[0m\u001b[1;32m    452\u001b[0m             )\n\u001b[1;32m    453\u001b[0m \u001b[0;34m\u001b[0m\u001b[0m\n",
            "\u001b[0;32m/usr/local/lib/python3.7/dist-packages/probflow/models/model.py\u001b[0m in \u001b[0;36m_sample\u001b[0;34m(self, x, func, ed, axis, batch_size)\u001b[0m\n\u001b[1;32m    420\u001b[0m                 \u001b[0msamples\u001b[0m \u001b[0;34m+=\u001b[0m \u001b[0;34m[\u001b[0m\u001b[0mfunc\u001b[0m\u001b[0;34m(\u001b[0m\u001b[0mself\u001b[0m\u001b[0;34m(\u001b[0m\u001b[0;34m)\u001b[0m\u001b[0;34m)\u001b[0m\u001b[0;34m]\u001b[0m\u001b[0;34m\u001b[0m\u001b[0;34m\u001b[0m\u001b[0m\n\u001b[1;32m    421\u001b[0m             \u001b[0;32melse\u001b[0m\u001b[0;34m:\u001b[0m\u001b[0;34m\u001b[0m\u001b[0;34m\u001b[0m\u001b[0m\n\u001b[0;32m--> 422\u001b[0;31m                 \u001b[0msamples\u001b[0m \u001b[0;34m+=\u001b[0m \u001b[0;34m[\u001b[0m\u001b[0mfunc\u001b[0m\u001b[0;34m(\u001b[0m\u001b[0mself\u001b[0m\u001b[0;34m(\u001b[0m\u001b[0mO\u001b[0m\u001b[0;34m.\u001b[0m\u001b[0mexpand_dims\u001b[0m\u001b[0;34m(\u001b[0m\u001b[0mx_data\u001b[0m\u001b[0;34m,\u001b[0m \u001b[0med\u001b[0m\u001b[0;34m)\u001b[0m\u001b[0;34m)\u001b[0m\u001b[0;34m)\u001b[0m\u001b[0;34m]\u001b[0m\u001b[0;34m\u001b[0m\u001b[0;34m\u001b[0m\u001b[0m\n\u001b[0m\u001b[1;32m    423\u001b[0m         \u001b[0;32mreturn\u001b[0m \u001b[0mnp\u001b[0m\u001b[0;34m.\u001b[0m\u001b[0mconcatenate\u001b[0m\u001b[0;34m(\u001b[0m\u001b[0mto_numpy\u001b[0m\u001b[0;34m(\u001b[0m\u001b[0msamples\u001b[0m\u001b[0;34m)\u001b[0m\u001b[0;34m,\u001b[0m \u001b[0maxis\u001b[0m\u001b[0;34m=\u001b[0m\u001b[0maxis\u001b[0m\u001b[0;34m)\u001b[0m\u001b[0;34m\u001b[0m\u001b[0;34m\u001b[0m\u001b[0m\n\u001b[1;32m    424\u001b[0m \u001b[0;34m\u001b[0m\u001b[0m\n",
            "\u001b[0;32m<ipython-input-51-bf529e2c186d>\u001b[0m in \u001b[0;36m__call__\u001b[0;34m(self, x)\u001b[0m\n\u001b[1;32m     47\u001b[0m \u001b[0;34m\u001b[0m\u001b[0m\n\u001b[1;32m     48\u001b[0m     \u001b[0;32mdef\u001b[0m \u001b[0m__call__\u001b[0m\u001b[0;34m(\u001b[0m\u001b[0mself\u001b[0m\u001b[0;34m,\u001b[0m \u001b[0mx\u001b[0m\u001b[0;34m)\u001b[0m\u001b[0;34m:\u001b[0m\u001b[0;34m\u001b[0m\u001b[0;34m\u001b[0m\u001b[0m\n\u001b[0;32m---> 49\u001b[0;31m         \u001b[0;32mreturn\u001b[0m \u001b[0mpf\u001b[0m\u001b[0;34m.\u001b[0m\u001b[0mPoisson\u001b[0m\u001b[0;34m(\u001b[0m\u001b[0mself\u001b[0m\u001b[0;34m.\u001b[0m\u001b[0mnet\u001b[0m\u001b[0;34m(\u001b[0m\u001b[0mx\u001b[0m\u001b[0;34m)\u001b[0m\u001b[0;34m)\u001b[0m\u001b[0;34m\u001b[0m\u001b[0;34m\u001b[0m\u001b[0m\n\u001b[0m",
            "\u001b[0;32m<ipython-input-51-bf529e2c186d>\u001b[0m in \u001b[0;36m__call__\u001b[0;34m(self, x)\u001b[0m\n\u001b[1;32m     35\u001b[0m     \u001b[0;32mdef\u001b[0m \u001b[0m__call__\u001b[0m\u001b[0;34m(\u001b[0m\u001b[0mself\u001b[0m\u001b[0;34m,\u001b[0m \u001b[0mx\u001b[0m\u001b[0;34m)\u001b[0m\u001b[0;34m:\u001b[0m\u001b[0;34m\u001b[0m\u001b[0;34m\u001b[0m\u001b[0m\n\u001b[1;32m     36\u001b[0m         \u001b[0;32mfor\u001b[0m \u001b[0mi\u001b[0m \u001b[0;32min\u001b[0m \u001b[0mrange\u001b[0m\u001b[0;34m(\u001b[0m\u001b[0mlen\u001b[0m\u001b[0;34m(\u001b[0m\u001b[0mself\u001b[0m\u001b[0;34m.\u001b[0m\u001b[0mlayers\u001b[0m\u001b[0;34m)\u001b[0m\u001b[0;34m)\u001b[0m\u001b[0;34m:\u001b[0m\u001b[0;34m\u001b[0m\u001b[0;34m\u001b[0m\u001b[0m\n\u001b[0;32m---> 37\u001b[0;31m             \u001b[0mx\u001b[0m \u001b[0;34m=\u001b[0m \u001b[0mself\u001b[0m\u001b[0;34m.\u001b[0m\u001b[0mlayers\u001b[0m\u001b[0;34m[\u001b[0m\u001b[0mi\u001b[0m\u001b[0;34m]\u001b[0m\u001b[0;34m(\u001b[0m\u001b[0mx\u001b[0m\u001b[0;34m)\u001b[0m\u001b[0;34m\u001b[0m\u001b[0;34m\u001b[0m\u001b[0m\n\u001b[0m\u001b[1;32m     38\u001b[0m             \u001b[0mx\u001b[0m \u001b[0;34m=\u001b[0m \u001b[0mself\u001b[0m\u001b[0;34m.\u001b[0m\u001b[0mactivations\u001b[0m\u001b[0;34m[\u001b[0m\u001b[0mi\u001b[0m\u001b[0;34m]\u001b[0m\u001b[0;34m(\u001b[0m\u001b[0mx\u001b[0m\u001b[0;34m)\u001b[0m\u001b[0;34m\u001b[0m\u001b[0;34m\u001b[0m\u001b[0m\n\u001b[1;32m     39\u001b[0m         \u001b[0;31m#x = self.last_layer(x)\u001b[0m\u001b[0;34m\u001b[0m\u001b[0;34m\u001b[0m\u001b[0;34m\u001b[0m\u001b[0m\n",
            "\u001b[0;32m/usr/local/lib/python3.7/dist-packages/probflow/modules/dense.py\u001b[0m in \u001b[0;36m__call__\u001b[0;34m(self, x)\u001b[0m\n\u001b[1;32m    109\u001b[0m         \u001b[0;31m# Without Flipout\u001b[0m\u001b[0;34m\u001b[0m\u001b[0;34m\u001b[0m\u001b[0;34m\u001b[0m\u001b[0m\n\u001b[1;32m    110\u001b[0m         \u001b[0;32melse\u001b[0m\u001b[0;34m:\u001b[0m\u001b[0;34m\u001b[0m\u001b[0;34m\u001b[0m\u001b[0m\n\u001b[0;32m--> 111\u001b[0;31m             \u001b[0;32mreturn\u001b[0m \u001b[0mx\u001b[0m \u001b[0;34m@\u001b[0m \u001b[0mself\u001b[0m\u001b[0;34m.\u001b[0m\u001b[0mweights\u001b[0m\u001b[0;34m(\u001b[0m\u001b[0;34m)\u001b[0m \u001b[0;34m+\u001b[0m \u001b[0mself\u001b[0m\u001b[0;34m.\u001b[0m\u001b[0mbias\u001b[0m\u001b[0;34m(\u001b[0m\u001b[0;34m)\u001b[0m\u001b[0;34m\u001b[0m\u001b[0;34m\u001b[0m\u001b[0m\n\u001b[0m",
            "\u001b[0;32m/usr/local/lib/python3.7/dist-packages/tensorflow/python/ops/math_ops.py\u001b[0m in \u001b[0;36mbinary_op_wrapper\u001b[0;34m(x, y)\u001b[0m\n\u001b[1;32m   1162\u001b[0m     \u001b[0;32mwith\u001b[0m \u001b[0mops\u001b[0m\u001b[0;34m.\u001b[0m\u001b[0mname_scope\u001b[0m\u001b[0;34m(\u001b[0m\u001b[0;32mNone\u001b[0m\u001b[0;34m,\u001b[0m \u001b[0mop_name\u001b[0m\u001b[0;34m,\u001b[0m \u001b[0;34m[\u001b[0m\u001b[0mx\u001b[0m\u001b[0;34m,\u001b[0m \u001b[0my\u001b[0m\u001b[0;34m]\u001b[0m\u001b[0;34m)\u001b[0m \u001b[0;32mas\u001b[0m \u001b[0mname\u001b[0m\u001b[0;34m:\u001b[0m\u001b[0;34m\u001b[0m\u001b[0;34m\u001b[0m\u001b[0m\n\u001b[1;32m   1163\u001b[0m       \u001b[0;32mtry\u001b[0m\u001b[0;34m:\u001b[0m\u001b[0;34m\u001b[0m\u001b[0;34m\u001b[0m\u001b[0m\n\u001b[0;32m-> 1164\u001b[0;31m         \u001b[0;32mreturn\u001b[0m \u001b[0mfunc\u001b[0m\u001b[0;34m(\u001b[0m\u001b[0mx\u001b[0m\u001b[0;34m,\u001b[0m \u001b[0my\u001b[0m\u001b[0;34m,\u001b[0m \u001b[0mname\u001b[0m\u001b[0;34m=\u001b[0m\u001b[0mname\u001b[0m\u001b[0;34m)\u001b[0m\u001b[0;34m\u001b[0m\u001b[0;34m\u001b[0m\u001b[0m\n\u001b[0m\u001b[1;32m   1165\u001b[0m       \u001b[0;32mexcept\u001b[0m \u001b[0;34m(\u001b[0m\u001b[0mTypeError\u001b[0m\u001b[0;34m,\u001b[0m \u001b[0mValueError\u001b[0m\u001b[0;34m)\u001b[0m \u001b[0;32mas\u001b[0m \u001b[0me\u001b[0m\u001b[0;34m:\u001b[0m\u001b[0;34m\u001b[0m\u001b[0;34m\u001b[0m\u001b[0m\n\u001b[1;32m   1166\u001b[0m         \u001b[0;31m# Even if dispatching the op failed, the RHS may be a tensor aware\u001b[0m\u001b[0;34m\u001b[0m\u001b[0;34m\u001b[0m\u001b[0;34m\u001b[0m\u001b[0m\n",
            "\u001b[0;32m/usr/local/lib/python3.7/dist-packages/tensorflow/python/util/dispatch.py\u001b[0m in \u001b[0;36mwrapper\u001b[0;34m(*args, **kwargs)\u001b[0m\n\u001b[1;32m    199\u001b[0m     \u001b[0;34m\"\"\"Call target, and fall back on dispatchers if there is a TypeError.\"\"\"\u001b[0m\u001b[0;34m\u001b[0m\u001b[0;34m\u001b[0m\u001b[0m\n\u001b[1;32m    200\u001b[0m     \u001b[0;32mtry\u001b[0m\u001b[0;34m:\u001b[0m\u001b[0;34m\u001b[0m\u001b[0;34m\u001b[0m\u001b[0m\n\u001b[0;32m--> 201\u001b[0;31m       \u001b[0;32mreturn\u001b[0m \u001b[0mtarget\u001b[0m\u001b[0;34m(\u001b[0m\u001b[0;34m*\u001b[0m\u001b[0margs\u001b[0m\u001b[0;34m,\u001b[0m \u001b[0;34m**\u001b[0m\u001b[0mkwargs\u001b[0m\u001b[0;34m)\u001b[0m\u001b[0;34m\u001b[0m\u001b[0;34m\u001b[0m\u001b[0m\n\u001b[0m\u001b[1;32m    202\u001b[0m     \u001b[0;32mexcept\u001b[0m \u001b[0;34m(\u001b[0m\u001b[0mTypeError\u001b[0m\u001b[0;34m,\u001b[0m \u001b[0mValueError\u001b[0m\u001b[0;34m)\u001b[0m\u001b[0;34m:\u001b[0m\u001b[0;34m\u001b[0m\u001b[0;34m\u001b[0m\u001b[0m\n\u001b[1;32m    203\u001b[0m       \u001b[0;31m# Note: convert_to_eager_tensor currently raises a ValueError, not a\u001b[0m\u001b[0;34m\u001b[0m\u001b[0;34m\u001b[0m\u001b[0;34m\u001b[0m\u001b[0m\n",
            "\u001b[0;32m/usr/local/lib/python3.7/dist-packages/tensorflow/python/ops/math_ops.py\u001b[0m in \u001b[0;36mmatmul\u001b[0;34m(a, b, transpose_a, transpose_b, adjoint_a, adjoint_b, a_is_sparse, b_is_sparse, name)\u001b[0m\n\u001b[1;32m   3275\u001b[0m         \u001b[0madjoint_b\u001b[0m \u001b[0;34m=\u001b[0m \u001b[0;32mTrue\u001b[0m\u001b[0;34m\u001b[0m\u001b[0;34m\u001b[0m\u001b[0m\n\u001b[1;32m   3276\u001b[0m       return gen_math_ops.batch_mat_mul_v2(\n\u001b[0;32m-> 3277\u001b[0;31m           a, b, adj_x=adjoint_a, adj_y=adjoint_b, name=name)\n\u001b[0m\u001b[1;32m   3278\u001b[0m \u001b[0;34m\u001b[0m\u001b[0m\n\u001b[1;32m   3279\u001b[0m     \u001b[0;31m# Neither matmul nor sparse_matmul support adjoint, so we conjugate\u001b[0m\u001b[0;34m\u001b[0m\u001b[0;34m\u001b[0m\u001b[0;34m\u001b[0m\u001b[0m\n",
            "\u001b[0;32m/usr/local/lib/python3.7/dist-packages/tensorflow/python/ops/gen_math_ops.py\u001b[0m in \u001b[0;36mbatch_mat_mul_v2\u001b[0;34m(x, y, adj_x, adj_y, name)\u001b[0m\n\u001b[1;32m   1517\u001b[0m       \u001b[0;32mreturn\u001b[0m \u001b[0m_result\u001b[0m\u001b[0;34m\u001b[0m\u001b[0;34m\u001b[0m\u001b[0m\n\u001b[1;32m   1518\u001b[0m     \u001b[0;32mexcept\u001b[0m \u001b[0m_core\u001b[0m\u001b[0;34m.\u001b[0m\u001b[0m_NotOkStatusException\u001b[0m \u001b[0;32mas\u001b[0m \u001b[0me\u001b[0m\u001b[0;34m:\u001b[0m\u001b[0;34m\u001b[0m\u001b[0;34m\u001b[0m\u001b[0m\n\u001b[0;32m-> 1519\u001b[0;31m       \u001b[0m_ops\u001b[0m\u001b[0;34m.\u001b[0m\u001b[0mraise_from_not_ok_status\u001b[0m\u001b[0;34m(\u001b[0m\u001b[0me\u001b[0m\u001b[0;34m,\u001b[0m \u001b[0mname\u001b[0m\u001b[0;34m)\u001b[0m\u001b[0;34m\u001b[0m\u001b[0;34m\u001b[0m\u001b[0m\n\u001b[0m\u001b[1;32m   1520\u001b[0m     \u001b[0;32mexcept\u001b[0m \u001b[0m_core\u001b[0m\u001b[0;34m.\u001b[0m\u001b[0m_FallbackException\u001b[0m\u001b[0;34m:\u001b[0m\u001b[0;34m\u001b[0m\u001b[0;34m\u001b[0m\u001b[0m\n\u001b[1;32m   1521\u001b[0m       \u001b[0;32mpass\u001b[0m\u001b[0;34m\u001b[0m\u001b[0;34m\u001b[0m\u001b[0m\n",
            "\u001b[0;32m/usr/local/lib/python3.7/dist-packages/tensorflow/python/framework/ops.py\u001b[0m in \u001b[0;36mraise_from_not_ok_status\u001b[0;34m(e, name)\u001b[0m\n\u001b[1;32m   6860\u001b[0m   \u001b[0mmessage\u001b[0m \u001b[0;34m=\u001b[0m \u001b[0me\u001b[0m\u001b[0;34m.\u001b[0m\u001b[0mmessage\u001b[0m \u001b[0;34m+\u001b[0m \u001b[0;34m(\u001b[0m\u001b[0;34m\" name: \"\u001b[0m \u001b[0;34m+\u001b[0m \u001b[0mname\u001b[0m \u001b[0;32mif\u001b[0m \u001b[0mname\u001b[0m \u001b[0;32mis\u001b[0m \u001b[0;32mnot\u001b[0m \u001b[0;32mNone\u001b[0m \u001b[0;32melse\u001b[0m \u001b[0;34m\"\"\u001b[0m\u001b[0;34m)\u001b[0m\u001b[0;34m\u001b[0m\u001b[0;34m\u001b[0m\u001b[0m\n\u001b[1;32m   6861\u001b[0m   \u001b[0;31m# pylint: disable=protected-access\u001b[0m\u001b[0;34m\u001b[0m\u001b[0;34m\u001b[0m\u001b[0;34m\u001b[0m\u001b[0m\n\u001b[0;32m-> 6862\u001b[0;31m   \u001b[0msix\u001b[0m\u001b[0;34m.\u001b[0m\u001b[0mraise_from\u001b[0m\u001b[0;34m(\u001b[0m\u001b[0mcore\u001b[0m\u001b[0;34m.\u001b[0m\u001b[0m_status_to_exception\u001b[0m\u001b[0;34m(\u001b[0m\u001b[0me\u001b[0m\u001b[0;34m.\u001b[0m\u001b[0mcode\u001b[0m\u001b[0;34m,\u001b[0m \u001b[0mmessage\u001b[0m\u001b[0;34m)\u001b[0m\u001b[0;34m,\u001b[0m \u001b[0;32mNone\u001b[0m\u001b[0;34m)\u001b[0m\u001b[0;34m\u001b[0m\u001b[0;34m\u001b[0m\u001b[0m\n\u001b[0m\u001b[1;32m   6863\u001b[0m   \u001b[0;31m# pylint: enable=protected-access\u001b[0m\u001b[0;34m\u001b[0m\u001b[0;34m\u001b[0m\u001b[0;34m\u001b[0m\u001b[0m\n\u001b[1;32m   6864\u001b[0m \u001b[0;34m\u001b[0m\u001b[0m\n",
            "\u001b[0;32m/usr/local/lib/python3.7/dist-packages/six.py\u001b[0m in \u001b[0;36mraise_from\u001b[0;34m(value, from_value)\u001b[0m\n",
            "\u001b[0;31mInvalidArgumentError\u001b[0m: cannot compute BatchMatMulV2 as input #1(zero-based) was expected to be a double tensor but is a float tensor [Op:BatchMatMulV2]"
          ]
        }
      ]
    },
    {
      "cell_type": "code",
      "metadata": {
        "colab": {
          "base_uri": "https://localhost:8080/",
          "height": 220
        },
        "id": "oAMZtSr9o9zj",
        "outputId": "a7a8d12d-672a-4c10-af38-f6e409aa54cb"
      },
      "source": [
        "testik.predictive_sample(xx[10:20])"
      ],
      "execution_count": null,
      "outputs": [
        {
          "output_type": "error",
          "ename": "InvalidArgumentError",
          "evalue": "ignored",
          "traceback": [
            "\u001b[0;31m---------------------------------------------------------------------------\u001b[0m",
            "\u001b[0;31mInvalidArgumentError\u001b[0m                      Traceback (most recent call last)",
            "\u001b[0;32m<ipython-input-325-8029facdae1f>\u001b[0m in \u001b[0;36m<module>\u001b[0;34m()\u001b[0m\n\u001b[0;32m----> 1\u001b[0;31m \u001b[0mtestik\u001b[0m\u001b[0;34m.\u001b[0m\u001b[0mpredictive_sample\u001b[0m\u001b[0;34m(\u001b[0m\u001b[0mxx\u001b[0m\u001b[0;34m[\u001b[0m\u001b[0;36m10\u001b[0m\u001b[0;34m:\u001b[0m\u001b[0;36m20\u001b[0m\u001b[0;34m]\u001b[0m\u001b[0;34m)\u001b[0m\u001b[0;34m\u001b[0m\u001b[0;34m\u001b[0m\u001b[0m\n\u001b[0m",
            "\u001b[0;32m/usr/local/lib/python3.7/dist-packages/probflow/models/model.py\u001b[0m in \u001b[0;36mpredictive_sample\u001b[0;34m(self, x, n, batch_size)\u001b[0m\n\u001b[1;32m    449\u001b[0m         \u001b[0;32mwith\u001b[0m \u001b[0mSampling\u001b[0m\u001b[0;34m(\u001b[0m\u001b[0mn\u001b[0m\u001b[0;34m=\u001b[0m\u001b[0mn\u001b[0m\u001b[0;34m,\u001b[0m \u001b[0mflipout\u001b[0m\u001b[0;34m=\u001b[0m\u001b[0;32mFalse\u001b[0m\u001b[0;34m)\u001b[0m\u001b[0;34m:\u001b[0m\u001b[0;34m\u001b[0m\u001b[0;34m\u001b[0m\u001b[0m\n\u001b[1;32m    450\u001b[0m             return self._sample(\n\u001b[0;32m--> 451\u001b[0;31m                 \u001b[0mx\u001b[0m\u001b[0;34m,\u001b[0m \u001b[0;32mlambda\u001b[0m \u001b[0mx\u001b[0m\u001b[0;34m:\u001b[0m \u001b[0mx\u001b[0m\u001b[0;34m.\u001b[0m\u001b[0msample\u001b[0m\u001b[0;34m(\u001b[0m\u001b[0;34m)\u001b[0m\u001b[0;34m,\u001b[0m \u001b[0med\u001b[0m\u001b[0;34m=\u001b[0m\u001b[0;36m0\u001b[0m\u001b[0;34m,\u001b[0m \u001b[0mbatch_size\u001b[0m\u001b[0;34m=\u001b[0m\u001b[0mbatch_size\u001b[0m\u001b[0;34m\u001b[0m\u001b[0;34m\u001b[0m\u001b[0m\n\u001b[0m\u001b[1;32m    452\u001b[0m             )\n\u001b[1;32m    453\u001b[0m \u001b[0;34m\u001b[0m\u001b[0m\n",
            "\u001b[0;32m/usr/local/lib/python3.7/dist-packages/probflow/models/model.py\u001b[0m in \u001b[0;36m_sample\u001b[0;34m(self, x, func, ed, axis, batch_size)\u001b[0m\n\u001b[1;32m    420\u001b[0m                 \u001b[0msamples\u001b[0m \u001b[0;34m+=\u001b[0m \u001b[0;34m[\u001b[0m\u001b[0mfunc\u001b[0m\u001b[0;34m(\u001b[0m\u001b[0mself\u001b[0m\u001b[0;34m(\u001b[0m\u001b[0;34m)\u001b[0m\u001b[0;34m)\u001b[0m\u001b[0;34m]\u001b[0m\u001b[0;34m\u001b[0m\u001b[0;34m\u001b[0m\u001b[0m\n\u001b[1;32m    421\u001b[0m             \u001b[0;32melse\u001b[0m\u001b[0;34m:\u001b[0m\u001b[0;34m\u001b[0m\u001b[0;34m\u001b[0m\u001b[0m\n\u001b[0;32m--> 422\u001b[0;31m                 \u001b[0msamples\u001b[0m \u001b[0;34m+=\u001b[0m \u001b[0;34m[\u001b[0m\u001b[0mfunc\u001b[0m\u001b[0;34m(\u001b[0m\u001b[0mself\u001b[0m\u001b[0;34m(\u001b[0m\u001b[0mO\u001b[0m\u001b[0;34m.\u001b[0m\u001b[0mexpand_dims\u001b[0m\u001b[0;34m(\u001b[0m\u001b[0mx_data\u001b[0m\u001b[0;34m,\u001b[0m \u001b[0med\u001b[0m\u001b[0;34m)\u001b[0m\u001b[0;34m)\u001b[0m\u001b[0;34m)\u001b[0m\u001b[0;34m]\u001b[0m\u001b[0;34m\u001b[0m\u001b[0;34m\u001b[0m\u001b[0m\n\u001b[0m\u001b[1;32m    423\u001b[0m         \u001b[0;32mreturn\u001b[0m \u001b[0mnp\u001b[0m\u001b[0;34m.\u001b[0m\u001b[0mconcatenate\u001b[0m\u001b[0;34m(\u001b[0m\u001b[0mto_numpy\u001b[0m\u001b[0;34m(\u001b[0m\u001b[0msamples\u001b[0m\u001b[0;34m)\u001b[0m\u001b[0;34m,\u001b[0m \u001b[0maxis\u001b[0m\u001b[0;34m=\u001b[0m\u001b[0maxis\u001b[0m\u001b[0;34m)\u001b[0m\u001b[0;34m\u001b[0m\u001b[0;34m\u001b[0m\u001b[0m\n\u001b[1;32m    424\u001b[0m \u001b[0;34m\u001b[0m\u001b[0m\n",
            "\u001b[0;32m<ipython-input-285-bf529e2c186d>\u001b[0m in \u001b[0;36m__call__\u001b[0;34m(self, x)\u001b[0m\n\u001b[1;32m     47\u001b[0m \u001b[0;34m\u001b[0m\u001b[0m\n\u001b[1;32m     48\u001b[0m     \u001b[0;32mdef\u001b[0m \u001b[0m__call__\u001b[0m\u001b[0;34m(\u001b[0m\u001b[0mself\u001b[0m\u001b[0;34m,\u001b[0m \u001b[0mx\u001b[0m\u001b[0;34m)\u001b[0m\u001b[0;34m:\u001b[0m\u001b[0;34m\u001b[0m\u001b[0;34m\u001b[0m\u001b[0m\n\u001b[0;32m---> 49\u001b[0;31m         \u001b[0;32mreturn\u001b[0m \u001b[0mpf\u001b[0m\u001b[0;34m.\u001b[0m\u001b[0mPoisson\u001b[0m\u001b[0;34m(\u001b[0m\u001b[0mself\u001b[0m\u001b[0;34m.\u001b[0m\u001b[0mnet\u001b[0m\u001b[0;34m(\u001b[0m\u001b[0mx\u001b[0m\u001b[0;34m)\u001b[0m\u001b[0;34m)\u001b[0m\u001b[0;34m\u001b[0m\u001b[0;34m\u001b[0m\u001b[0m\n\u001b[0m",
            "\u001b[0;32m<ipython-input-285-bf529e2c186d>\u001b[0m in \u001b[0;36m__call__\u001b[0;34m(self, x)\u001b[0m\n\u001b[1;32m     35\u001b[0m     \u001b[0;32mdef\u001b[0m \u001b[0m__call__\u001b[0m\u001b[0;34m(\u001b[0m\u001b[0mself\u001b[0m\u001b[0;34m,\u001b[0m \u001b[0mx\u001b[0m\u001b[0;34m)\u001b[0m\u001b[0;34m:\u001b[0m\u001b[0;34m\u001b[0m\u001b[0;34m\u001b[0m\u001b[0m\n\u001b[1;32m     36\u001b[0m         \u001b[0;32mfor\u001b[0m \u001b[0mi\u001b[0m \u001b[0;32min\u001b[0m \u001b[0mrange\u001b[0m\u001b[0;34m(\u001b[0m\u001b[0mlen\u001b[0m\u001b[0;34m(\u001b[0m\u001b[0mself\u001b[0m\u001b[0;34m.\u001b[0m\u001b[0mlayers\u001b[0m\u001b[0;34m)\u001b[0m\u001b[0;34m)\u001b[0m\u001b[0;34m:\u001b[0m\u001b[0;34m\u001b[0m\u001b[0;34m\u001b[0m\u001b[0m\n\u001b[0;32m---> 37\u001b[0;31m             \u001b[0mx\u001b[0m \u001b[0;34m=\u001b[0m \u001b[0mself\u001b[0m\u001b[0;34m.\u001b[0m\u001b[0mlayers\u001b[0m\u001b[0;34m[\u001b[0m\u001b[0mi\u001b[0m\u001b[0;34m]\u001b[0m\u001b[0;34m(\u001b[0m\u001b[0mx\u001b[0m\u001b[0;34m)\u001b[0m\u001b[0;34m\u001b[0m\u001b[0;34m\u001b[0m\u001b[0m\n\u001b[0m\u001b[1;32m     38\u001b[0m             \u001b[0mx\u001b[0m \u001b[0;34m=\u001b[0m \u001b[0mself\u001b[0m\u001b[0;34m.\u001b[0m\u001b[0mactivations\u001b[0m\u001b[0;34m[\u001b[0m\u001b[0mi\u001b[0m\u001b[0;34m]\u001b[0m\u001b[0;34m(\u001b[0m\u001b[0mx\u001b[0m\u001b[0;34m)\u001b[0m\u001b[0;34m\u001b[0m\u001b[0;34m\u001b[0m\u001b[0m\n\u001b[1;32m     39\u001b[0m         \u001b[0;31m#x = self.last_layer(x)\u001b[0m\u001b[0;34m\u001b[0m\u001b[0;34m\u001b[0m\u001b[0;34m\u001b[0m\u001b[0m\n",
            "\u001b[0;32m/usr/local/lib/python3.7/dist-packages/probflow/modules/dense.py\u001b[0m in \u001b[0;36m__call__\u001b[0;34m(self, x)\u001b[0m\n\u001b[1;32m    109\u001b[0m         \u001b[0;31m# Without Flipout\u001b[0m\u001b[0;34m\u001b[0m\u001b[0;34m\u001b[0m\u001b[0;34m\u001b[0m\u001b[0m\n\u001b[1;32m    110\u001b[0m         \u001b[0;32melse\u001b[0m\u001b[0;34m:\u001b[0m\u001b[0;34m\u001b[0m\u001b[0;34m\u001b[0m\u001b[0m\n\u001b[0;32m--> 111\u001b[0;31m             \u001b[0;32mreturn\u001b[0m \u001b[0mx\u001b[0m \u001b[0;34m@\u001b[0m \u001b[0mself\u001b[0m\u001b[0;34m.\u001b[0m\u001b[0mweights\u001b[0m\u001b[0;34m(\u001b[0m\u001b[0;34m)\u001b[0m \u001b[0;34m+\u001b[0m \u001b[0mself\u001b[0m\u001b[0;34m.\u001b[0m\u001b[0mbias\u001b[0m\u001b[0;34m(\u001b[0m\u001b[0;34m)\u001b[0m\u001b[0;34m\u001b[0m\u001b[0;34m\u001b[0m\u001b[0m\n\u001b[0m",
            "\u001b[0;32m/usr/local/lib/python3.7/dist-packages/tensorflow/python/ops/math_ops.py\u001b[0m in \u001b[0;36mbinary_op_wrapper\u001b[0;34m(x, y)\u001b[0m\n\u001b[1;32m   1162\u001b[0m     \u001b[0;32mwith\u001b[0m \u001b[0mops\u001b[0m\u001b[0;34m.\u001b[0m\u001b[0mname_scope\u001b[0m\u001b[0;34m(\u001b[0m\u001b[0;32mNone\u001b[0m\u001b[0;34m,\u001b[0m \u001b[0mop_name\u001b[0m\u001b[0;34m,\u001b[0m \u001b[0;34m[\u001b[0m\u001b[0mx\u001b[0m\u001b[0;34m,\u001b[0m \u001b[0my\u001b[0m\u001b[0;34m]\u001b[0m\u001b[0;34m)\u001b[0m \u001b[0;32mas\u001b[0m \u001b[0mname\u001b[0m\u001b[0;34m:\u001b[0m\u001b[0;34m\u001b[0m\u001b[0;34m\u001b[0m\u001b[0m\n\u001b[1;32m   1163\u001b[0m       \u001b[0;32mtry\u001b[0m\u001b[0;34m:\u001b[0m\u001b[0;34m\u001b[0m\u001b[0;34m\u001b[0m\u001b[0m\n\u001b[0;32m-> 1164\u001b[0;31m         \u001b[0;32mreturn\u001b[0m \u001b[0mfunc\u001b[0m\u001b[0;34m(\u001b[0m\u001b[0mx\u001b[0m\u001b[0;34m,\u001b[0m \u001b[0my\u001b[0m\u001b[0;34m,\u001b[0m \u001b[0mname\u001b[0m\u001b[0;34m=\u001b[0m\u001b[0mname\u001b[0m\u001b[0;34m)\u001b[0m\u001b[0;34m\u001b[0m\u001b[0;34m\u001b[0m\u001b[0m\n\u001b[0m\u001b[1;32m   1165\u001b[0m       \u001b[0;32mexcept\u001b[0m \u001b[0;34m(\u001b[0m\u001b[0mTypeError\u001b[0m\u001b[0;34m,\u001b[0m \u001b[0mValueError\u001b[0m\u001b[0;34m)\u001b[0m \u001b[0;32mas\u001b[0m \u001b[0me\u001b[0m\u001b[0;34m:\u001b[0m\u001b[0;34m\u001b[0m\u001b[0;34m\u001b[0m\u001b[0m\n\u001b[1;32m   1166\u001b[0m         \u001b[0;31m# Even if dispatching the op failed, the RHS may be a tensor aware\u001b[0m\u001b[0;34m\u001b[0m\u001b[0;34m\u001b[0m\u001b[0;34m\u001b[0m\u001b[0m\n",
            "\u001b[0;32m/usr/local/lib/python3.7/dist-packages/tensorflow/python/util/dispatch.py\u001b[0m in \u001b[0;36mwrapper\u001b[0;34m(*args, **kwargs)\u001b[0m\n\u001b[1;32m    199\u001b[0m     \u001b[0;34m\"\"\"Call target, and fall back on dispatchers if there is a TypeError.\"\"\"\u001b[0m\u001b[0;34m\u001b[0m\u001b[0;34m\u001b[0m\u001b[0m\n\u001b[1;32m    200\u001b[0m     \u001b[0;32mtry\u001b[0m\u001b[0;34m:\u001b[0m\u001b[0;34m\u001b[0m\u001b[0;34m\u001b[0m\u001b[0m\n\u001b[0;32m--> 201\u001b[0;31m       \u001b[0;32mreturn\u001b[0m \u001b[0mtarget\u001b[0m\u001b[0;34m(\u001b[0m\u001b[0;34m*\u001b[0m\u001b[0margs\u001b[0m\u001b[0;34m,\u001b[0m \u001b[0;34m**\u001b[0m\u001b[0mkwargs\u001b[0m\u001b[0;34m)\u001b[0m\u001b[0;34m\u001b[0m\u001b[0;34m\u001b[0m\u001b[0m\n\u001b[0m\u001b[1;32m    202\u001b[0m     \u001b[0;32mexcept\u001b[0m \u001b[0;34m(\u001b[0m\u001b[0mTypeError\u001b[0m\u001b[0;34m,\u001b[0m \u001b[0mValueError\u001b[0m\u001b[0;34m)\u001b[0m\u001b[0;34m:\u001b[0m\u001b[0;34m\u001b[0m\u001b[0;34m\u001b[0m\u001b[0m\n\u001b[1;32m    203\u001b[0m       \u001b[0;31m# Note: convert_to_eager_tensor currently raises a ValueError, not a\u001b[0m\u001b[0;34m\u001b[0m\u001b[0;34m\u001b[0m\u001b[0;34m\u001b[0m\u001b[0m\n",
            "\u001b[0;32m/usr/local/lib/python3.7/dist-packages/tensorflow/python/ops/math_ops.py\u001b[0m in \u001b[0;36mmatmul\u001b[0;34m(a, b, transpose_a, transpose_b, adjoint_a, adjoint_b, a_is_sparse, b_is_sparse, name)\u001b[0m\n\u001b[1;32m   3275\u001b[0m         \u001b[0madjoint_b\u001b[0m \u001b[0;34m=\u001b[0m \u001b[0;32mTrue\u001b[0m\u001b[0;34m\u001b[0m\u001b[0;34m\u001b[0m\u001b[0m\n\u001b[1;32m   3276\u001b[0m       return gen_math_ops.batch_mat_mul_v2(\n\u001b[0;32m-> 3277\u001b[0;31m           a, b, adj_x=adjoint_a, adj_y=adjoint_b, name=name)\n\u001b[0m\u001b[1;32m   3278\u001b[0m \u001b[0;34m\u001b[0m\u001b[0m\n\u001b[1;32m   3279\u001b[0m     \u001b[0;31m# Neither matmul nor sparse_matmul support adjoint, so we conjugate\u001b[0m\u001b[0;34m\u001b[0m\u001b[0;34m\u001b[0m\u001b[0;34m\u001b[0m\u001b[0m\n",
            "\u001b[0;32m/usr/local/lib/python3.7/dist-packages/tensorflow/python/ops/gen_math_ops.py\u001b[0m in \u001b[0;36mbatch_mat_mul_v2\u001b[0;34m(x, y, adj_x, adj_y, name)\u001b[0m\n\u001b[1;32m   1517\u001b[0m       \u001b[0;32mreturn\u001b[0m \u001b[0m_result\u001b[0m\u001b[0;34m\u001b[0m\u001b[0;34m\u001b[0m\u001b[0m\n\u001b[1;32m   1518\u001b[0m     \u001b[0;32mexcept\u001b[0m \u001b[0m_core\u001b[0m\u001b[0;34m.\u001b[0m\u001b[0m_NotOkStatusException\u001b[0m \u001b[0;32mas\u001b[0m \u001b[0me\u001b[0m\u001b[0;34m:\u001b[0m\u001b[0;34m\u001b[0m\u001b[0;34m\u001b[0m\u001b[0m\n\u001b[0;32m-> 1519\u001b[0;31m       \u001b[0m_ops\u001b[0m\u001b[0;34m.\u001b[0m\u001b[0mraise_from_not_ok_status\u001b[0m\u001b[0;34m(\u001b[0m\u001b[0me\u001b[0m\u001b[0;34m,\u001b[0m \u001b[0mname\u001b[0m\u001b[0;34m)\u001b[0m\u001b[0;34m\u001b[0m\u001b[0;34m\u001b[0m\u001b[0m\n\u001b[0m\u001b[1;32m   1520\u001b[0m     \u001b[0;32mexcept\u001b[0m \u001b[0m_core\u001b[0m\u001b[0;34m.\u001b[0m\u001b[0m_FallbackException\u001b[0m\u001b[0;34m:\u001b[0m\u001b[0;34m\u001b[0m\u001b[0;34m\u001b[0m\u001b[0m\n\u001b[1;32m   1521\u001b[0m       \u001b[0;32mpass\u001b[0m\u001b[0;34m\u001b[0m\u001b[0;34m\u001b[0m\u001b[0m\n",
            "\u001b[0;32m/usr/local/lib/python3.7/dist-packages/tensorflow/python/framework/ops.py\u001b[0m in \u001b[0;36mraise_from_not_ok_status\u001b[0;34m(e, name)\u001b[0m\n\u001b[1;32m   6860\u001b[0m   \u001b[0mmessage\u001b[0m \u001b[0;34m=\u001b[0m \u001b[0me\u001b[0m\u001b[0;34m.\u001b[0m\u001b[0mmessage\u001b[0m \u001b[0;34m+\u001b[0m \u001b[0;34m(\u001b[0m\u001b[0;34m\" name: \"\u001b[0m \u001b[0;34m+\u001b[0m \u001b[0mname\u001b[0m \u001b[0;32mif\u001b[0m \u001b[0mname\u001b[0m \u001b[0;32mis\u001b[0m \u001b[0;32mnot\u001b[0m \u001b[0;32mNone\u001b[0m \u001b[0;32melse\u001b[0m \u001b[0;34m\"\"\u001b[0m\u001b[0;34m)\u001b[0m\u001b[0;34m\u001b[0m\u001b[0;34m\u001b[0m\u001b[0m\n\u001b[1;32m   6861\u001b[0m   \u001b[0;31m# pylint: disable=protected-access\u001b[0m\u001b[0;34m\u001b[0m\u001b[0;34m\u001b[0m\u001b[0;34m\u001b[0m\u001b[0m\n\u001b[0;32m-> 6862\u001b[0;31m   \u001b[0msix\u001b[0m\u001b[0;34m.\u001b[0m\u001b[0mraise_from\u001b[0m\u001b[0;34m(\u001b[0m\u001b[0mcore\u001b[0m\u001b[0;34m.\u001b[0m\u001b[0m_status_to_exception\u001b[0m\u001b[0;34m(\u001b[0m\u001b[0me\u001b[0m\u001b[0;34m.\u001b[0m\u001b[0mcode\u001b[0m\u001b[0;34m,\u001b[0m \u001b[0mmessage\u001b[0m\u001b[0;34m)\u001b[0m\u001b[0;34m,\u001b[0m \u001b[0;32mNone\u001b[0m\u001b[0;34m)\u001b[0m\u001b[0;34m\u001b[0m\u001b[0;34m\u001b[0m\u001b[0m\n\u001b[0m\u001b[1;32m   6863\u001b[0m   \u001b[0;31m# pylint: enable=protected-access\u001b[0m\u001b[0;34m\u001b[0m\u001b[0;34m\u001b[0m\u001b[0;34m\u001b[0m\u001b[0m\n\u001b[1;32m   6864\u001b[0m \u001b[0;34m\u001b[0m\u001b[0m\n",
            "\u001b[0;32m/usr/local/lib/python3.7/dist-packages/six.py\u001b[0m in \u001b[0;36mraise_from\u001b[0;34m(value, from_value)\u001b[0m\n",
            "\u001b[0;31mInvalidArgumentError\u001b[0m: cannot compute BatchMatMulV2 as input #1(zero-based) was expected to be a double tensor but is a float tensor [Op:BatchMatMulV2]"
          ]
        }
      ]
    },
    {
      "cell_type": "code",
      "metadata": {
        "id": "IQZDutaFqXTi"
      },
      "source": [
        "claim['vysledky'] = vysledky"
      ],
      "execution_count": null,
      "outputs": []
    },
    {
      "cell_type": "code",
      "metadata": {
        "colab": {
          "base_uri": "https://localhost:8080/",
          "height": 382
        },
        "id": "M1PX_VoVtYB3",
        "outputId": "da9f3c0b-2220-4fe1-950d-4003cfe7f886"
      },
      "source": [
        "sns.displot(claim, x = 'vysledky')"
      ],
      "execution_count": null,
      "outputs": [
        {
          "output_type": "execute_result",
          "data": {
            "text/plain": [
              "<seaborn.axisgrid.FacetGrid at 0x7f46ad5e2490>"
            ]
          },
          "metadata": {
            "tags": []
          },
          "execution_count": 62
        },
        {
          "output_type": "display_data",
          "data": {
            "image/png": "[encoded data removed]",
            "text/plain": [
              "<Figure size 360x360 with 1 Axes>"
            ]
          },
          "metadata": {
            "tags": []
          }
        }
      ]
    },
    {
      "cell_type": "code",
      "metadata": {
        "id": "rv6oQR4Bts2-"
      },
      "source": [
        "# in sample deviance\n",
        "deviance(vysledky / v, v, y)"
      ],
      "execution_count": null,
      "outputs": []
    },
    {
      "cell_type": "code",
      "metadata": {
        "id": "akbRc6S__231"
      },
      "source": [
        ""
      ],
      "execution_count": null,
      "outputs": []
    }
  ]
}