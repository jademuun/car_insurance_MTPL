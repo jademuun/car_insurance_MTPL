{
  "nbformat": 4,
  "nbformat_minor": 0,
  "metadata": {
    "colab": {
      "name": "preprocessing.ipynb",
      "provenance": [],
      "collapsed_sections": [],
      "toc_visible": true,
      "machine_shape": "hm",
      "include_colab_link": true
    },
    "kernelspec": {
      "display_name": "Python 3",
      "name": "python3"
    },
    "language_info": {
      "name": "python"
    }
  },
  "cells": [
    {
      "cell_type": "markdown",
      "metadata": {
        "id": "view-in-github",
        "colab_type": "text"
      },
      "source": [
        "<a href=\"https://colab.research.google.com/github/jademuun/car_insurance_MTPL/blob/master/preprocessing.ipynb\" target=\"_parent\"><img src=\"https://colab.research.google.com/assets/colab-badge.svg\" alt=\"Open In Colab\"/></a>"
      ]
    },
    {
      "cell_type": "markdown",
      "metadata": {
        "id": "NVIPmyIFKiX1"
      },
      "source": [
        "Todos\n",
        "\n",
        "rozdelit si dataset v Rku ako oni so seedom 100\n",
        "otestovat homog\n",
        "spravit siet nn\n",
        "bayes net\n",
        "porovnat modely\n",
        "treba to spravit do 13 30\n",
        "oneeee najst starsiu verziu dat"
      ]
    },
    {
      "cell_type": "code",
      "metadata": {
        "colab": {
          "base_uri": "https://localhost:8080/"
        },
        "id": "Z0a33iiGmrsK",
        "outputId": "cd918bfd-3bf3-42d4-ac99-c01d6e1fdc6e"
      },
      "source": [
        "!python3 --version"
      ],
      "execution_count": null,
      "outputs": [
        {
          "output_type": "stream",
          "text": [
            "Python 3.7.10\n"
          ],
          "name": "stdout"
        }
      ]
    },
    {
      "cell_type": "markdown",
      "metadata": {
        "id": "cOI4467zFF-4"
      },
      "source": [
        "# Libraries"
      ]
    },
    {
      "cell_type": "code",
      "metadata": {
        "id": "JDqgdAwsN7Ym"
      },
      "source": [
        "import pandas as pd\n",
        "import numpy as np\n",
        "import matplotlib.pyplot as plt \n",
        "import seaborn as sns\n",
        "from seaborn import countplot\n",
        "from matplotlib.pyplot import figure, show\n",
        "import timeit\n",
        "\n",
        "from sklearn.pipeline import Pipeline\n",
        "from sklearn.dummy import DummyClassifier\n",
        "from sklearn.metrics import f1_score\n",
        "from sklearn.metrics import confusion_matrix, plot_confusion_matrix, r2_score\n",
        "\n",
        "from sklearn.preprocessing import OneHotEncoder, OrdinalEncoder, LabelEncoder\n",
        "from sklearn.preprocessing import StandardScaler, MinMaxScaler\n",
        "from sklearn.decomposition import PCA\n",
        "from sklearn.model_selection import train_test_split\n",
        "from sklearn.model_selection import KFold, StratifiedKFold\n",
        "\n",
        "import tensorflow as tf\n",
        "from tensorflow import keras\n",
        "from tensorflow.keras import layers\n",
        "from keras.layers import Dense\n",
        "from tensorflow.keras.layers.experimental import preprocessing\n",
        "from keras import backend as K"
      ],
      "execution_count": 40,
      "outputs": []
    },
    {
      "cell_type": "code",
      "metadata": {
        "colab": {
          "base_uri": "https://localhost:8080/"
        },
        "id": "sHA-eyRW4PPP",
        "outputId": "ebdc8ed9-d495-4b79-f87c-9a170d4f629e"
      },
      "source": [
        "from google.colab import drive\n",
        "drive.mount('/content/drive')"
      ],
      "execution_count": 2,
      "outputs": [
        {
          "output_type": "stream",
          "text": [
            "Mounted at /content/drive\n"
          ],
          "name": "stdout"
        }
      ]
    },
    {
      "cell_type": "markdown",
      "metadata": {
        "id": "sSV88mBGoZUa"
      },
      "source": [
        "# Data load and preprocessing"
      ]
    },
    {
      "cell_type": "code",
      "metadata": {
        "id": "-cj39Sj6FODV"
      },
      "source": [
        "# data can be downloaded from\n",
        "# however they are not in good format as delimiter is chosen badly\n",
        "# people from Masaryk Uni can access the dataset via \n",
        "#https://drive.google.com/file/d/19eCVbFxIbs6uwe7w5MPsdcYNh0uILPfJ/view?usp=sharing\n",
        "claim = pd.read_csv('/content/drive/MyDrive/data/freMTPL2freq.csv')\n",
        "#claim = claim.drop(claim.columns[0], axis = 1)"
      ],
      "execution_count": 41,
      "outputs": []
    },
    {
      "cell_type": "code",
      "metadata": {
        "colab": {
          "base_uri": "https://localhost:8080/",
          "height": 195
        },
        "id": "lFmsKjhIPb2J",
        "outputId": "d480a863-c501-47db-dcdf-044bcb0f9a3d"
      },
      "source": [
        "claim.head()"
      ],
      "execution_count": 42,
      "outputs": [
        {
          "output_type": "execute_result",
          "data": {
            "text/html": [
              "<div>\n",
              "<style scoped>\n",
              "    .dataframe tbody tr th:only-of-type {\n",
              "        vertical-align: middle;\n",
              "    }\n",
              "\n",
              "    .dataframe tbody tr th {\n",
              "        vertical-align: top;\n",
              "    }\n",
              "\n",
              "    .dataframe thead th {\n",
              "        text-align: right;\n",
              "    }\n",
              "</style>\n",
              "<table border=\"1\" class=\"dataframe\">\n",
              "  <thead>\n",
              "    <tr style=\"text-align: right;\">\n",
              "      <th></th>\n",
              "      <th>IDpol</th>\n",
              "      <th>ClaimNb</th>\n",
              "      <th>Exposure</th>\n",
              "      <th>VehPower</th>\n",
              "      <th>VehAge</th>\n",
              "      <th>DrivAge</th>\n",
              "      <th>BonusMalus</th>\n",
              "      <th>VehBrand</th>\n",
              "      <th>VehGas</th>\n",
              "      <th>Area</th>\n",
              "      <th>Density</th>\n",
              "      <th>Region</th>\n",
              "    </tr>\n",
              "  </thead>\n",
              "  <tbody>\n",
              "    <tr>\n",
              "      <th>0</th>\n",
              "      <td>1.0</td>\n",
              "      <td>1</td>\n",
              "      <td>0.10</td>\n",
              "      <td>5</td>\n",
              "      <td>0</td>\n",
              "      <td>55</td>\n",
              "      <td>50</td>\n",
              "      <td>B12</td>\n",
              "      <td>Regular</td>\n",
              "      <td>D</td>\n",
              "      <td>1217</td>\n",
              "      <td>Rhone-Alpes</td>\n",
              "    </tr>\n",
              "    <tr>\n",
              "      <th>1</th>\n",
              "      <td>3.0</td>\n",
              "      <td>1</td>\n",
              "      <td>0.77</td>\n",
              "      <td>5</td>\n",
              "      <td>0</td>\n",
              "      <td>55</td>\n",
              "      <td>50</td>\n",
              "      <td>B12</td>\n",
              "      <td>Regular</td>\n",
              "      <td>D</td>\n",
              "      <td>1217</td>\n",
              "      <td>Rhone-Alpes</td>\n",
              "    </tr>\n",
              "    <tr>\n",
              "      <th>2</th>\n",
              "      <td>5.0</td>\n",
              "      <td>1</td>\n",
              "      <td>0.75</td>\n",
              "      <td>6</td>\n",
              "      <td>2</td>\n",
              "      <td>52</td>\n",
              "      <td>50</td>\n",
              "      <td>B12</td>\n",
              "      <td>Diesel</td>\n",
              "      <td>B</td>\n",
              "      <td>54</td>\n",
              "      <td>Picardie</td>\n",
              "    </tr>\n",
              "    <tr>\n",
              "      <th>3</th>\n",
              "      <td>10.0</td>\n",
              "      <td>1</td>\n",
              "      <td>0.09</td>\n",
              "      <td>7</td>\n",
              "      <td>0</td>\n",
              "      <td>46</td>\n",
              "      <td>50</td>\n",
              "      <td>B12</td>\n",
              "      <td>Diesel</td>\n",
              "      <td>B</td>\n",
              "      <td>76</td>\n",
              "      <td>Aquitaine</td>\n",
              "    </tr>\n",
              "    <tr>\n",
              "      <th>4</th>\n",
              "      <td>11.0</td>\n",
              "      <td>1</td>\n",
              "      <td>0.84</td>\n",
              "      <td>7</td>\n",
              "      <td>0</td>\n",
              "      <td>46</td>\n",
              "      <td>50</td>\n",
              "      <td>B12</td>\n",
              "      <td>Diesel</td>\n",
              "      <td>B</td>\n",
              "      <td>76</td>\n",
              "      <td>Aquitaine</td>\n",
              "    </tr>\n",
              "  </tbody>\n",
              "</table>\n",
              "</div>"
            ],
            "text/plain": [
              "   IDpol  ClaimNb  Exposure  VehPower  ...   VehGas  Area  Density       Region\n",
              "0    1.0        1      0.10         5  ...  Regular     D     1217  Rhone-Alpes\n",
              "1    3.0        1      0.77         5  ...  Regular     D     1217  Rhone-Alpes\n",
              "2    5.0        1      0.75         6  ...   Diesel     B       54     Picardie\n",
              "3   10.0        1      0.09         7  ...   Diesel     B       76    Aquitaine\n",
              "4   11.0        1      0.84         7  ...   Diesel     B       76    Aquitaine\n",
              "\n",
              "[5 rows x 12 columns]"
            ]
          },
          "metadata": {
            "tags": []
          },
          "execution_count": 42
        }
      ]
    },
    {
      "cell_type": "code",
      "metadata": {
        "colab": {
          "base_uri": "https://localhost:8080/"
        },
        "id": "X_RiEe70is8h",
        "outputId": "29a6964d-1186-42f6-880c-b29656f5c7b4"
      },
      "source": [
        "claim.shape"
      ],
      "execution_count": 43,
      "outputs": [
        {
          "output_type": "execute_result",
          "data": {
            "text/plain": [
              "(678013, 12)"
            ]
          },
          "metadata": {
            "tags": []
          },
          "execution_count": 43
        }
      ]
    },
    {
      "cell_type": "code",
      "metadata": {
        "colab": {
          "base_uri": "https://localhost:8080/"
        },
        "id": "5PBaTUnkjjIW",
        "outputId": "dee2c62b-3edc-487a-879b-52a742fbd4fa"
      },
      "source": [
        "claim.info()"
      ],
      "execution_count": 44,
      "outputs": [
        {
          "output_type": "stream",
          "text": [
            "<class 'pandas.core.frame.DataFrame'>\n",
            "RangeIndex: 678013 entries, 0 to 678012\n",
            "Data columns (total 12 columns):\n",
            " #   Column      Non-Null Count   Dtype  \n",
            "---  ------      --------------   -----  \n",
            " 0   IDpol       678013 non-null  float64\n",
            " 1   ClaimNb     678013 non-null  int64  \n",
            " 2   Exposure    678013 non-null  float64\n",
            " 3   VehPower    678013 non-null  int64  \n",
            " 4   VehAge      678013 non-null  int64  \n",
            " 5   DrivAge     678013 non-null  int64  \n",
            " 6   BonusMalus  678013 non-null  int64  \n",
            " 7   VehBrand    678013 non-null  object \n",
            " 8   VehGas      678013 non-null  object \n",
            " 9   Area        678013 non-null  object \n",
            " 10  Density     678013 non-null  int64  \n",
            " 11  Region      678013 non-null  object \n",
            "dtypes: float64(2), int64(6), object(4)\n",
            "memory usage: 62.1+ MB\n"
          ],
          "name": "stdout"
        }
      ]
    },
    {
      "cell_type": "code",
      "metadata": {
        "id": "tZABGip3ocm3"
      },
      "source": [
        "# obect columns are not good for model training, so we change their\n",
        "# datatype to category\n",
        "numerics_cols = ['int64', 'float64']\n",
        "object_cols = claim.select_dtypes(\"object\").columns  # select object columns\n",
        "claim[object_cols] = claim[object_cols].astype('category')\n"
      ],
      "execution_count": 45,
      "outputs": []
    },
    {
      "cell_type": "code",
      "metadata": {
        "colab": {
          "base_uri": "https://localhost:8080/"
        },
        "id": "Rz95FWamoqJa",
        "outputId": "1b48862e-79ad-4fbc-ba05-af978f5a06a7"
      },
      "source": [
        "claim.info()"
      ],
      "execution_count": 46,
      "outputs": [
        {
          "output_type": "stream",
          "text": [
            "<class 'pandas.core.frame.DataFrame'>\n",
            "RangeIndex: 678013 entries, 0 to 678012\n",
            "Data columns (total 12 columns):\n",
            " #   Column      Non-Null Count   Dtype   \n",
            "---  ------      --------------   -----   \n",
            " 0   IDpol       678013 non-null  float64 \n",
            " 1   ClaimNb     678013 non-null  int64   \n",
            " 2   Exposure    678013 non-null  float64 \n",
            " 3   VehPower    678013 non-null  int64   \n",
            " 4   VehAge      678013 non-null  int64   \n",
            " 5   DrivAge     678013 non-null  int64   \n",
            " 6   BonusMalus  678013 non-null  int64   \n",
            " 7   VehBrand    678013 non-null  category\n",
            " 8   VehGas      678013 non-null  category\n",
            " 9   Area        678013 non-null  category\n",
            " 10  Density     678013 non-null  int64   \n",
            " 11  Region      678013 non-null  category\n",
            "dtypes: category(4), float64(2), int64(6)\n",
            "memory usage: 44.0 MB\n"
          ],
          "name": "stdout"
        }
      ]
    },
    {
      "cell_type": "code",
      "metadata": {
        "colab": {
          "base_uri": "https://localhost:8080/",
          "height": 195
        },
        "id": "R5f8qRcJ9Psq",
        "outputId": "dfea38c2-7b44-46a4-c32a-8c7057869a95"
      },
      "source": [
        "# drop index number\n",
        "#claim = claim.drop(['IDpol'], axis = 1)\n",
        "# x is dataset of all 8 features, first column is target while second is\n",
        "# time exposure - offset \n",
        "claim.head()"
      ],
      "execution_count": 47,
      "outputs": [
        {
          "output_type": "execute_result",
          "data": {
            "text/html": [
              "<div>\n",
              "<style scoped>\n",
              "    .dataframe tbody tr th:only-of-type {\n",
              "        vertical-align: middle;\n",
              "    }\n",
              "\n",
              "    .dataframe tbody tr th {\n",
              "        vertical-align: top;\n",
              "    }\n",
              "\n",
              "    .dataframe thead th {\n",
              "        text-align: right;\n",
              "    }\n",
              "</style>\n",
              "<table border=\"1\" class=\"dataframe\">\n",
              "  <thead>\n",
              "    <tr style=\"text-align: right;\">\n",
              "      <th></th>\n",
              "      <th>IDpol</th>\n",
              "      <th>ClaimNb</th>\n",
              "      <th>Exposure</th>\n",
              "      <th>VehPower</th>\n",
              "      <th>VehAge</th>\n",
              "      <th>DrivAge</th>\n",
              "      <th>BonusMalus</th>\n",
              "      <th>VehBrand</th>\n",
              "      <th>VehGas</th>\n",
              "      <th>Area</th>\n",
              "      <th>Density</th>\n",
              "      <th>Region</th>\n",
              "    </tr>\n",
              "  </thead>\n",
              "  <tbody>\n",
              "    <tr>\n",
              "      <th>0</th>\n",
              "      <td>1.0</td>\n",
              "      <td>1</td>\n",
              "      <td>0.10</td>\n",
              "      <td>5</td>\n",
              "      <td>0</td>\n",
              "      <td>55</td>\n",
              "      <td>50</td>\n",
              "      <td>B12</td>\n",
              "      <td>Regular</td>\n",
              "      <td>D</td>\n",
              "      <td>1217</td>\n",
              "      <td>Rhone-Alpes</td>\n",
              "    </tr>\n",
              "    <tr>\n",
              "      <th>1</th>\n",
              "      <td>3.0</td>\n",
              "      <td>1</td>\n",
              "      <td>0.77</td>\n",
              "      <td>5</td>\n",
              "      <td>0</td>\n",
              "      <td>55</td>\n",
              "      <td>50</td>\n",
              "      <td>B12</td>\n",
              "      <td>Regular</td>\n",
              "      <td>D</td>\n",
              "      <td>1217</td>\n",
              "      <td>Rhone-Alpes</td>\n",
              "    </tr>\n",
              "    <tr>\n",
              "      <th>2</th>\n",
              "      <td>5.0</td>\n",
              "      <td>1</td>\n",
              "      <td>0.75</td>\n",
              "      <td>6</td>\n",
              "      <td>2</td>\n",
              "      <td>52</td>\n",
              "      <td>50</td>\n",
              "      <td>B12</td>\n",
              "      <td>Diesel</td>\n",
              "      <td>B</td>\n",
              "      <td>54</td>\n",
              "      <td>Picardie</td>\n",
              "    </tr>\n",
              "    <tr>\n",
              "      <th>3</th>\n",
              "      <td>10.0</td>\n",
              "      <td>1</td>\n",
              "      <td>0.09</td>\n",
              "      <td>7</td>\n",
              "      <td>0</td>\n",
              "      <td>46</td>\n",
              "      <td>50</td>\n",
              "      <td>B12</td>\n",
              "      <td>Diesel</td>\n",
              "      <td>B</td>\n",
              "      <td>76</td>\n",
              "      <td>Aquitaine</td>\n",
              "    </tr>\n",
              "    <tr>\n",
              "      <th>4</th>\n",
              "      <td>11.0</td>\n",
              "      <td>1</td>\n",
              "      <td>0.84</td>\n",
              "      <td>7</td>\n",
              "      <td>0</td>\n",
              "      <td>46</td>\n",
              "      <td>50</td>\n",
              "      <td>B12</td>\n",
              "      <td>Diesel</td>\n",
              "      <td>B</td>\n",
              "      <td>76</td>\n",
              "      <td>Aquitaine</td>\n",
              "    </tr>\n",
              "  </tbody>\n",
              "</table>\n",
              "</div>"
            ],
            "text/plain": [
              "   IDpol  ClaimNb  Exposure  VehPower  ...   VehGas  Area  Density       Region\n",
              "0    1.0        1      0.10         5  ...  Regular     D     1217  Rhone-Alpes\n",
              "1    3.0        1      0.77         5  ...  Regular     D     1217  Rhone-Alpes\n",
              "2    5.0        1      0.75         6  ...   Diesel     B       54     Picardie\n",
              "3   10.0        1      0.09         7  ...   Diesel     B       76    Aquitaine\n",
              "4   11.0        1      0.84         7  ...   Diesel     B       76    Aquitaine\n",
              "\n",
              "[5 rows x 12 columns]"
            ]
          },
          "metadata": {
            "tags": []
          },
          "execution_count": 47
        }
      ]
    },
    {
      "cell_type": "code",
      "metadata": {
        "colab": {
          "base_uri": "https://localhost:8080/",
          "height": 284
        },
        "id": "9UQHjJGisjzx",
        "outputId": "cd7ee5e9-6e48-459c-d124-78597a6a7c38"
      },
      "source": [
        "# numerical characteristics of dataset\n",
        "claim.describe(exclude='category')"
      ],
      "execution_count": 48,
      "outputs": [
        {
          "output_type": "execute_result",
          "data": {
            "text/html": [
              "<div>\n",
              "<style scoped>\n",
              "    .dataframe tbody tr th:only-of-type {\n",
              "        vertical-align: middle;\n",
              "    }\n",
              "\n",
              "    .dataframe tbody tr th {\n",
              "        vertical-align: top;\n",
              "    }\n",
              "\n",
              "    .dataframe thead th {\n",
              "        text-align: right;\n",
              "    }\n",
              "</style>\n",
              "<table border=\"1\" class=\"dataframe\">\n",
              "  <thead>\n",
              "    <tr style=\"text-align: right;\">\n",
              "      <th></th>\n",
              "      <th>IDpol</th>\n",
              "      <th>ClaimNb</th>\n",
              "      <th>Exposure</th>\n",
              "      <th>VehPower</th>\n",
              "      <th>VehAge</th>\n",
              "      <th>DrivAge</th>\n",
              "      <th>BonusMalus</th>\n",
              "      <th>Density</th>\n",
              "    </tr>\n",
              "  </thead>\n",
              "  <tbody>\n",
              "    <tr>\n",
              "      <th>count</th>\n",
              "      <td>6.780130e+05</td>\n",
              "      <td>678013.000000</td>\n",
              "      <td>678013.000000</td>\n",
              "      <td>678013.000000</td>\n",
              "      <td>678013.000000</td>\n",
              "      <td>678013.000000</td>\n",
              "      <td>678013.000000</td>\n",
              "      <td>678013.000000</td>\n",
              "    </tr>\n",
              "    <tr>\n",
              "      <th>mean</th>\n",
              "      <td>2.621857e+06</td>\n",
              "      <td>0.053247</td>\n",
              "      <td>0.528750</td>\n",
              "      <td>6.454631</td>\n",
              "      <td>7.044265</td>\n",
              "      <td>45.499122</td>\n",
              "      <td>59.761502</td>\n",
              "      <td>1792.422405</td>\n",
              "    </tr>\n",
              "    <tr>\n",
              "      <th>std</th>\n",
              "      <td>1.641783e+06</td>\n",
              "      <td>0.240117</td>\n",
              "      <td>0.364442</td>\n",
              "      <td>2.050906</td>\n",
              "      <td>5.666232</td>\n",
              "      <td>14.137444</td>\n",
              "      <td>15.636658</td>\n",
              "      <td>3958.646564</td>\n",
              "    </tr>\n",
              "    <tr>\n",
              "      <th>min</th>\n",
              "      <td>1.000000e+00</td>\n",
              "      <td>0.000000</td>\n",
              "      <td>0.002732</td>\n",
              "      <td>4.000000</td>\n",
              "      <td>0.000000</td>\n",
              "      <td>18.000000</td>\n",
              "      <td>50.000000</td>\n",
              "      <td>1.000000</td>\n",
              "    </tr>\n",
              "    <tr>\n",
              "      <th>25%</th>\n",
              "      <td>1.157951e+06</td>\n",
              "      <td>0.000000</td>\n",
              "      <td>0.180000</td>\n",
              "      <td>5.000000</td>\n",
              "      <td>2.000000</td>\n",
              "      <td>34.000000</td>\n",
              "      <td>50.000000</td>\n",
              "      <td>92.000000</td>\n",
              "    </tr>\n",
              "    <tr>\n",
              "      <th>50%</th>\n",
              "      <td>2.272152e+06</td>\n",
              "      <td>0.000000</td>\n",
              "      <td>0.490000</td>\n",
              "      <td>6.000000</td>\n",
              "      <td>6.000000</td>\n",
              "      <td>44.000000</td>\n",
              "      <td>50.000000</td>\n",
              "      <td>393.000000</td>\n",
              "    </tr>\n",
              "    <tr>\n",
              "      <th>75%</th>\n",
              "      <td>4.046274e+06</td>\n",
              "      <td>0.000000</td>\n",
              "      <td>0.990000</td>\n",
              "      <td>7.000000</td>\n",
              "      <td>11.000000</td>\n",
              "      <td>55.000000</td>\n",
              "      <td>64.000000</td>\n",
              "      <td>1658.000000</td>\n",
              "    </tr>\n",
              "    <tr>\n",
              "      <th>max</th>\n",
              "      <td>6.114330e+06</td>\n",
              "      <td>16.000000</td>\n",
              "      <td>2.010000</td>\n",
              "      <td>15.000000</td>\n",
              "      <td>100.000000</td>\n",
              "      <td>100.000000</td>\n",
              "      <td>230.000000</td>\n",
              "      <td>27000.000000</td>\n",
              "    </tr>\n",
              "  </tbody>\n",
              "</table>\n",
              "</div>"
            ],
            "text/plain": [
              "              IDpol        ClaimNb  ...     BonusMalus        Density\n",
              "count  6.780130e+05  678013.000000  ...  678013.000000  678013.000000\n",
              "mean   2.621857e+06       0.053247  ...      59.761502    1792.422405\n",
              "std    1.641783e+06       0.240117  ...      15.636658    3958.646564\n",
              "min    1.000000e+00       0.000000  ...      50.000000       1.000000\n",
              "25%    1.157951e+06       0.000000  ...      50.000000      92.000000\n",
              "50%    2.272152e+06       0.000000  ...      50.000000     393.000000\n",
              "75%    4.046274e+06       0.000000  ...      64.000000    1658.000000\n",
              "max    6.114330e+06      16.000000  ...     230.000000   27000.000000\n",
              "\n",
              "[8 rows x 8 columns]"
            ]
          },
          "metadata": {
            "tags": []
          },
          "execution_count": 48
        }
      ]
    },
    {
      "cell_type": "code",
      "metadata": {
        "colab": {
          "base_uri": "https://localhost:8080/",
          "height": 166
        },
        "id": "aIxDrgh4IS01",
        "outputId": "4e23f5c2-265a-4fd0-e03a-6c038cda4d51"
      },
      "source": [
        "claim.describe(include='category')"
      ],
      "execution_count": 49,
      "outputs": [
        {
          "output_type": "execute_result",
          "data": {
            "text/html": [
              "<div>\n",
              "<style scoped>\n",
              "    .dataframe tbody tr th:only-of-type {\n",
              "        vertical-align: middle;\n",
              "    }\n",
              "\n",
              "    .dataframe tbody tr th {\n",
              "        vertical-align: top;\n",
              "    }\n",
              "\n",
              "    .dataframe thead th {\n",
              "        text-align: right;\n",
              "    }\n",
              "</style>\n",
              "<table border=\"1\" class=\"dataframe\">\n",
              "  <thead>\n",
              "    <tr style=\"text-align: right;\">\n",
              "      <th></th>\n",
              "      <th>VehBrand</th>\n",
              "      <th>VehGas</th>\n",
              "      <th>Area</th>\n",
              "      <th>Region</th>\n",
              "    </tr>\n",
              "  </thead>\n",
              "  <tbody>\n",
              "    <tr>\n",
              "      <th>count</th>\n",
              "      <td>678013</td>\n",
              "      <td>678013</td>\n",
              "      <td>678013</td>\n",
              "      <td>678013</td>\n",
              "    </tr>\n",
              "    <tr>\n",
              "      <th>unique</th>\n",
              "      <td>11</td>\n",
              "      <td>2</td>\n",
              "      <td>6</td>\n",
              "      <td>21</td>\n",
              "    </tr>\n",
              "    <tr>\n",
              "      <th>top</th>\n",
              "      <td>B12</td>\n",
              "      <td>Regular</td>\n",
              "      <td>C</td>\n",
              "      <td>Centre</td>\n",
              "    </tr>\n",
              "    <tr>\n",
              "      <th>freq</th>\n",
              "      <td>166024</td>\n",
              "      <td>345877</td>\n",
              "      <td>191880</td>\n",
              "      <td>160601</td>\n",
              "    </tr>\n",
              "  </tbody>\n",
              "</table>\n",
              "</div>"
            ],
            "text/plain": [
              "       VehBrand   VehGas    Area  Region\n",
              "count    678013   678013  678013  678013\n",
              "unique       11        2       6      21\n",
              "top         B12  Regular       C  Centre\n",
              "freq     166024   345877  191880  160601"
            ]
          },
          "metadata": {
            "tags": []
          },
          "execution_count": 49
        }
      ]
    },
    {
      "cell_type": "markdown",
      "metadata": {
        "id": "t6lVdazuwJ5q"
      },
      "source": [
        "Tu pojde tabulka so strany 2,\n",
        "pod nou dat coment ze proste 4 a viac dame do jednej kedze to je velmi malo pravdepodobne ze niekdeto mal tolko, tak to dame rovne 4\n",
        "\n"
      ]
    },
    {
      "cell_type": "code",
      "metadata": {
        "colab": {
          "base_uri": "https://localhost:8080/"
        },
        "id": "kCJGrrVPItqE",
        "outputId": "a7219f4b-55e5-4a5c-acfc-683041497c32"
      },
      "source": [
        "sum(claim.Exposure > 1)"
      ],
      "execution_count": 50,
      "outputs": [
        {
          "output_type": "execute_result",
          "data": {
            "text/plain": [
              "1224"
            ]
          },
          "metadata": {
            "tags": []
          },
          "execution_count": 50
        }
      ]
    },
    {
      "cell_type": "code",
      "metadata": {
        "id": "UawsB5iWI8kh"
      },
      "source": [
        "# the maximum observing time was one year, so, these must have been a mistake, we replace them with 1 as Wutrich\n",
        "claim.loc[claim.Exposure > 1,'Exposure'] = 1"
      ],
      "execution_count": 51,
      "outputs": []
    },
    {
      "cell_type": "code",
      "metadata": {
        "colab": {
          "base_uri": "https://localhost:8080/"
        },
        "id": "dvt-28MBocAI",
        "outputId": "32ad995b-eee1-4973-df8d-e46bbe8205fc"
      },
      "source": [
        "sum(claim.Exposure >1)"
      ],
      "execution_count": 52,
      "outputs": [
        {
          "output_type": "execute_result",
          "data": {
            "text/plain": [
              "0"
            ]
          },
          "metadata": {
            "tags": []
          },
          "execution_count": 52
        }
      ]
    },
    {
      "cell_type": "code",
      "metadata": {
        "colab": {
          "base_uri": "https://localhost:8080/",
          "height": 302
        },
        "id": "2VM9lJmMGr9h",
        "outputId": "5da5e96f-5ae7-44ef-a814-28002b354a3b"
      },
      "source": [
        "# boxplot for exposition period distribution\n",
        "sns.set_theme(style=\"whitegrid\")\n",
        "sns.boxplot(x = 'Exposure', data = claim)"
      ],
      "execution_count": 53,
      "outputs": [
        {
          "output_type": "execute_result",
          "data": {
            "text/plain": [
              "<matplotlib.axes._subplots.AxesSubplot at 0x7ff711973750>"
            ]
          },
          "metadata": {
            "tags": []
          },
          "execution_count": 53
        },
        {
          "output_type": "display_data",
          "data": {
            "image/png": "[encoded data removed]",
            "text/plain": [
              "<Figure size 432x288 with 1 Axes>"
            ]
          },
          "metadata": {
            "tags": []
          }
        }
      ]
    },
    {
      "cell_type": "code",
      "metadata": {
        "colab": {
          "base_uri": "https://localhost:8080/",
          "height": 302
        },
        "id": "C5VGhQZxCcKa",
        "outputId": "b90f792e-1569-48cc-f3a3-8f9f4cf01dec"
      },
      "source": [
        "ax = sns.histplot(x = 'Exposure', data = claim, stat = 'probability')\n",
        "sns.set_theme(style=\"whitegrid\")\n",
        "ax.set_ylabel(\"Relatívny počet poz.\")\n",
        "ax.set_xlabel(\"Exposure\")\n"
      ],
      "execution_count": 54,
      "outputs": [
        {
          "output_type": "execute_result",
          "data": {
            "text/plain": [
              "Text(0.5, 0, 'Exposure')"
            ]
          },
          "metadata": {
            "tags": []
          },
          "execution_count": 54
        },
        {
          "output_type": "display_data",
          "data": {
            "image/png": "[encoded data removed]",
            "text/plain": [
              "<Figure size 432x288 with 1 Axes>"
            ]
          },
          "metadata": {
            "tags": []
          }
        }
      ]
    },
    {
      "cell_type": "code",
      "metadata": {
        "id": "JFdogt52H_ks"
      },
      "source": [
        "# we dont expect more than 4 claims during a fiscal year\n",
        "claim.loc[claim.ClaimNb > 3, \"ClaimNb\"] = 4"
      ],
      "execution_count": 55,
      "outputs": []
    },
    {
      "cell_type": "code",
      "metadata": {
        "colab": {
          "base_uri": "https://localhost:8080/",
          "height": 194
        },
        "id": "AxgUsE3-C76k",
        "outputId": "8003dcb0-8bc9-474d-8a2e-d8dc7937bcae"
      },
      "source": [
        "# pie plot showing the distribution of claim counts\n",
        "\n",
        "fig, ax = plt.subplots(figsize=(6, 3), subplot_kw=dict(aspect=\"equal\"))\n",
        "dat = claim.ClaimNb.value_counts()\n",
        "\n",
        "def func(pct, allvals):\n",
        "    absolute = int(round(pct/100.*np.sum(allvals)))\n",
        "    return \"{:.1f}%\\n({:d} g)\".format(pct, absolute)\n",
        "\n",
        "\n",
        "wedges, autotexts = ax.pie(dat, startangle = 30, radius = 1.2, textprops=dict(color=\"w\"))\n",
        "\n",
        "ax.legend(wedges, ['0  -  94.977%','1  -  4.746%','2   -  0.263%','3  -  0.012%', '4  -  0.002%'],\n",
        "                    loc=\"lower left\",\n",
        "          bbox_to_anchor=(1, 0, 0.5, 1))\n",
        "\n",
        "plt.setp(autotexts, size=8, weight=\"bold\")\n",
        "\n",
        "plt.show()"
      ],
      "execution_count": 56,
      "outputs": [
        {
          "output_type": "display_data",
          "data": {
            "image/png": "[encoded data removed]",
            "text/plain": [
              "<Figure size 432x216 with 1 Axes>"
            ]
          },
          "metadata": {
            "tags": []
          }
        }
      ]
    },
    {
      "cell_type": "code",
      "metadata": {
        "colab": {
          "base_uri": "https://localhost:8080/",
          "height": 268
        },
        "id": "kkYmczHCERnk",
        "outputId": "ea467ac8-5621-45ca-e97d-1733af239257"
      },
      "source": [
        "# Distribution of type of fuel\n",
        "ax = countplot(data=claim,x='VehGas')\n",
        "ax.set_xticklabels([\"diesel\",\"benzín\"])\n",
        "ax.set_ylabel(\"Počet pozorovaní\")\n",
        "ax.set_xlabel(\"\")\n",
        "\n",
        "show()"
      ],
      "execution_count": 57,
      "outputs": [
        {
          "output_type": "display_data",
          "data": {
            "image/png": "[encoded data removed]",
            "text/plain": [
              "<Figure size 432x288 with 1 Axes>"
            ]
          },
          "metadata": {
            "tags": []
          }
        }
      ]
    },
    {
      "cell_type": "code",
      "metadata": {
        "colab": {
          "base_uri": "https://localhost:8080/"
        },
        "id": "A2W6KHOHV7Bm",
        "outputId": "8b911c2b-be8a-4539-fe44-a92c9166feb6"
      },
      "source": [
        "claim.loc[claim.VehAge > 40, 'VehAge'].value_counts().sum()"
      ],
      "execution_count": 58,
      "outputs": [
        {
          "output_type": "execute_result",
          "data": {
            "text/plain": [
              "230"
            ]
          },
          "metadata": {
            "tags": []
          },
          "execution_count": 58
        }
      ]
    },
    {
      "cell_type": "code",
      "metadata": {
        "colab": {
          "base_uri": "https://localhost:8080/"
        },
        "id": "qCmRAEm4V8I7",
        "outputId": "b7187e5c-f4bf-4514-e06f-1cf7a644f086"
      },
      "source": [
        "claim.loc[claim.DrivAge > 90].value_counts().sum()"
      ],
      "execution_count": 59,
      "outputs": [
        {
          "output_type": "execute_result",
          "data": {
            "text/plain": [
              "401"
            ]
          },
          "metadata": {
            "tags": []
          },
          "execution_count": 59
        }
      ]
    },
    {
      "cell_type": "code",
      "metadata": {
        "colab": {
          "base_uri": "https://localhost:8080/"
        },
        "id": "Sfqkqs-1WH1M",
        "outputId": "309d6389-6aa9-46e9-8556-e82e63b8cb5f"
      },
      "source": [
        "claim.loc[claim.BonusMalus > 150].value_counts().sum()"
      ],
      "execution_count": 60,
      "outputs": [
        {
          "output_type": "execute_result",
          "data": {
            "text/plain": [
              "209"
            ]
          },
          "metadata": {
            "tags": []
          },
          "execution_count": 60
        }
      ]
    },
    {
      "cell_type": "code",
      "metadata": {
        "id": "MObyjVUXXVRL"
      },
      "source": [
        "#claim = claim.loc[claim.VehAge < 40]\n",
        "#claim = claim.loc[claim.DrivAge < 90]\n",
        "#claim = claim.loc[claim.BonusMalus < 150]\n",
        "\n"
      ],
      "execution_count": 61,
      "outputs": []
    },
    {
      "cell_type": "code",
      "metadata": {
        "colab": {
          "base_uri": "https://localhost:8080/",
          "height": 284
        },
        "id": "wZIsDxj19EIv",
        "outputId": "31baa23f-404d-4b57-8ae6-e5d52b1435bf"
      },
      "source": [
        "# correlation between numerical features\n",
        "claim.corr()"
      ],
      "execution_count": 62,
      "outputs": [
        {
          "output_type": "execute_result",
          "data": {
            "text/html": [
              "<div>\n",
              "<style scoped>\n",
              "    .dataframe tbody tr th:only-of-type {\n",
              "        vertical-align: middle;\n",
              "    }\n",
              "\n",
              "    .dataframe tbody tr th {\n",
              "        vertical-align: top;\n",
              "    }\n",
              "\n",
              "    .dataframe thead th {\n",
              "        text-align: right;\n",
              "    }\n",
              "</style>\n",
              "<table border=\"1\" class=\"dataframe\">\n",
              "  <thead>\n",
              "    <tr style=\"text-align: right;\">\n",
              "      <th></th>\n",
              "      <th>IDpol</th>\n",
              "      <th>ClaimNb</th>\n",
              "      <th>Exposure</th>\n",
              "      <th>VehPower</th>\n",
              "      <th>VehAge</th>\n",
              "      <th>DrivAge</th>\n",
              "      <th>BonusMalus</th>\n",
              "      <th>Density</th>\n",
              "    </tr>\n",
              "  </thead>\n",
              "  <tbody>\n",
              "    <tr>\n",
              "      <th>IDpol</th>\n",
              "      <td>1.000000</td>\n",
              "      <td>-0.129033</td>\n",
              "      <td>-0.159865</td>\n",
              "      <td>0.048610</td>\n",
              "      <td>-0.156919</td>\n",
              "      <td>0.063703</td>\n",
              "      <td>-0.005595</td>\n",
              "      <td>0.070759</td>\n",
              "    </tr>\n",
              "    <tr>\n",
              "      <th>ClaimNb</th>\n",
              "      <td>-0.129033</td>\n",
              "      <td>1.000000</td>\n",
              "      <td>0.069744</td>\n",
              "      <td>-0.003987</td>\n",
              "      <td>-0.022181</td>\n",
              "      <td>0.011312</td>\n",
              "      <td>0.051182</td>\n",
              "      <td>0.010924</td>\n",
              "    </tr>\n",
              "    <tr>\n",
              "      <th>Exposure</th>\n",
              "      <td>-0.159865</td>\n",
              "      <td>0.069744</td>\n",
              "      <td>1.000000</td>\n",
              "      <td>-0.045398</td>\n",
              "      <td>0.151644</td>\n",
              "      <td>0.172016</td>\n",
              "      <td>-0.183089</td>\n",
              "      <td>-0.071196</td>\n",
              "    </tr>\n",
              "    <tr>\n",
              "      <th>VehPower</th>\n",
              "      <td>0.048610</td>\n",
              "      <td>-0.003987</td>\n",
              "      <td>-0.045398</td>\n",
              "      <td>1.000000</td>\n",
              "      <td>-0.006001</td>\n",
              "      <td>0.030108</td>\n",
              "      <td>-0.075895</td>\n",
              "      <td>0.042901</td>\n",
              "    </tr>\n",
              "    <tr>\n",
              "      <th>VehAge</th>\n",
              "      <td>-0.156919</td>\n",
              "      <td>-0.022181</td>\n",
              "      <td>0.151644</td>\n",
              "      <td>-0.006001</td>\n",
              "      <td>1.000000</td>\n",
              "      <td>-0.059213</td>\n",
              "      <td>0.079923</td>\n",
              "      <td>-0.090428</td>\n",
              "    </tr>\n",
              "    <tr>\n",
              "      <th>DrivAge</th>\n",
              "      <td>0.063703</td>\n",
              "      <td>0.011312</td>\n",
              "      <td>0.172016</td>\n",
              "      <td>0.030108</td>\n",
              "      <td>-0.059213</td>\n",
              "      <td>1.000000</td>\n",
              "      <td>-0.479966</td>\n",
              "      <td>-0.004700</td>\n",
              "    </tr>\n",
              "    <tr>\n",
              "      <th>BonusMalus</th>\n",
              "      <td>-0.005595</td>\n",
              "      <td>0.051182</td>\n",
              "      <td>-0.183089</td>\n",
              "      <td>-0.075895</td>\n",
              "      <td>0.079923</td>\n",
              "      <td>-0.479966</td>\n",
              "      <td>1.000000</td>\n",
              "      <td>0.077717</td>\n",
              "    </tr>\n",
              "    <tr>\n",
              "      <th>Density</th>\n",
              "      <td>0.070759</td>\n",
              "      <td>0.010924</td>\n",
              "      <td>-0.071196</td>\n",
              "      <td>0.042901</td>\n",
              "      <td>-0.090428</td>\n",
              "      <td>-0.004700</td>\n",
              "      <td>0.077717</td>\n",
              "      <td>1.000000</td>\n",
              "    </tr>\n",
              "  </tbody>\n",
              "</table>\n",
              "</div>"
            ],
            "text/plain": [
              "               IDpol   ClaimNb  Exposure  ...   DrivAge  BonusMalus   Density\n",
              "IDpol       1.000000 -0.129033 -0.159865  ...  0.063703   -0.005595  0.070759\n",
              "ClaimNb    -0.129033  1.000000  0.069744  ...  0.011312    0.051182  0.010924\n",
              "Exposure   -0.159865  0.069744  1.000000  ...  0.172016   -0.183089 -0.071196\n",
              "VehPower    0.048610 -0.003987 -0.045398  ...  0.030108   -0.075895  0.042901\n",
              "VehAge     -0.156919 -0.022181  0.151644  ... -0.059213    0.079923 -0.090428\n",
              "DrivAge     0.063703  0.011312  0.172016  ...  1.000000   -0.479966 -0.004700\n",
              "BonusMalus -0.005595  0.051182 -0.183089  ... -0.479966    1.000000  0.077717\n",
              "Density     0.070759  0.010924 -0.071196  ... -0.004700    0.077717  1.000000\n",
              "\n",
              "[8 rows x 8 columns]"
            ]
          },
          "metadata": {
            "tags": []
          },
          "execution_count": 62
        }
      ]
    },
    {
      "cell_type": "code",
      "metadata": {
        "id": "34zfkQItmBrX"
      },
      "source": [
        "df = claim.copy()"
      ],
      "execution_count": 119,
      "outputs": []
    },
    {
      "cell_type": "code",
      "metadata": {
        "id": "hV8u914xo5zB"
      },
      "source": [
        "df['Density'] = np.log(df['Density'])"
      ],
      "execution_count": 120,
      "outputs": []
    },
    {
      "cell_type": "code",
      "metadata": {
        "id": "U05cosDupHIz"
      },
      "source": [
        "df['Area'] = df['Area'].cat.codes"
      ],
      "execution_count": 121,
      "outputs": []
    },
    {
      "cell_type": "code",
      "metadata": {
        "id": "l17pyeBTmVMR"
      },
      "source": [
        "df = df.loc[(df['VehAge'] < 20) & (df['DrivAge'] <= 90) & (df['BonusMalus'] < 150)]"
      ],
      "execution_count": 122,
      "outputs": []
    },
    {
      "cell_type": "code",
      "metadata": {
        "colab": {
          "base_uri": "https://localhost:8080/",
          "height": 289
        },
        "id": "kkXjbaolxVER",
        "outputId": "4e311557-9143-427e-d51a-cb6b0bf86650"
      },
      "source": [
        "empirical = (df.groupby(['VehPower'], as_index=False))[['ClaimNb', 'Exposure']].sum()\n",
        "empirical['frequency'] = empirical['ClaimNb'] / empirical['Exposure']\n",
        "ax = sns.pointplot(x = 'VehPower', y = 'frequency', data = empirical)\n",
        "ax.set_ylabel(\"Empirická frekvencia\")\n",
        "ax.set(ylim=(0.0, 0.35))\n",
        "plt.show()"
      ],
      "execution_count": 123,
      "outputs": [
        {
          "output_type": "display_data",
          "data": {
            "image/png": "[encoded data removed]",
            "text/plain": [
              "<Figure size 432x288 with 1 Axes>"
            ]
          },
          "metadata": {
            "tags": []
          }
        }
      ]
    },
    {
      "cell_type": "code",
      "metadata": {
        "colab": {
          "base_uri": "https://localhost:8080/",
          "height": 289
        },
        "id": "OtoFM47zty6Y",
        "outputId": "7815511f-f2c1-4ee4-a99b-d31a2fa4a2c9"
      },
      "source": [
        "empirical = (df.groupby(['VehAge'], as_index=False))[['ClaimNb', 'Exposure']].sum()\n",
        "empirical['frequency'] = empirical['ClaimNb'] / empirical['Exposure']\n",
        "ax = sns.pointplot(x = 'VehAge', y = 'frequency', data = empirical)\n",
        "ax.set_ylabel(\"Empirická frekvencia\")\n",
        "ax.set(ylim=(0.0, 0.35))\n",
        "plt.show()"
      ],
      "execution_count": 124,
      "outputs": [
        {
          "output_type": "display_data",
          "data": {
            "image/png": "[encoded data removed]",
            "text/plain": [
              "<Figure size 432x288 with 1 Axes>"
            ]
          },
          "metadata": {
            "tags": []
          }
        }
      ]
    },
    {
      "cell_type": "code",
      "metadata": {
        "colab": {
          "base_uri": "https://localhost:8080/",
          "height": 289
        },
        "id": "Y_h0XgjNo2wT",
        "outputId": "e155b5eb-ac64-49bd-b7e8-f6d8cc701956"
      },
      "source": [
        "empirical = (df.groupby(['VehGas'], as_index=False))[['ClaimNb', 'Exposure']].sum()\n",
        "empirical['frequency'] = empirical['ClaimNb'] / empirical['Exposure']\n",
        "ax = sns.pointplot(x = 'VehGas', y = 'frequency', data = empirical)\n",
        "ax.set_ylabel(\"Empirická frekvencia\")\n",
        "ax.set(ylim=(0.0, 0.35))\n",
        "plt.show()"
      ],
      "execution_count": 125,
      "outputs": [
        {
          "output_type": "display_data",
          "data": {
            "image/png": "[encoded data removed]",
            "text/plain": [
              "<Figure size 432x288 with 1 Axes>"
            ]
          },
          "metadata": {
            "tags": []
          }
        }
      ]
    },
    {
      "cell_type": "code",
      "metadata": {
        "colab": {
          "base_uri": "https://localhost:8080/",
          "height": 289
        },
        "id": "DI6UdsBEuLM9",
        "outputId": "7eaca629-fef7-41b5-e025-344d7ae49623"
      },
      "source": [
        "empirical = (df.groupby(['DrivAge'], as_index=False))[['ClaimNb', 'Exposure']].sum()\n",
        "empirical['frequency'] = empirical['ClaimNb'] / empirical['Exposure']\n",
        "ax = sns.pointplot(x = 'DrivAge', y = 'frequency', data = empirical)\n",
        "ax.set_ylabel(\"Empirická frekvencia\")\n",
        "ax.set(ylim=(0.0, 0.35))\n",
        "new_ticks = [i.get_text() for i in ax.get_xticklabels()]\n",
        "plt.xticks(range(0, len(new_ticks), 6), new_ticks[::6])\n",
        "plt.show()"
      ],
      "execution_count": 126,
      "outputs": [
        {
          "output_type": "display_data",
          "data": {
            "image/png": "[encoded data removed]",
            "text/plain": [
              "<Figure size 432x288 with 1 Axes>"
            ]
          },
          "metadata": {
            "tags": []
          }
        }
      ]
    },
    {
      "cell_type": "code",
      "metadata": {
        "colab": {
          "base_uri": "https://localhost:8080/",
          "height": 289
        },
        "id": "fsdzirZZ0dCj",
        "outputId": "b45c17ee-3f1c-4da2-e784-ffea26d5cf2b"
      },
      "source": [
        "empirical = (df.groupby(['VehBrand'], as_index=False))[['ClaimNb', 'Exposure']].sum()\n",
        "empirical['frequency'] = empirical['ClaimNb'] / empirical['Exposure']\n",
        "ax = sns.pointplot(x = 'VehBrand', y = 'frequency', data = empirical)\n",
        "ax.set_ylabel(\"Empirická frekvencia\")\n",
        "ax.set(ylim=(0.0, 0.35))\n",
        "plt.show()"
      ],
      "execution_count": 128,
      "outputs": [
        {
          "output_type": "display_data",
          "data": {
            "image/png": "[encoded data removed]",
            "text/plain": [
              "<Figure size 432x288 with 1 Axes>"
            ]
          },
          "metadata": {
            "tags": []
          }
        }
      ]
    },
    {
      "cell_type": "code",
      "metadata": {
        "colab": {
          "base_uri": "https://localhost:8080/",
          "height": 289
        },
        "id": "kfccoCDx0oJl",
        "outputId": "d7e0b31b-0dd4-4e72-b739-c3dc1c1efa94"
      },
      "source": [
        "empirical = (df.groupby(['Area'], as_index=False))[['ClaimNb', 'Exposure']].sum()\n",
        "empirical['frequency'] = empirical['ClaimNb'] / empirical['Exposure']\n",
        "ax = sns.pointplot(x = 'Area', y = 'frequency', data = empirical)\n",
        "ax.set_ylabel(\"Empirická frekvencia\")\n",
        "ax.set(ylim=(0.0, 0.35))\n",
        "plt.show()"
      ],
      "execution_count": 129,
      "outputs": [
        {
          "output_type": "display_data",
          "data": {
            "image/png": "[encoded data removed]",
            "text/plain": [
              "<Figure size 432x288 with 1 Axes>"
            ]
          },
          "metadata": {
            "tags": []
          }
        }
      ]
    },
    {
      "cell_type": "code",
      "metadata": {
        "colab": {
          "base_uri": "https://localhost:8080/",
          "height": 377
        },
        "id": "QMp-5QJH1FrW",
        "outputId": "839b4b2b-5274-4bac-c136-3e023e82bb12"
      },
      "source": [
        "empirical = (df.groupby(['Region'], as_index=False))[['ClaimNb', 'Exposure']].sum()\n",
        "empirical['frequency'] = empirical['ClaimNb'] / empirical['Exposure']\n",
        "ax = sns.pointplot(x = 'Region', y = 'frequency', data = empirical)\n",
        "ax.set_ylabel(\"Empirická frekvencia\")\n",
        "ax.set(ylim=(0.0, 0.35))\n",
        "new_ticks = [i.get_text() for i in ax.get_xticklabels()]\n",
        "plt.xticks(range(0, len(new_ticks), 5), new_ticks[::5], rotation=30)\n",
        "plt.show()\n",
        "print(new_ticks)"
      ],
      "execution_count": 139,
      "outputs": [
        {
          "output_type": "display_data",
          "data": {
            "image/png": "[encoded data removed]",
            "text/plain": [
              "<Figure size 432x288 with 1 Axes>"
            ]
          },
          "metadata": {
            "tags": []
          }
        },
        {
          "output_type": "stream",
          "text": [
            "['Alsace', 'Aquitaine', 'Auvergne', 'Basse-Normandie', 'Bourgogne', 'Bretagne', 'Centre', 'Champagne-Ardenne', 'Corse', 'Franche-Comte', 'Haute-Normandie', 'Ile-de-France', 'Languedoc-Roussillon', 'Limousin', 'Midi-Pyrenees', 'Nord-Pas-de-Calais', 'Pays-de-la-Loire', 'Picardie', 'Poitou-Charentes', \"Provence-Alpes-Cotes-D'Azur\", 'Rhone-Alpes']\n"
          ],
          "name": "stdout"
        }
      ]
    },
    {
      "cell_type": "code",
      "metadata": {
        "colab": {
          "base_uri": "https://localhost:8080/",
          "height": 289
        },
        "id": "L6nunGs126La",
        "outputId": "b1392708-21b6-45c2-e727-a383db444c82"
      },
      "source": [
        "df['Density_cat'] = pd.cut(df['Density'], 11, retbins=True, labels = False)[0]\n",
        "empirical = (df.groupby(['Density_cat'], as_index=False))[['ClaimNb', 'Exposure']].sum()\n",
        "empirical['frequency'] = empirical['ClaimNb'] / empirical['Exposure']\n",
        "ax = sns.pointplot(x = 'Density_cat', y = 'frequency', data = empirical)\n",
        "ax.set_ylabel(\"Empirická frekvencia\")\n",
        "ax.set(ylim=(0.0, 0.35))\n",
        "plt.show()"
      ],
      "execution_count": 172,
      "outputs": [
        {
          "output_type": "display_data",
          "data": {
            "image/png": "[encoded data removed]",
            "text/plain": [
              "<Figure size 432x288 with 1 Axes>"
            ]
          },
          "metadata": {
            "tags": []
          }
        }
      ]
    },
    {
      "cell_type": "code",
      "metadata": {
        "colab": {
          "base_uri": "https://localhost:8080/",
          "height": 285
        },
        "id": "CUsVY_k-uQwE",
        "outputId": "97dbd4c1-a513-435b-9741-c4ede9da7db8"
      },
      "source": [
        "df['Bonus_cat'] = pd.cut(df['BonusMalus'], 13, retbins=True, labels = False)[0]\n",
        "empirical = (df.groupby(['Bonus_cat'], as_index=False))[['ClaimNb', 'Exposure']].sum()\n",
        "empirical['frequency'] = empirical['ClaimNb'] / empirical['Exposure']\n",
        "ax = sns.pointplot(x = 'Bonus_cat', y = 'frequency', data = empirical)\n",
        "ax.set_ylabel(\"Empirická frekvencia\")\n",
        "ax.set(ylim=(0.0, 0.55))\n",
        "plt.show()"
      ],
      "execution_count": 176,
      "outputs": [
        {
          "output_type": "display_data",
          "data": {
            "image/png": "[encoded data removed]",
            "text/plain": [
              "<Figure size 432x288 with 1 Axes>"
            ]
          },
          "metadata": {
            "tags": []
          }
        }
      ]
    },
    {
      "cell_type": "markdown",
      "metadata": {
        "id": "kIBgS40qZGaJ"
      },
      "source": [
        "# Scaling and one-hot-encoding"
      ]
    },
    {
      "cell_type": "code",
      "metadata": {
        "id": "p89ncQP1ZJVO"
      },
      "source": [
        "onehot = OneHotEncoder()\n",
        "gasenc = LabelEncoder()\n",
        "minmax = MinMaxScaler(feature_range=(-1 , 1))\n"
      ],
      "execution_count": 25,
      "outputs": []
    },
    {
      "cell_type": "code",
      "metadata": {
        "id": "yPrjAeqbdKNn"
      },
      "source": [
        "# transform area to numeric categories - ordinal\n",
        "claim['Area'] = claim['Area'].cat.codes"
      ],
      "execution_count": 26,
      "outputs": []
    },
    {
      "cell_type": "code",
      "metadata": {
        "colab": {
          "base_uri": "https://localhost:8080/",
          "height": 365
        },
        "id": "tJpHhyJARDW6",
        "outputId": "0bcac225-5e3b-4472-bb09-b279397556fb"
      },
      "source": [
        "ax = sns.displot(x = 'Density', data = claim)\n",
        "ax.set(xlabel='dens', ylabel='Počet pozorovaní')\n",
        "plt.show()"
      ],
      "execution_count": 27,
      "outputs": [
        {
          "output_type": "display_data",
          "data": {
            "image/png": "[encoded data removed]",
            "text/plain": [
              "<Figure size 360x360 with 1 Axes>"
            ]
          },
          "metadata": {
            "tags": []
          }
        }
      ]
    },
    {
      "cell_type": "code",
      "metadata": {
        "id": "6vxZaCU9RxnC"
      },
      "source": [
        "claim[['minmaxlogdense']] = minmax.fit_transform(claim[['Density']])"
      ],
      "execution_count": 28,
      "outputs": []
    },
    {
      "cell_type": "code",
      "metadata": {
        "colab": {
          "base_uri": "https://localhost:8080/",
          "height": 365
        },
        "id": "WDUK1yMESGQJ",
        "outputId": "75c9bdb2-9c76-473a-fbff-fe5aeadf1fe0"
      },
      "source": [
        "ax=sns.displot(x = 'minmaxlogdense', data = claim)\n",
        "ax.set(xlabel='log(dens)', ylabel='Počet pozorovaní')\n",
        "plt.show()"
      ],
      "execution_count": 29,
      "outputs": [
        {
          "output_type": "display_data",
          "data": {
            "image/png": "[encoded data removed]",
            "text/plain": [
              "<Figure size 360x360 with 1 Axes>"
            ]
          },
          "metadata": {
            "tags": []
          }
        }
      ]
    },
    {
      "cell_type": "code",
      "metadata": {
        "id": "uzOUkEHaoaQb"
      },
      "source": [
        "# transform dens to log dens (we follow the initial article of \n",
        "# M. V. Wuthrich - Data Analytics for Non-Life Insurance Pricing, 2020)\n",
        "claim['Density'] = np.log(claim['Density'])\n"
      ],
      "execution_count": 30,
      "outputs": []
    },
    {
      "cell_type": "code",
      "metadata": {
        "id": "4kPpfKPI4Hbx"
      },
      "source": [
        "# correlation of numerical features \n",
        "# significant correlation between area and dens\n",
        "claim = claim.drop('minmaxlogdense', axis = 1)\n"
      ],
      "execution_count": 31,
      "outputs": []
    },
    {
      "cell_type": "code",
      "metadata": {
        "colab": {
          "base_uri": "https://localhost:8080/",
          "height": 314
        },
        "id": "2T6fkkuVS1rS",
        "outputId": "4d7869e0-c501-47c5-e997-2cea53187d70"
      },
      "source": [
        "claim.corr()"
      ],
      "execution_count": 32,
      "outputs": [
        {
          "output_type": "execute_result",
          "data": {
            "text/html": [
              "<div>\n",
              "<style scoped>\n",
              "    .dataframe tbody tr th:only-of-type {\n",
              "        vertical-align: middle;\n",
              "    }\n",
              "\n",
              "    .dataframe tbody tr th {\n",
              "        vertical-align: top;\n",
              "    }\n",
              "\n",
              "    .dataframe thead th {\n",
              "        text-align: right;\n",
              "    }\n",
              "</style>\n",
              "<table border=\"1\" class=\"dataframe\">\n",
              "  <thead>\n",
              "    <tr style=\"text-align: right;\">\n",
              "      <th></th>\n",
              "      <th>IDpol</th>\n",
              "      <th>ClaimNb</th>\n",
              "      <th>Exposure</th>\n",
              "      <th>VehPower</th>\n",
              "      <th>VehAge</th>\n",
              "      <th>DrivAge</th>\n",
              "      <th>BonusMalus</th>\n",
              "      <th>Area</th>\n",
              "      <th>Density</th>\n",
              "    </tr>\n",
              "  </thead>\n",
              "  <tbody>\n",
              "    <tr>\n",
              "      <th>IDpol</th>\n",
              "      <td>1.000000</td>\n",
              "      <td>-0.129033</td>\n",
              "      <td>-0.159865</td>\n",
              "      <td>0.048610</td>\n",
              "      <td>-0.156919</td>\n",
              "      <td>0.063703</td>\n",
              "      <td>-0.005595</td>\n",
              "      <td>0.069722</td>\n",
              "      <td>0.069562</td>\n",
              "    </tr>\n",
              "    <tr>\n",
              "      <th>ClaimNb</th>\n",
              "      <td>-0.129033</td>\n",
              "      <td>1.000000</td>\n",
              "      <td>0.069744</td>\n",
              "      <td>-0.003987</td>\n",
              "      <td>-0.022181</td>\n",
              "      <td>0.011312</td>\n",
              "      <td>0.051182</td>\n",
              "      <td>0.013599</td>\n",
              "      <td>0.014449</td>\n",
              "    </tr>\n",
              "    <tr>\n",
              "      <th>Exposure</th>\n",
              "      <td>-0.159865</td>\n",
              "      <td>0.069744</td>\n",
              "      <td>1.000000</td>\n",
              "      <td>-0.045398</td>\n",
              "      <td>0.151644</td>\n",
              "      <td>0.172016</td>\n",
              "      <td>-0.183089</td>\n",
              "      <td>-0.122163</td>\n",
              "      <td>-0.122430</td>\n",
              "    </tr>\n",
              "    <tr>\n",
              "      <th>VehPower</th>\n",
              "      <td>0.048610</td>\n",
              "      <td>-0.003987</td>\n",
              "      <td>-0.045398</td>\n",
              "      <td>1.000000</td>\n",
              "      <td>-0.006001</td>\n",
              "      <td>0.030108</td>\n",
              "      <td>-0.075895</td>\n",
              "      <td>0.003177</td>\n",
              "      <td>0.004883</td>\n",
              "    </tr>\n",
              "    <tr>\n",
              "      <th>VehAge</th>\n",
              "      <td>-0.156919</td>\n",
              "      <td>-0.022181</td>\n",
              "      <td>0.151644</td>\n",
              "      <td>-0.006001</td>\n",
              "      <td>1.000000</td>\n",
              "      <td>-0.059213</td>\n",
              "      <td>0.079923</td>\n",
              "      <td>-0.104530</td>\n",
              "      <td>-0.103745</td>\n",
              "    </tr>\n",
              "    <tr>\n",
              "      <th>DrivAge</th>\n",
              "      <td>0.063703</td>\n",
              "      <td>0.011312</td>\n",
              "      <td>0.172016</td>\n",
              "      <td>0.030108</td>\n",
              "      <td>-0.059213</td>\n",
              "      <td>1.000000</td>\n",
              "      <td>-0.479966</td>\n",
              "      <td>-0.045180</td>\n",
              "      <td>-0.044682</td>\n",
              "    </tr>\n",
              "    <tr>\n",
              "      <th>BonusMalus</th>\n",
              "      <td>-0.005595</td>\n",
              "      <td>0.051182</td>\n",
              "      <td>-0.183089</td>\n",
              "      <td>-0.075895</td>\n",
              "      <td>0.079923</td>\n",
              "      <td>-0.479966</td>\n",
              "      <td>1.000000</td>\n",
              "      <td>0.120858</td>\n",
              "      <td>0.125258</td>\n",
              "    </tr>\n",
              "    <tr>\n",
              "      <th>Area</th>\n",
              "      <td>0.069722</td>\n",
              "      <td>0.013599</td>\n",
              "      <td>-0.122163</td>\n",
              "      <td>0.003177</td>\n",
              "      <td>-0.104530</td>\n",
              "      <td>-0.045180</td>\n",
              "      <td>0.120858</td>\n",
              "      <td>1.000000</td>\n",
              "      <td>0.970618</td>\n",
              "    </tr>\n",
              "    <tr>\n",
              "      <th>Density</th>\n",
              "      <td>0.069562</td>\n",
              "      <td>0.014449</td>\n",
              "      <td>-0.122430</td>\n",
              "      <td>0.004883</td>\n",
              "      <td>-0.103745</td>\n",
              "      <td>-0.044682</td>\n",
              "      <td>0.125258</td>\n",
              "      <td>0.970618</td>\n",
              "      <td>1.000000</td>\n",
              "    </tr>\n",
              "  </tbody>\n",
              "</table>\n",
              "</div>"
            ],
            "text/plain": [
              "               IDpol   ClaimNb  Exposure  ...  BonusMalus      Area   Density\n",
              "IDpol       1.000000 -0.129033 -0.159865  ...   -0.005595  0.069722  0.069562\n",
              "ClaimNb    -0.129033  1.000000  0.069744  ...    0.051182  0.013599  0.014449\n",
              "Exposure   -0.159865  0.069744  1.000000  ...   -0.183089 -0.122163 -0.122430\n",
              "VehPower    0.048610 -0.003987 -0.045398  ...   -0.075895  0.003177  0.004883\n",
              "VehAge     -0.156919 -0.022181  0.151644  ...    0.079923 -0.104530 -0.103745\n",
              "DrivAge     0.063703  0.011312  0.172016  ...   -0.479966 -0.045180 -0.044682\n",
              "BonusMalus -0.005595  0.051182 -0.183089  ...    1.000000  0.120858  0.125258\n",
              "Area        0.069722  0.013599 -0.122163  ...    0.120858  1.000000  0.970618\n",
              "Density     0.069562  0.014449 -0.122430  ...    0.125258  0.970618  1.000000\n",
              "\n",
              "[9 rows x 9 columns]"
            ]
          },
          "metadata": {
            "tags": []
          },
          "execution_count": 32
        }
      ]
    },
    {
      "cell_type": "code",
      "metadata": {
        "id": "YyP3f785agg4"
      },
      "source": [
        "# numerical we use min max scaler to map to interval [-1,1]\n",
        "claim[['VehAge', 'VehPower', 'DrivAge', 'Density', 'BonusMalus', 'Area']] = minmax.fit_transform(claim[['VehAge', 'VehPower', 'DrivAge', 'Density', 'BonusMalus', 'Area']])"
      ],
      "execution_count": 33,
      "outputs": []
    },
    {
      "cell_type": "code",
      "metadata": {
        "colab": {
          "base_uri": "https://localhost:8080/",
          "height": 365
        },
        "id": "nrOeuEXvS9JW",
        "outputId": "b3f89add-5991-4107-f2dc-3b463ae8abd7"
      },
      "source": [
        "ax = sns.displot(x = 'Density', data = claim)\n",
        "ax.set(xlabel='log(Density)', ylabel='Počet pozorovaní')\n",
        "plt.show()"
      ],
      "execution_count": 34,
      "outputs": [
        {
          "output_type": "display_data",
          "data": {
            "image/png": "[encoded data removed]",
            "text/plain": [
              "<Figure size 360x360 with 1 Axes>"
            ]
          },
          "metadata": {
            "tags": []
          }
        }
      ]
    },
    {
      "cell_type": "code",
      "metadata": {
        "id": "pdVdummBqRue"
      },
      "source": [
        "# gas is transformed into two categories, -1.5, +1.5\n",
        "claim['VehGas'] = claim.VehGas.factorize()[0] - 0.5"
      ],
      "execution_count": 35,
      "outputs": []
    },
    {
      "cell_type": "code",
      "metadata": {
        "id": "LAmapRoO_war"
      },
      "source": [
        "# One hot encoding with drop first\n",
        "claim = pd.get_dummies(claim, drop_first=True, columns = ['VehBrand', 'Region'])"
      ],
      "execution_count": 36,
      "outputs": []
    },
    {
      "cell_type": "code",
      "metadata": {
        "colab": {
          "base_uri": "https://localhost:8080/",
          "height": 249
        },
        "id": "yfYFzKclYca8",
        "outputId": "bdd82630-bc48-4aba-8f87-f8a95d2798d9"
      },
      "source": [
        "claim.head()"
      ],
      "execution_count": 37,
      "outputs": [
        {
          "output_type": "execute_result",
          "data": {
            "text/html": [
              "<div>\n",
              "<style scoped>\n",
              "    .dataframe tbody tr th:only-of-type {\n",
              "        vertical-align: middle;\n",
              "    }\n",
              "\n",
              "    .dataframe tbody tr th {\n",
              "        vertical-align: top;\n",
              "    }\n",
              "\n",
              "    .dataframe thead th {\n",
              "        text-align: right;\n",
              "    }\n",
              "</style>\n",
              "<table border=\"1\" class=\"dataframe\">\n",
              "  <thead>\n",
              "    <tr style=\"text-align: right;\">\n",
              "      <th></th>\n",
              "      <th>IDpol</th>\n",
              "      <th>ClaimNb</th>\n",
              "      <th>Exposure</th>\n",
              "      <th>VehPower</th>\n",
              "      <th>VehAge</th>\n",
              "      <th>DrivAge</th>\n",
              "      <th>BonusMalus</th>\n",
              "      <th>VehGas</th>\n",
              "      <th>Area</th>\n",
              "      <th>Density</th>\n",
              "      <th>VehBrand_B10</th>\n",
              "      <th>VehBrand_B11</th>\n",
              "      <th>VehBrand_B12</th>\n",
              "      <th>VehBrand_B13</th>\n",
              "      <th>VehBrand_B14</th>\n",
              "      <th>VehBrand_B2</th>\n",
              "      <th>VehBrand_B3</th>\n",
              "      <th>VehBrand_B4</th>\n",
              "      <th>VehBrand_B5</th>\n",
              "      <th>VehBrand_B6</th>\n",
              "      <th>Region_Aquitaine</th>\n",
              "      <th>Region_Auvergne</th>\n",
              "      <th>Region_Basse-Normandie</th>\n",
              "      <th>Region_Bourgogne</th>\n",
              "      <th>Region_Bretagne</th>\n",
              "      <th>Region_Centre</th>\n",
              "      <th>Region_Champagne-Ardenne</th>\n",
              "      <th>Region_Corse</th>\n",
              "      <th>Region_Franche-Comte</th>\n",
              "      <th>Region_Haute-Normandie</th>\n",
              "      <th>Region_Ile-de-France</th>\n",
              "      <th>Region_Languedoc-Roussillon</th>\n",
              "      <th>Region_Limousin</th>\n",
              "      <th>Region_Midi-Pyrenees</th>\n",
              "      <th>Region_Nord-Pas-de-Calais</th>\n",
              "      <th>Region_Pays-de-la-Loire</th>\n",
              "      <th>Region_Picardie</th>\n",
              "      <th>Region_Poitou-Charentes</th>\n",
              "      <th>Region_Provence-Alpes-Cotes-D'Azur</th>\n",
              "      <th>Region_Rhone-Alpes</th>\n",
              "    </tr>\n",
              "  </thead>\n",
              "  <tbody>\n",
              "    <tr>\n",
              "      <th>0</th>\n",
              "      <td>1.0</td>\n",
              "      <td>1</td>\n",
              "      <td>0.10</td>\n",
              "      <td>-0.818182</td>\n",
              "      <td>-1.00</td>\n",
              "      <td>-0.097561</td>\n",
              "      <td>-1.0</td>\n",
              "      <td>-0.5</td>\n",
              "      <td>0.2</td>\n",
              "      <td>0.392479</td>\n",
              "      <td>0</td>\n",
              "      <td>0</td>\n",
              "      <td>1</td>\n",
              "      <td>0</td>\n",
              "      <td>0</td>\n",
              "      <td>0</td>\n",
              "      <td>0</td>\n",
              "      <td>0</td>\n",
              "      <td>0</td>\n",
              "      <td>0</td>\n",
              "      <td>0</td>\n",
              "      <td>0</td>\n",
              "      <td>0</td>\n",
              "      <td>0</td>\n",
              "      <td>0</td>\n",
              "      <td>0</td>\n",
              "      <td>0</td>\n",
              "      <td>0</td>\n",
              "      <td>0</td>\n",
              "      <td>0</td>\n",
              "      <td>0</td>\n",
              "      <td>0</td>\n",
              "      <td>0</td>\n",
              "      <td>0</td>\n",
              "      <td>0</td>\n",
              "      <td>0</td>\n",
              "      <td>0</td>\n",
              "      <td>0</td>\n",
              "      <td>0</td>\n",
              "      <td>1</td>\n",
              "    </tr>\n",
              "    <tr>\n",
              "      <th>1</th>\n",
              "      <td>3.0</td>\n",
              "      <td>1</td>\n",
              "      <td>0.77</td>\n",
              "      <td>-0.818182</td>\n",
              "      <td>-1.00</td>\n",
              "      <td>-0.097561</td>\n",
              "      <td>-1.0</td>\n",
              "      <td>-0.5</td>\n",
              "      <td>0.2</td>\n",
              "      <td>0.392479</td>\n",
              "      <td>0</td>\n",
              "      <td>0</td>\n",
              "      <td>1</td>\n",
              "      <td>0</td>\n",
              "      <td>0</td>\n",
              "      <td>0</td>\n",
              "      <td>0</td>\n",
              "      <td>0</td>\n",
              "      <td>0</td>\n",
              "      <td>0</td>\n",
              "      <td>0</td>\n",
              "      <td>0</td>\n",
              "      <td>0</td>\n",
              "      <td>0</td>\n",
              "      <td>0</td>\n",
              "      <td>0</td>\n",
              "      <td>0</td>\n",
              "      <td>0</td>\n",
              "      <td>0</td>\n",
              "      <td>0</td>\n",
              "      <td>0</td>\n",
              "      <td>0</td>\n",
              "      <td>0</td>\n",
              "      <td>0</td>\n",
              "      <td>0</td>\n",
              "      <td>0</td>\n",
              "      <td>0</td>\n",
              "      <td>0</td>\n",
              "      <td>0</td>\n",
              "      <td>1</td>\n",
              "    </tr>\n",
              "    <tr>\n",
              "      <th>2</th>\n",
              "      <td>5.0</td>\n",
              "      <td>1</td>\n",
              "      <td>0.75</td>\n",
              "      <td>-0.636364</td>\n",
              "      <td>-0.96</td>\n",
              "      <td>-0.170732</td>\n",
              "      <td>-1.0</td>\n",
              "      <td>0.5</td>\n",
              "      <td>-0.6</td>\n",
              "      <td>-0.218122</td>\n",
              "      <td>0</td>\n",
              "      <td>0</td>\n",
              "      <td>1</td>\n",
              "      <td>0</td>\n",
              "      <td>0</td>\n",
              "      <td>0</td>\n",
              "      <td>0</td>\n",
              "      <td>0</td>\n",
              "      <td>0</td>\n",
              "      <td>0</td>\n",
              "      <td>0</td>\n",
              "      <td>0</td>\n",
              "      <td>0</td>\n",
              "      <td>0</td>\n",
              "      <td>0</td>\n",
              "      <td>0</td>\n",
              "      <td>0</td>\n",
              "      <td>0</td>\n",
              "      <td>0</td>\n",
              "      <td>0</td>\n",
              "      <td>0</td>\n",
              "      <td>0</td>\n",
              "      <td>0</td>\n",
              "      <td>0</td>\n",
              "      <td>0</td>\n",
              "      <td>0</td>\n",
              "      <td>1</td>\n",
              "      <td>0</td>\n",
              "      <td>0</td>\n",
              "      <td>0</td>\n",
              "    </tr>\n",
              "    <tr>\n",
              "      <th>3</th>\n",
              "      <td>10.0</td>\n",
              "      <td>1</td>\n",
              "      <td>0.09</td>\n",
              "      <td>-0.454545</td>\n",
              "      <td>-1.00</td>\n",
              "      <td>-0.317073</td>\n",
              "      <td>-1.0</td>\n",
              "      <td>0.5</td>\n",
              "      <td>-0.6</td>\n",
              "      <td>-0.151136</td>\n",
              "      <td>0</td>\n",
              "      <td>0</td>\n",
              "      <td>1</td>\n",
              "      <td>0</td>\n",
              "      <td>0</td>\n",
              "      <td>0</td>\n",
              "      <td>0</td>\n",
              "      <td>0</td>\n",
              "      <td>0</td>\n",
              "      <td>0</td>\n",
              "      <td>1</td>\n",
              "      <td>0</td>\n",
              "      <td>0</td>\n",
              "      <td>0</td>\n",
              "      <td>0</td>\n",
              "      <td>0</td>\n",
              "      <td>0</td>\n",
              "      <td>0</td>\n",
              "      <td>0</td>\n",
              "      <td>0</td>\n",
              "      <td>0</td>\n",
              "      <td>0</td>\n",
              "      <td>0</td>\n",
              "      <td>0</td>\n",
              "      <td>0</td>\n",
              "      <td>0</td>\n",
              "      <td>0</td>\n",
              "      <td>0</td>\n",
              "      <td>0</td>\n",
              "      <td>0</td>\n",
              "    </tr>\n",
              "    <tr>\n",
              "      <th>4</th>\n",
              "      <td>11.0</td>\n",
              "      <td>1</td>\n",
              "      <td>0.84</td>\n",
              "      <td>-0.454545</td>\n",
              "      <td>-1.00</td>\n",
              "      <td>-0.317073</td>\n",
              "      <td>-1.0</td>\n",
              "      <td>0.5</td>\n",
              "      <td>-0.6</td>\n",
              "      <td>-0.151136</td>\n",
              "      <td>0</td>\n",
              "      <td>0</td>\n",
              "      <td>1</td>\n",
              "      <td>0</td>\n",
              "      <td>0</td>\n",
              "      <td>0</td>\n",
              "      <td>0</td>\n",
              "      <td>0</td>\n",
              "      <td>0</td>\n",
              "      <td>0</td>\n",
              "      <td>1</td>\n",
              "      <td>0</td>\n",
              "      <td>0</td>\n",
              "      <td>0</td>\n",
              "      <td>0</td>\n",
              "      <td>0</td>\n",
              "      <td>0</td>\n",
              "      <td>0</td>\n",
              "      <td>0</td>\n",
              "      <td>0</td>\n",
              "      <td>0</td>\n",
              "      <td>0</td>\n",
              "      <td>0</td>\n",
              "      <td>0</td>\n",
              "      <td>0</td>\n",
              "      <td>0</td>\n",
              "      <td>0</td>\n",
              "      <td>0</td>\n",
              "      <td>0</td>\n",
              "      <td>0</td>\n",
              "    </tr>\n",
              "  </tbody>\n",
              "</table>\n",
              "</div>"
            ],
            "text/plain": [
              "   IDpol  ClaimNb  ...  Region_Provence-Alpes-Cotes-D'Azur  Region_Rhone-Alpes\n",
              "0    1.0        1  ...                                   0                   1\n",
              "1    3.0        1  ...                                   0                   1\n",
              "2    5.0        1  ...                                   0                   0\n",
              "3   10.0        1  ...                                   0                   0\n",
              "4   11.0        1  ...                                   0                   0\n",
              "\n",
              "[5 rows x 40 columns]"
            ]
          },
          "metadata": {
            "tags": []
          },
          "execution_count": 37
        }
      ]
    },
    {
      "cell_type": "code",
      "metadata": {
        "colab": {
          "base_uri": "https://localhost:8080/"
        },
        "id": "sC-n1vFrahqE",
        "outputId": "60c1a789-bd04-4489-ccfc-c32b8f6a9090"
      },
      "source": [
        "claim.info()"
      ],
      "execution_count": 38,
      "outputs": [
        {
          "output_type": "stream",
          "text": [
            "<class 'pandas.core.frame.DataFrame'>\n",
            "RangeIndex: 678013 entries, 0 to 678012\n",
            "Data columns (total 40 columns):\n",
            " #   Column                              Non-Null Count   Dtype  \n",
            "---  ------                              --------------   -----  \n",
            " 0   IDpol                               678013 non-null  float64\n",
            " 1   ClaimNb                             678013 non-null  int64  \n",
            " 2   Exposure                            678013 non-null  float64\n",
            " 3   VehPower                            678013 non-null  float64\n",
            " 4   VehAge                              678013 non-null  float64\n",
            " 5   DrivAge                             678013 non-null  float64\n",
            " 6   BonusMalus                          678013 non-null  float64\n",
            " 7   VehGas                              678013 non-null  float64\n",
            " 8   Area                                678013 non-null  float64\n",
            " 9   Density                             678013 non-null  float64\n",
            " 10  VehBrand_B10                        678013 non-null  uint8  \n",
            " 11  VehBrand_B11                        678013 non-null  uint8  \n",
            " 12  VehBrand_B12                        678013 non-null  uint8  \n",
            " 13  VehBrand_B13                        678013 non-null  uint8  \n",
            " 14  VehBrand_B14                        678013 non-null  uint8  \n",
            " 15  VehBrand_B2                         678013 non-null  uint8  \n",
            " 16  VehBrand_B3                         678013 non-null  uint8  \n",
            " 17  VehBrand_B4                         678013 non-null  uint8  \n",
            " 18  VehBrand_B5                         678013 non-null  uint8  \n",
            " 19  VehBrand_B6                         678013 non-null  uint8  \n",
            " 20  Region_Aquitaine                    678013 non-null  uint8  \n",
            " 21  Region_Auvergne                     678013 non-null  uint8  \n",
            " 22  Region_Basse-Normandie              678013 non-null  uint8  \n",
            " 23  Region_Bourgogne                    678013 non-null  uint8  \n",
            " 24  Region_Bretagne                     678013 non-null  uint8  \n",
            " 25  Region_Centre                       678013 non-null  uint8  \n",
            " 26  Region_Champagne-Ardenne            678013 non-null  uint8  \n",
            " 27  Region_Corse                        678013 non-null  uint8  \n",
            " 28  Region_Franche-Comte                678013 non-null  uint8  \n",
            " 29  Region_Haute-Normandie              678013 non-null  uint8  \n",
            " 30  Region_Ile-de-France                678013 non-null  uint8  \n",
            " 31  Region_Languedoc-Roussillon         678013 non-null  uint8  \n",
            " 32  Region_Limousin                     678013 non-null  uint8  \n",
            " 33  Region_Midi-Pyrenees                678013 non-null  uint8  \n",
            " 34  Region_Nord-Pas-de-Calais           678013 non-null  uint8  \n",
            " 35  Region_Pays-de-la-Loire             678013 non-null  uint8  \n",
            " 36  Region_Picardie                     678013 non-null  uint8  \n",
            " 37  Region_Poitou-Charentes             678013 non-null  uint8  \n",
            " 38  Region_Provence-Alpes-Cotes-D'Azur  678013 non-null  uint8  \n",
            " 39  Region_Rhone-Alpes                  678013 non-null  uint8  \n",
            "dtypes: float64(9), int64(1), uint8(30)\n",
            "memory usage: 71.1 MB\n"
          ],
          "name": "stdout"
        }
      ]
    },
    {
      "cell_type": "code",
      "metadata": {
        "id": "DCZOz-sUcDYW",
        "colab": {
          "base_uri": "https://localhost:8080/",
          "height": 303
        },
        "outputId": "b4960961-1781-4ecf-f3cb-d96a71e5664c"
      },
      "source": [
        "claim.to_csv('/content/drive/MyDrive/data/scaled.csv')"
      ],
      "execution_count": 39,
      "outputs": [
        {
          "output_type": "error",
          "ename": "KeyboardInterrupt",
          "evalue": "ignored",
          "traceback": [
            "\u001b[0;31m---------------------------------------------------------------------------\u001b[0m",
            "\u001b[0;31mKeyboardInterrupt\u001b[0m                         Traceback (most recent call last)",
            "\u001b[0;32m<ipython-input-39-8d2cd02971ae>\u001b[0m in \u001b[0;36m<module>\u001b[0;34m()\u001b[0m\n\u001b[0;32m----> 1\u001b[0;31m \u001b[0mclaim\u001b[0m\u001b[0;34m.\u001b[0m\u001b[0mto_csv\u001b[0m\u001b[0;34m(\u001b[0m\u001b[0;34m'/content/drive/MyDrive/data/scaled.csv'\u001b[0m\u001b[0;34m)\u001b[0m\u001b[0;34m\u001b[0m\u001b[0;34m\u001b[0m\u001b[0m\n\u001b[0m",
            "\u001b[0;32m/usr/local/lib/python3.7/dist-packages/pandas/core/generic.py\u001b[0m in \u001b[0;36mto_csv\u001b[0;34m(self, path_or_buf, sep, na_rep, float_format, columns, header, index, index_label, mode, encoding, compression, quoting, quotechar, line_terminator, chunksize, date_format, doublequote, escapechar, decimal, errors)\u001b[0m\n\u001b[1;32m   3168\u001b[0m             \u001b[0mdecimal\u001b[0m\u001b[0;34m=\u001b[0m\u001b[0mdecimal\u001b[0m\u001b[0;34m,\u001b[0m\u001b[0;34m\u001b[0m\u001b[0;34m\u001b[0m\u001b[0m\n\u001b[1;32m   3169\u001b[0m         )\n\u001b[0;32m-> 3170\u001b[0;31m         \u001b[0mformatter\u001b[0m\u001b[0;34m.\u001b[0m\u001b[0msave\u001b[0m\u001b[0;34m(\u001b[0m\u001b[0;34m)\u001b[0m\u001b[0;34m\u001b[0m\u001b[0;34m\u001b[0m\u001b[0m\n\u001b[0m\u001b[1;32m   3171\u001b[0m \u001b[0;34m\u001b[0m\u001b[0m\n\u001b[1;32m   3172\u001b[0m         \u001b[0;32mif\u001b[0m \u001b[0mpath_or_buf\u001b[0m \u001b[0;32mis\u001b[0m \u001b[0;32mNone\u001b[0m\u001b[0;34m:\u001b[0m\u001b[0;34m\u001b[0m\u001b[0;34m\u001b[0m\u001b[0m\n",
            "\u001b[0;32m/usr/local/lib/python3.7/dist-packages/pandas/io/formats/csvs.py\u001b[0m in \u001b[0;36msave\u001b[0;34m(self)\u001b[0m\n\u001b[1;32m    204\u001b[0m             )\n\u001b[1;32m    205\u001b[0m \u001b[0;34m\u001b[0m\u001b[0m\n\u001b[0;32m--> 206\u001b[0;31m             \u001b[0mself\u001b[0m\u001b[0;34m.\u001b[0m\u001b[0m_save\u001b[0m\u001b[0;34m(\u001b[0m\u001b[0;34m)\u001b[0m\u001b[0;34m\u001b[0m\u001b[0;34m\u001b[0m\u001b[0m\n\u001b[0m\u001b[1;32m    207\u001b[0m \u001b[0;34m\u001b[0m\u001b[0m\n\u001b[1;32m    208\u001b[0m         \u001b[0;32mfinally\u001b[0m\u001b[0;34m:\u001b[0m\u001b[0;34m\u001b[0m\u001b[0;34m\u001b[0m\u001b[0m\n",
            "\u001b[0;32m/usr/local/lib/python3.7/dist-packages/pandas/io/formats/csvs.py\u001b[0m in \u001b[0;36m_save\u001b[0;34m(self)\u001b[0m\n\u001b[1;32m    326\u001b[0m                 \u001b[0;32mbreak\u001b[0m\u001b[0;34m\u001b[0m\u001b[0;34m\u001b[0m\u001b[0m\n\u001b[1;32m    327\u001b[0m \u001b[0;34m\u001b[0m\u001b[0m\n\u001b[0;32m--> 328\u001b[0;31m             \u001b[0mself\u001b[0m\u001b[0;34m.\u001b[0m\u001b[0m_save_chunk\u001b[0m\u001b[0;34m(\u001b[0m\u001b[0mstart_i\u001b[0m\u001b[0;34m,\u001b[0m \u001b[0mend_i\u001b[0m\u001b[0;34m)\u001b[0m\u001b[0;34m\u001b[0m\u001b[0;34m\u001b[0m\u001b[0m\n\u001b[0m\u001b[1;32m    329\u001b[0m \u001b[0;34m\u001b[0m\u001b[0m\n\u001b[1;32m    330\u001b[0m     \u001b[0;32mdef\u001b[0m \u001b[0m_save_chunk\u001b[0m\u001b[0;34m(\u001b[0m\u001b[0mself\u001b[0m\u001b[0;34m,\u001b[0m \u001b[0mstart_i\u001b[0m\u001b[0;34m:\u001b[0m \u001b[0mint\u001b[0m\u001b[0;34m,\u001b[0m \u001b[0mend_i\u001b[0m\u001b[0;34m:\u001b[0m \u001b[0mint\u001b[0m\u001b[0;34m)\u001b[0m \u001b[0;34m->\u001b[0m \u001b[0;32mNone\u001b[0m\u001b[0;34m:\u001b[0m\u001b[0;34m\u001b[0m\u001b[0;34m\u001b[0m\u001b[0m\n",
            "\u001b[0;32m/usr/local/lib/python3.7/dist-packages/pandas/io/formats/csvs.py\u001b[0m in \u001b[0;36m_save_chunk\u001b[0;34m(self, start_i, end_i)\u001b[0m\n\u001b[1;32m    360\u001b[0m         )\n\u001b[1;32m    361\u001b[0m \u001b[0;34m\u001b[0m\u001b[0m\n\u001b[0;32m--> 362\u001b[0;31m         \u001b[0mlibwriters\u001b[0m\u001b[0;34m.\u001b[0m\u001b[0mwrite_csv_rows\u001b[0m\u001b[0;34m(\u001b[0m\u001b[0mself\u001b[0m\u001b[0;34m.\u001b[0m\u001b[0mdata\u001b[0m\u001b[0;34m,\u001b[0m \u001b[0mix\u001b[0m\u001b[0;34m,\u001b[0m \u001b[0mself\u001b[0m\u001b[0;34m.\u001b[0m\u001b[0mnlevels\u001b[0m\u001b[0;34m,\u001b[0m \u001b[0mself\u001b[0m\u001b[0;34m.\u001b[0m\u001b[0mcols\u001b[0m\u001b[0;34m,\u001b[0m \u001b[0mself\u001b[0m\u001b[0;34m.\u001b[0m\u001b[0mwriter\u001b[0m\u001b[0;34m)\u001b[0m\u001b[0;34m\u001b[0m\u001b[0;34m\u001b[0m\u001b[0m\n\u001b[0m",
            "\u001b[0;32mpandas/_libs/writers.pyx\u001b[0m in \u001b[0;36mpandas._libs.writers.write_csv_rows\u001b[0;34m()\u001b[0m\n",
            "\u001b[0;31mKeyboardInterrupt\u001b[0m: "
          ]
        }
      ]
    },
    {
      "cell_type": "code",
      "metadata": {
        "id": "moypCUblnCXe"
      },
      "source": [
        ""
      ],
      "execution_count": null,
      "outputs": []
    }
  ]
}