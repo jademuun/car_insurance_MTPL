{
  "nbformat": 4,
  "nbformat_minor": 0,
  "metadata": {
    "colab": {
      "name": "preprocessing.ipynb",
      "provenance": [],
      "collapsed_sections": [
        "kIBgS40qZGaJ"
      ],
      "machine_shape": "hm",
      "include_colab_link": true
    },
    "kernelspec": {
      "display_name": "Python 3",
      "name": "python3"
    },
    "language_info": {
      "name": "python"
    }
  },
  "cells": [
    {
      "cell_type": "markdown",
      "metadata": {
        "id": "view-in-github",
        "colab_type": "text"
      },
      "source": [
        "<a href=\"https://colab.research.google.com/github/jademuun/car_insurance_MTPL/blob/master/preprocessing.ipynb\" target=\"_parent\"><img src=\"https://colab.research.google.com/assets/colab-badge.svg\" alt=\"Open In Colab\"/></a>"
      ]
    },
    {
      "cell_type": "code",
      "metadata": {
        "colab": {
          "base_uri": "https://localhost:8080/"
        },
        "id": "Z0a33iiGmrsK",
        "outputId": "e7959a9d-3161-4f3e-cd7f-3dec8898eb40"
      },
      "source": [
        "!python3 --version"
      ],
      "execution_count": null,
      "outputs": [
        {
          "output_type": "stream",
          "text": [
            "Python 3.7.10\n"
          ],
          "name": "stdout"
        }
      ]
    },
    {
      "cell_type": "markdown",
      "metadata": {
        "id": "cOI4467zFF-4"
      },
      "source": [
        "# Libraries"
      ]
    },
    {
      "cell_type": "code",
      "metadata": {
        "id": "JDqgdAwsN7Ym"
      },
      "source": [
        "\n",
        "import pandas as pd\n",
        "import numpy as np\n",
        "import matplotlib.pyplot as plt \n",
        "import seaborn as sns\n",
        "from seaborn import countplot\n",
        "from matplotlib.pyplot import figure, show\n",
        "import timeit\n",
        "\n",
        "from sklearn.pipeline import Pipeline\n",
        "from sklearn.dummy import DummyClassifier\n",
        "from sklearn.metrics import f1_score\n",
        "from sklearn.metrics import confusion_matrix, plot_confusion_matrix, r2_score\n",
        "\n",
        "from sklearn.preprocessing import OneHotEncoder, OrdinalEncoder, LabelEncoder\n",
        "from sklearn.preprocessing import StandardScaler, MinMaxScaler\n",
        "from sklearn.decomposition import PCA\n",
        "from sklearn.model_selection import train_test_split\n",
        "from sklearn.model_selection import KFold, StratifiedKFold\n",
        "\n",
        "import tensorflow as tf\n",
        "from tensorflow import keras\n",
        "from tensorflow.keras import layers\n",
        "from keras.layers import Dense\n",
        "from tensorflow.keras.layers.experimental import preprocessing\n",
        "from keras import backend as K\n",
        "\n",
        "import probflow as pf\n"
      ],
      "execution_count": 125,
      "outputs": []
    },
    {
      "cell_type": "code",
      "metadata": {
        "colab": {
          "base_uri": "https://localhost:8080/"
        },
        "id": "sHA-eyRW4PPP",
        "outputId": "b31ef695-9525-4025-db14-13c40d1c30d4"
      },
      "source": [
        "from google.colab import drive\n",
        "drive.mount('/content/drive')"
      ],
      "execution_count": 6,
      "outputs": [
        {
          "output_type": "stream",
          "text": [
            "Mounted at /content/drive\n"
          ],
          "name": "stdout"
        }
      ]
    },
    {
      "cell_type": "markdown",
      "metadata": {
        "id": "sSV88mBGoZUa"
      },
      "source": [
        "# Data load and preprocessing"
      ]
    },
    {
      "cell_type": "code",
      "metadata": {
        "id": "-cj39Sj6FODV"
      },
      "source": [
        "# data can be downloaded from\n",
        "# however they are not in good format as delimiter is chosen badly\n",
        "# people from Masaryk Uni can access the dataset via \n",
        "#https://drive.google.com/file/d/19eCVbFxIbs6uwe7w5MPsdcYNh0uILPfJ/view?usp=sharing\n",
        "claim = pd.read_csv('/content/drive/MyDrive/data/freMTPL2freq.csv')\n",
        "claim = claim.drop(claim.columns[0], axis = 1)"
      ],
      "execution_count": 126,
      "outputs": []
    },
    {
      "cell_type": "code",
      "metadata": {
        "colab": {
          "base_uri": "https://localhost:8080/",
          "height": 195
        },
        "id": "lFmsKjhIPb2J",
        "outputId": "b78a0b40-37d0-4577-b9b7-2868e6cae700"
      },
      "source": [
        "claim.head()"
      ],
      "execution_count": 127,
      "outputs": [
        {
          "output_type": "execute_result",
          "data": {
            "text/html": [
              "<div>\n",
              "<style scoped>\n",
              "    .dataframe tbody tr th:only-of-type {\n",
              "        vertical-align: middle;\n",
              "    }\n",
              "\n",
              "    .dataframe tbody tr th {\n",
              "        vertical-align: top;\n",
              "    }\n",
              "\n",
              "    .dataframe thead th {\n",
              "        text-align: right;\n",
              "    }\n",
              "</style>\n",
              "<table border=\"1\" class=\"dataframe\">\n",
              "  <thead>\n",
              "    <tr style=\"text-align: right;\">\n",
              "      <th></th>\n",
              "      <th>IDpol</th>\n",
              "      <th>ClaimNb</th>\n",
              "      <th>Exposure</th>\n",
              "      <th>VehPower</th>\n",
              "      <th>VehAge</th>\n",
              "      <th>DrivAge</th>\n",
              "      <th>BonusMalus</th>\n",
              "      <th>VehBrand</th>\n",
              "      <th>VehGas</th>\n",
              "      <th>Area</th>\n",
              "      <th>Density</th>\n",
              "      <th>Region</th>\n",
              "    </tr>\n",
              "  </thead>\n",
              "  <tbody>\n",
              "    <tr>\n",
              "      <th>0</th>\n",
              "      <td>1.0</td>\n",
              "      <td>1</td>\n",
              "      <td>0.10</td>\n",
              "      <td>5</td>\n",
              "      <td>0</td>\n",
              "      <td>55</td>\n",
              "      <td>50</td>\n",
              "      <td>B12</td>\n",
              "      <td>Regular</td>\n",
              "      <td>D</td>\n",
              "      <td>1217</td>\n",
              "      <td>Rhone-Alpes</td>\n",
              "    </tr>\n",
              "    <tr>\n",
              "      <th>1</th>\n",
              "      <td>3.0</td>\n",
              "      <td>1</td>\n",
              "      <td>0.77</td>\n",
              "      <td>5</td>\n",
              "      <td>0</td>\n",
              "      <td>55</td>\n",
              "      <td>50</td>\n",
              "      <td>B12</td>\n",
              "      <td>Regular</td>\n",
              "      <td>D</td>\n",
              "      <td>1217</td>\n",
              "      <td>Rhone-Alpes</td>\n",
              "    </tr>\n",
              "    <tr>\n",
              "      <th>2</th>\n",
              "      <td>5.0</td>\n",
              "      <td>1</td>\n",
              "      <td>0.75</td>\n",
              "      <td>6</td>\n",
              "      <td>2</td>\n",
              "      <td>52</td>\n",
              "      <td>50</td>\n",
              "      <td>B12</td>\n",
              "      <td>Diesel</td>\n",
              "      <td>B</td>\n",
              "      <td>54</td>\n",
              "      <td>Picardie</td>\n",
              "    </tr>\n",
              "    <tr>\n",
              "      <th>3</th>\n",
              "      <td>10.0</td>\n",
              "      <td>1</td>\n",
              "      <td>0.09</td>\n",
              "      <td>7</td>\n",
              "      <td>0</td>\n",
              "      <td>46</td>\n",
              "      <td>50</td>\n",
              "      <td>B12</td>\n",
              "      <td>Diesel</td>\n",
              "      <td>B</td>\n",
              "      <td>76</td>\n",
              "      <td>Aquitaine</td>\n",
              "    </tr>\n",
              "    <tr>\n",
              "      <th>4</th>\n",
              "      <td>11.0</td>\n",
              "      <td>1</td>\n",
              "      <td>0.84</td>\n",
              "      <td>7</td>\n",
              "      <td>0</td>\n",
              "      <td>46</td>\n",
              "      <td>50</td>\n",
              "      <td>B12</td>\n",
              "      <td>Diesel</td>\n",
              "      <td>B</td>\n",
              "      <td>76</td>\n",
              "      <td>Aquitaine</td>\n",
              "    </tr>\n",
              "  </tbody>\n",
              "</table>\n",
              "</div>"
            ],
            "text/plain": [
              "   IDpol  ClaimNb  Exposure  VehPower  ...   VehGas  Area  Density       Region\n",
              "0    1.0        1      0.10         5  ...  Regular     D     1217  Rhone-Alpes\n",
              "1    3.0        1      0.77         5  ...  Regular     D     1217  Rhone-Alpes\n",
              "2    5.0        1      0.75         6  ...   Diesel     B       54     Picardie\n",
              "3   10.0        1      0.09         7  ...   Diesel     B       76    Aquitaine\n",
              "4   11.0        1      0.84         7  ...   Diesel     B       76    Aquitaine\n",
              "\n",
              "[5 rows x 12 columns]"
            ]
          },
          "metadata": {
            "tags": []
          },
          "execution_count": 127
        }
      ]
    },
    {
      "cell_type": "code",
      "metadata": {
        "colab": {
          "base_uri": "https://localhost:8080/"
        },
        "id": "X_RiEe70is8h",
        "outputId": "d0922a38-4f9c-4772-9a3e-98b56f3c8cfc"
      },
      "source": [
        "claim.shape"
      ],
      "execution_count": 128,
      "outputs": [
        {
          "output_type": "execute_result",
          "data": {
            "text/plain": [
              "(678013, 12)"
            ]
          },
          "metadata": {
            "tags": []
          },
          "execution_count": 128
        }
      ]
    },
    {
      "cell_type": "code",
      "metadata": {
        "colab": {
          "base_uri": "https://localhost:8080/"
        },
        "id": "5PBaTUnkjjIW",
        "outputId": "3948e9c7-41ec-4d22-b6a2-c890d5348c78"
      },
      "source": [
        "claim.info()"
      ],
      "execution_count": 129,
      "outputs": [
        {
          "output_type": "stream",
          "text": [
            "<class 'pandas.core.frame.DataFrame'>\n",
            "RangeIndex: 678013 entries, 0 to 678012\n",
            "Data columns (total 12 columns):\n",
            " #   Column      Non-Null Count   Dtype  \n",
            "---  ------      --------------   -----  \n",
            " 0   IDpol       678013 non-null  float64\n",
            " 1   ClaimNb     678013 non-null  int64  \n",
            " 2   Exposure    678013 non-null  float64\n",
            " 3   VehPower    678013 non-null  int64  \n",
            " 4   VehAge      678013 non-null  int64  \n",
            " 5   DrivAge     678013 non-null  int64  \n",
            " 6   BonusMalus  678013 non-null  int64  \n",
            " 7   VehBrand    678013 non-null  object \n",
            " 8   VehGas      678013 non-null  object \n",
            " 9   Area        678013 non-null  object \n",
            " 10  Density     678013 non-null  int64  \n",
            " 11  Region      678013 non-null  object \n",
            "dtypes: float64(2), int64(6), object(4)\n",
            "memory usage: 62.1+ MB\n"
          ],
          "name": "stdout"
        }
      ]
    },
    {
      "cell_type": "code",
      "metadata": {
        "id": "tZABGip3ocm3"
      },
      "source": [
        "# obect columns are not good for model training, so we change their\n",
        "# datatype to category\n",
        "numerics_cols = ['int64', 'float64']\n",
        "object_cols = claim.select_dtypes(\"object\").columns  # select object columns\n",
        "claim[object_cols] = claim[object_cols].astype('category')\n"
      ],
      "execution_count": 130,
      "outputs": []
    },
    {
      "cell_type": "code",
      "metadata": {
        "colab": {
          "base_uri": "https://localhost:8080/"
        },
        "id": "Rz95FWamoqJa",
        "outputId": "72bf6093-0cc9-4574-bb0b-f4e9d463b01f"
      },
      "source": [
        "claim.info()"
      ],
      "execution_count": 131,
      "outputs": [
        {
          "output_type": "stream",
          "text": [
            "<class 'pandas.core.frame.DataFrame'>\n",
            "RangeIndex: 678013 entries, 0 to 678012\n",
            "Data columns (total 12 columns):\n",
            " #   Column      Non-Null Count   Dtype   \n",
            "---  ------      --------------   -----   \n",
            " 0   IDpol       678013 non-null  float64 \n",
            " 1   ClaimNb     678013 non-null  int64   \n",
            " 2   Exposure    678013 non-null  float64 \n",
            " 3   VehPower    678013 non-null  int64   \n",
            " 4   VehAge      678013 non-null  int64   \n",
            " 5   DrivAge     678013 non-null  int64   \n",
            " 6   BonusMalus  678013 non-null  int64   \n",
            " 7   VehBrand    678013 non-null  category\n",
            " 8   VehGas      678013 non-null  category\n",
            " 9   Area        678013 non-null  category\n",
            " 10  Density     678013 non-null  int64   \n",
            " 11  Region      678013 non-null  category\n",
            "dtypes: category(4), float64(2), int64(6)\n",
            "memory usage: 44.0 MB\n"
          ],
          "name": "stdout"
        }
      ]
    },
    {
      "cell_type": "code",
      "metadata": {
        "colab": {
          "base_uri": "https://localhost:8080/",
          "height": 195
        },
        "id": "R5f8qRcJ9Psq",
        "outputId": "174b0356-1270-4c27-adb2-e93b8f466e07"
      },
      "source": [
        "# drop index number\n",
        "claim = claim.drop(['IDpol'], axis = 1)\n",
        "# x is dataset of all 8 features, first column is target while second is\n",
        "# time exposure - offset \n",
        "claim.head()"
      ],
      "execution_count": 132,
      "outputs": [
        {
          "output_type": "execute_result",
          "data": {
            "text/html": [
              "<div>\n",
              "<style scoped>\n",
              "    .dataframe tbody tr th:only-of-type {\n",
              "        vertical-align: middle;\n",
              "    }\n",
              "\n",
              "    .dataframe tbody tr th {\n",
              "        vertical-align: top;\n",
              "    }\n",
              "\n",
              "    .dataframe thead th {\n",
              "        text-align: right;\n",
              "    }\n",
              "</style>\n",
              "<table border=\"1\" class=\"dataframe\">\n",
              "  <thead>\n",
              "    <tr style=\"text-align: right;\">\n",
              "      <th></th>\n",
              "      <th>ClaimNb</th>\n",
              "      <th>Exposure</th>\n",
              "      <th>VehPower</th>\n",
              "      <th>VehAge</th>\n",
              "      <th>DrivAge</th>\n",
              "      <th>BonusMalus</th>\n",
              "      <th>VehBrand</th>\n",
              "      <th>VehGas</th>\n",
              "      <th>Area</th>\n",
              "      <th>Density</th>\n",
              "      <th>Region</th>\n",
              "    </tr>\n",
              "  </thead>\n",
              "  <tbody>\n",
              "    <tr>\n",
              "      <th>0</th>\n",
              "      <td>1</td>\n",
              "      <td>0.10</td>\n",
              "      <td>5</td>\n",
              "      <td>0</td>\n",
              "      <td>55</td>\n",
              "      <td>50</td>\n",
              "      <td>B12</td>\n",
              "      <td>Regular</td>\n",
              "      <td>D</td>\n",
              "      <td>1217</td>\n",
              "      <td>Rhone-Alpes</td>\n",
              "    </tr>\n",
              "    <tr>\n",
              "      <th>1</th>\n",
              "      <td>1</td>\n",
              "      <td>0.77</td>\n",
              "      <td>5</td>\n",
              "      <td>0</td>\n",
              "      <td>55</td>\n",
              "      <td>50</td>\n",
              "      <td>B12</td>\n",
              "      <td>Regular</td>\n",
              "      <td>D</td>\n",
              "      <td>1217</td>\n",
              "      <td>Rhone-Alpes</td>\n",
              "    </tr>\n",
              "    <tr>\n",
              "      <th>2</th>\n",
              "      <td>1</td>\n",
              "      <td>0.75</td>\n",
              "      <td>6</td>\n",
              "      <td>2</td>\n",
              "      <td>52</td>\n",
              "      <td>50</td>\n",
              "      <td>B12</td>\n",
              "      <td>Diesel</td>\n",
              "      <td>B</td>\n",
              "      <td>54</td>\n",
              "      <td>Picardie</td>\n",
              "    </tr>\n",
              "    <tr>\n",
              "      <th>3</th>\n",
              "      <td>1</td>\n",
              "      <td>0.09</td>\n",
              "      <td>7</td>\n",
              "      <td>0</td>\n",
              "      <td>46</td>\n",
              "      <td>50</td>\n",
              "      <td>B12</td>\n",
              "      <td>Diesel</td>\n",
              "      <td>B</td>\n",
              "      <td>76</td>\n",
              "      <td>Aquitaine</td>\n",
              "    </tr>\n",
              "    <tr>\n",
              "      <th>4</th>\n",
              "      <td>1</td>\n",
              "      <td>0.84</td>\n",
              "      <td>7</td>\n",
              "      <td>0</td>\n",
              "      <td>46</td>\n",
              "      <td>50</td>\n",
              "      <td>B12</td>\n",
              "      <td>Diesel</td>\n",
              "      <td>B</td>\n",
              "      <td>76</td>\n",
              "      <td>Aquitaine</td>\n",
              "    </tr>\n",
              "  </tbody>\n",
              "</table>\n",
              "</div>"
            ],
            "text/plain": [
              "   ClaimNb  Exposure  VehPower  VehAge  ...   VehGas  Area Density       Region\n",
              "0        1      0.10         5       0  ...  Regular     D    1217  Rhone-Alpes\n",
              "1        1      0.77         5       0  ...  Regular     D    1217  Rhone-Alpes\n",
              "2        1      0.75         6       2  ...   Diesel     B      54     Picardie\n",
              "3        1      0.09         7       0  ...   Diesel     B      76    Aquitaine\n",
              "4        1      0.84         7       0  ...   Diesel     B      76    Aquitaine\n",
              "\n",
              "[5 rows x 11 columns]"
            ]
          },
          "metadata": {
            "tags": []
          },
          "execution_count": 132
        }
      ]
    },
    {
      "cell_type": "code",
      "metadata": {
        "colab": {
          "base_uri": "https://localhost:8080/",
          "height": 284
        },
        "id": "9UQHjJGisjzx",
        "outputId": "5be970fd-18df-4f28-bd02-e6e34fac631d"
      },
      "source": [
        "# numerical characteristics of dataset\n",
        "claim.describe(exclude='category')"
      ],
      "execution_count": 134,
      "outputs": [
        {
          "output_type": "execute_result",
          "data": {
            "text/html": [
              "<div>\n",
              "<style scoped>\n",
              "    .dataframe tbody tr th:only-of-type {\n",
              "        vertical-align: middle;\n",
              "    }\n",
              "\n",
              "    .dataframe tbody tr th {\n",
              "        vertical-align: top;\n",
              "    }\n",
              "\n",
              "    .dataframe thead th {\n",
              "        text-align: right;\n",
              "    }\n",
              "</style>\n",
              "<table border=\"1\" class=\"dataframe\">\n",
              "  <thead>\n",
              "    <tr style=\"text-align: right;\">\n",
              "      <th></th>\n",
              "      <th>ClaimNb</th>\n",
              "      <th>Exposure</th>\n",
              "      <th>VehPower</th>\n",
              "      <th>VehAge</th>\n",
              "      <th>DrivAge</th>\n",
              "      <th>BonusMalus</th>\n",
              "      <th>Density</th>\n",
              "    </tr>\n",
              "  </thead>\n",
              "  <tbody>\n",
              "    <tr>\n",
              "      <th>count</th>\n",
              "      <td>678013.000000</td>\n",
              "      <td>678013.000000</td>\n",
              "      <td>678013.000000</td>\n",
              "      <td>678013.000000</td>\n",
              "      <td>678013.000000</td>\n",
              "      <td>678013.000000</td>\n",
              "      <td>678013.000000</td>\n",
              "    </tr>\n",
              "    <tr>\n",
              "      <th>mean</th>\n",
              "      <td>0.053247</td>\n",
              "      <td>0.528750</td>\n",
              "      <td>6.454631</td>\n",
              "      <td>7.044265</td>\n",
              "      <td>45.499122</td>\n",
              "      <td>59.761502</td>\n",
              "      <td>1792.422405</td>\n",
              "    </tr>\n",
              "    <tr>\n",
              "      <th>std</th>\n",
              "      <td>0.240117</td>\n",
              "      <td>0.364442</td>\n",
              "      <td>2.050906</td>\n",
              "      <td>5.666232</td>\n",
              "      <td>14.137444</td>\n",
              "      <td>15.636658</td>\n",
              "      <td>3958.646564</td>\n",
              "    </tr>\n",
              "    <tr>\n",
              "      <th>min</th>\n",
              "      <td>0.000000</td>\n",
              "      <td>0.002732</td>\n",
              "      <td>4.000000</td>\n",
              "      <td>0.000000</td>\n",
              "      <td>18.000000</td>\n",
              "      <td>50.000000</td>\n",
              "      <td>1.000000</td>\n",
              "    </tr>\n",
              "    <tr>\n",
              "      <th>25%</th>\n",
              "      <td>0.000000</td>\n",
              "      <td>0.180000</td>\n",
              "      <td>5.000000</td>\n",
              "      <td>2.000000</td>\n",
              "      <td>34.000000</td>\n",
              "      <td>50.000000</td>\n",
              "      <td>92.000000</td>\n",
              "    </tr>\n",
              "    <tr>\n",
              "      <th>50%</th>\n",
              "      <td>0.000000</td>\n",
              "      <td>0.490000</td>\n",
              "      <td>6.000000</td>\n",
              "      <td>6.000000</td>\n",
              "      <td>44.000000</td>\n",
              "      <td>50.000000</td>\n",
              "      <td>393.000000</td>\n",
              "    </tr>\n",
              "    <tr>\n",
              "      <th>75%</th>\n",
              "      <td>0.000000</td>\n",
              "      <td>0.990000</td>\n",
              "      <td>7.000000</td>\n",
              "      <td>11.000000</td>\n",
              "      <td>55.000000</td>\n",
              "      <td>64.000000</td>\n",
              "      <td>1658.000000</td>\n",
              "    </tr>\n",
              "    <tr>\n",
              "      <th>max</th>\n",
              "      <td>16.000000</td>\n",
              "      <td>2.010000</td>\n",
              "      <td>15.000000</td>\n",
              "      <td>100.000000</td>\n",
              "      <td>100.000000</td>\n",
              "      <td>230.000000</td>\n",
              "      <td>27000.000000</td>\n",
              "    </tr>\n",
              "  </tbody>\n",
              "</table>\n",
              "</div>"
            ],
            "text/plain": [
              "             ClaimNb       Exposure  ...     BonusMalus        Density\n",
              "count  678013.000000  678013.000000  ...  678013.000000  678013.000000\n",
              "mean        0.053247       0.528750  ...      59.761502    1792.422405\n",
              "std         0.240117       0.364442  ...      15.636658    3958.646564\n",
              "min         0.000000       0.002732  ...      50.000000       1.000000\n",
              "25%         0.000000       0.180000  ...      50.000000      92.000000\n",
              "50%         0.000000       0.490000  ...      50.000000     393.000000\n",
              "75%         0.000000       0.990000  ...      64.000000    1658.000000\n",
              "max        16.000000       2.010000  ...     230.000000   27000.000000\n",
              "\n",
              "[8 rows x 7 columns]"
            ]
          },
          "metadata": {
            "tags": []
          },
          "execution_count": 134
        }
      ]
    },
    {
      "cell_type": "code",
      "metadata": {
        "colab": {
          "base_uri": "https://localhost:8080/",
          "height": 166
        },
        "id": "aIxDrgh4IS01",
        "outputId": "70c5d23d-d154-46dc-bc66-834747c9d17a"
      },
      "source": [
        "claim.describe(include='category')"
      ],
      "execution_count": 135,
      "outputs": [
        {
          "output_type": "execute_result",
          "data": {
            "text/html": [
              "<div>\n",
              "<style scoped>\n",
              "    .dataframe tbody tr th:only-of-type {\n",
              "        vertical-align: middle;\n",
              "    }\n",
              "\n",
              "    .dataframe tbody tr th {\n",
              "        vertical-align: top;\n",
              "    }\n",
              "\n",
              "    .dataframe thead th {\n",
              "        text-align: right;\n",
              "    }\n",
              "</style>\n",
              "<table border=\"1\" class=\"dataframe\">\n",
              "  <thead>\n",
              "    <tr style=\"text-align: right;\">\n",
              "      <th></th>\n",
              "      <th>VehBrand</th>\n",
              "      <th>VehGas</th>\n",
              "      <th>Area</th>\n",
              "      <th>Region</th>\n",
              "    </tr>\n",
              "  </thead>\n",
              "  <tbody>\n",
              "    <tr>\n",
              "      <th>count</th>\n",
              "      <td>678013</td>\n",
              "      <td>678013</td>\n",
              "      <td>678013</td>\n",
              "      <td>678013</td>\n",
              "    </tr>\n",
              "    <tr>\n",
              "      <th>unique</th>\n",
              "      <td>11</td>\n",
              "      <td>2</td>\n",
              "      <td>6</td>\n",
              "      <td>21</td>\n",
              "    </tr>\n",
              "    <tr>\n",
              "      <th>top</th>\n",
              "      <td>B12</td>\n",
              "      <td>Regular</td>\n",
              "      <td>C</td>\n",
              "      <td>Centre</td>\n",
              "    </tr>\n",
              "    <tr>\n",
              "      <th>freq</th>\n",
              "      <td>166024</td>\n",
              "      <td>345877</td>\n",
              "      <td>191880</td>\n",
              "      <td>160601</td>\n",
              "    </tr>\n",
              "  </tbody>\n",
              "</table>\n",
              "</div>"
            ],
            "text/plain": [
              "       VehBrand   VehGas    Area  Region\n",
              "count    678013   678013  678013  678013\n",
              "unique       11        2       6      21\n",
              "top         B12  Regular       C  Centre\n",
              "freq     166024   345877  191880  160601"
            ]
          },
          "metadata": {
            "tags": []
          },
          "execution_count": 135
        }
      ]
    },
    {
      "cell_type": "markdown",
      "metadata": {
        "id": "t6lVdazuwJ5q"
      },
      "source": [
        "Tu pojde tabulka so strany 2,\n",
        "pod nou dat coment ze proste 4 a viac dame do jednej kedze to je velmi malo pravdepodobne ze niekdeto mal tolko, tak to dame rovne 4\n",
        "\n"
      ]
    },
    {
      "cell_type": "code",
      "metadata": {
        "colab": {
          "base_uri": "https://localhost:8080/"
        },
        "id": "kCJGrrVPItqE",
        "outputId": "96a25886-3421-41df-8655-986781f64833"
      },
      "source": [
        "sum(claim.Exposure > 1)"
      ],
      "execution_count": 136,
      "outputs": [
        {
          "output_type": "execute_result",
          "data": {
            "text/plain": [
              "1224"
            ]
          },
          "metadata": {
            "tags": []
          },
          "execution_count": 136
        }
      ]
    },
    {
      "cell_type": "code",
      "metadata": {
        "colab": {
          "base_uri": "https://localhost:8080/"
        },
        "id": "UawsB5iWI8kh",
        "outputId": "fb92ba4e-3b5d-428c-e6fd-a1eeedc1bc4c"
      },
      "source": [
        "# the maximum observing time was one year, so, these must have been a mistake, we replace them with 1 as Wutrich\n",
        "claim.loc[claim.Exposure > 1,'Exposure'] = 1"
      ],
      "execution_count": 138,
      "outputs": [
        {
          "output_type": "execute_result",
          "data": {
            "text/plain": [
              "0"
            ]
          },
          "metadata": {
            "tags": []
          },
          "execution_count": 138
        }
      ]
    },
    {
      "cell_type": "code",
      "metadata": {
        "colab": {
          "base_uri": "https://localhost:8080/",
          "height": 302
        },
        "id": "2VM9lJmMGr9h",
        "outputId": "04518088-ad8a-4832-9f4b-f1bf77ec16a3"
      },
      "source": [
        "# boxplot for exposition period distribution\n",
        "sns.set_theme(style=\"whitegrid\")\n",
        "sns.boxplot(x = 'Exposure', data = claim)"
      ],
      "execution_count": 139,
      "outputs": [
        {
          "output_type": "execute_result",
          "data": {
            "text/plain": [
              "<matplotlib.axes._subplots.AxesSubplot at 0x7fbb1d496f10>"
            ]
          },
          "metadata": {
            "tags": []
          },
          "execution_count": 139
        },
        {
          "output_type": "display_data",
          "data": {
            "image/png": "[encoded data removed]",
            "text/plain": [
              "<Figure size 432x288 with 1 Axes>"
            ]
          },
          "metadata": {
            "tags": []
          }
        }
      ]
    },
    {
      "cell_type": "code",
      "metadata": {
        "colab": {
          "base_uri": "https://localhost:8080/",
          "height": 302
        },
        "id": "C5VGhQZxCcKa",
        "outputId": "3fabb0e0-1807-4489-a904-08176a82bd12"
      },
      "source": [
        "ax = sns.histplot(x = 'Exposure', data = claim)\n",
        "sns.set_theme(style=\"whitegrid\")\n",
        "ax.set_ylabel(\"Počet pozorovaní\")\n",
        "ax.set_xlabel(\"Exposure\")"
      ],
      "execution_count": 140,
      "outputs": [
        {
          "output_type": "execute_result",
          "data": {
            "text/plain": [
              "Text(0.5, 0, 'Exposure')"
            ]
          },
          "metadata": {
            "tags": []
          },
          "execution_count": 140
        },
        {
          "output_type": "display_data",
          "data": {
            "image/png": "[encoded data removed]",
            "text/plain": [
              "<Figure size 432x288 with 1 Axes>"
            ]
          },
          "metadata": {
            "tags": []
          }
        }
      ]
    },
    {
      "cell_type": "code",
      "metadata": {
        "id": "JFdogt52H_ks"
      },
      "source": [
        "# we dont expect more than 4 claims during a fiscal year\n",
        "claim.loc[claim.ClaimNb > 3, \"ClaimNb\"] = 4"
      ],
      "execution_count": 141,
      "outputs": []
    },
    {
      "cell_type": "code",
      "metadata": {
        "colab": {
          "base_uri": "https://localhost:8080/",
          "height": 194
        },
        "id": "AxgUsE3-C76k",
        "outputId": "eee2450f-f849-46e5-b156-49f2cdbbc495"
      },
      "source": [
        "# pie plot showing the distribution of claim counts\n",
        "\n",
        "fig, ax = plt.subplots(figsize=(6, 3), subplot_kw=dict(aspect=\"equal\"))\n",
        "dat = claim.ClaimNb.value_counts()\n",
        "\n",
        "def func(pct, allvals):\n",
        "    absolute = int(round(pct/100.*np.sum(allvals)))\n",
        "    return \"{:.1f}%\\n({:d} g)\".format(pct, absolute)\n",
        "\n",
        "\n",
        "wedges, autotexts = ax.pie(dat, startangle = 30, radius = 1.2, textprops=dict(color=\"w\"))\n",
        "\n",
        "ax.legend(wedges, ['0  -  94.977%','1  -  4.746%','2   -  0.263%','3  -  0.012%', '4  -  0.002%'],\n",
        "                    loc=\"lower left\",\n",
        "          bbox_to_anchor=(1, 0, 0.5, 1))\n",
        "\n",
        "plt.setp(autotexts, size=8, weight=\"bold\")\n",
        "\n",
        "plt.show()"
      ],
      "execution_count": 142,
      "outputs": [
        {
          "output_type": "display_data",
          "data": {
            "image/png": "[encoded data removed]",
            "text/plain": [
              "<Figure size 432x216 with 1 Axes>"
            ]
          },
          "metadata": {
            "tags": []
          }
        }
      ]
    },
    {
      "cell_type": "code",
      "metadata": {
        "colab": {
          "base_uri": "https://localhost:8080/",
          "height": 268
        },
        "id": "kkYmczHCERnk",
        "outputId": "ce7085da-c898-4007-e870-e19200b7e0d2"
      },
      "source": [
        "# Distribution of type of fuel\n",
        "ax = countplot(data=claim,x='VehGas')\n",
        "ax.set_xticklabels([\"diesel\",\"benzín\"])\n",
        "ax.set_ylabel(\"Počet pozorovaní\")\n",
        "ax.set_xlabel(\"\")\n",
        "\n",
        "show()"
      ],
      "execution_count": 143,
      "outputs": [
        {
          "output_type": "display_data",
          "data": {
            "image/png": "[encoded data removed]",
            "text/plain": [
              "<Figure size 432x288 with 1 Axes>"
            ]
          },
          "metadata": {
            "tags": []
          }
        }
      ]
    },
    {
      "cell_type": "code",
      "metadata": {
        "colab": {
          "base_uri": "https://localhost:8080/"
        },
        "id": "A2W6KHOHV7Bm",
        "outputId": "4bf69bb0-a7e2-45ad-90fa-64f539182a6c"
      },
      "source": [
        "claim.loc[claim.VehAge > 40, 'VehAge'].value_counts().sum()"
      ],
      "execution_count": 145,
      "outputs": [
        {
          "output_type": "execute_result",
          "data": {
            "text/plain": [
              "230"
            ]
          },
          "metadata": {
            "tags": []
          },
          "execution_count": 145
        }
      ]
    },
    {
      "cell_type": "code",
      "metadata": {
        "colab": {
          "base_uri": "https://localhost:8080/"
        },
        "id": "qCmRAEm4V8I7",
        "outputId": "cd353c24-b15d-4dc5-f3c7-1840dfdf6f40"
      },
      "source": [
        "claim.loc[claim.DrivAge > 90].value_counts().sum()"
      ],
      "execution_count": 146,
      "outputs": [
        {
          "output_type": "execute_result",
          "data": {
            "text/plain": [
              "401"
            ]
          },
          "metadata": {
            "tags": []
          },
          "execution_count": 146
        }
      ]
    },
    {
      "cell_type": "code",
      "metadata": {
        "colab": {
          "base_uri": "https://localhost:8080/"
        },
        "id": "Sfqkqs-1WH1M",
        "outputId": "88a85f38-b2a7-4046-bbd1-1cd0927a1529"
      },
      "source": [
        "claim.loc[claim.BonusMalus > 150].value_counts().sum()"
      ],
      "execution_count": 147,
      "outputs": [
        {
          "output_type": "execute_result",
          "data": {
            "text/plain": [
              "209"
            ]
          },
          "metadata": {
            "tags": []
          },
          "execution_count": 147
        }
      ]
    },
    {
      "cell_type": "code",
      "metadata": {
        "id": "MObyjVUXXVRL"
      },
      "source": [
        "claim = claim.loc[claim.VehAge < 40]\n",
        "claim = claim.loc[claim.DrivAge < 90]\n",
        "claim = claim.loc[claim.BonusMalus < 150]\n",
        "\n"
      ],
      "execution_count": 148,
      "outputs": []
    },
    {
      "cell_type": "code",
      "metadata": {
        "colab": {
          "base_uri": "https://localhost:8080/",
          "height": 254
        },
        "id": "wZIsDxj19EIv",
        "outputId": "ceaa95b1-eadd-43c8-c93b-1b45b69867fc"
      },
      "source": [
        "# correlation between numerical features\n",
        "claim.corr()"
      ],
      "execution_count": 79,
      "outputs": [
        {
          "output_type": "execute_result",
          "data": {
            "text/html": [
              "<div>\n",
              "<style scoped>\n",
              "    .dataframe tbody tr th:only-of-type {\n",
              "        vertical-align: middle;\n",
              "    }\n",
              "\n",
              "    .dataframe tbody tr th {\n",
              "        vertical-align: top;\n",
              "    }\n",
              "\n",
              "    .dataframe thead th {\n",
              "        text-align: right;\n",
              "    }\n",
              "</style>\n",
              "<table border=\"1\" class=\"dataframe\">\n",
              "  <thead>\n",
              "    <tr style=\"text-align: right;\">\n",
              "      <th></th>\n",
              "      <th>ClaimNb</th>\n",
              "      <th>Exposure</th>\n",
              "      <th>VehPower</th>\n",
              "      <th>VehAge</th>\n",
              "      <th>DrivAge</th>\n",
              "      <th>BonusMalus</th>\n",
              "      <th>Density</th>\n",
              "    </tr>\n",
              "  </thead>\n",
              "  <tbody>\n",
              "    <tr>\n",
              "      <th>ClaimNb</th>\n",
              "      <td>1.000000</td>\n",
              "      <td>0.069744</td>\n",
              "      <td>-0.003987</td>\n",
              "      <td>-0.022181</td>\n",
              "      <td>0.011312</td>\n",
              "      <td>0.051182</td>\n",
              "      <td>0.010924</td>\n",
              "    </tr>\n",
              "    <tr>\n",
              "      <th>Exposure</th>\n",
              "      <td>0.069744</td>\n",
              "      <td>1.000000</td>\n",
              "      <td>-0.045398</td>\n",
              "      <td>0.151644</td>\n",
              "      <td>0.172016</td>\n",
              "      <td>-0.183089</td>\n",
              "      <td>-0.071196</td>\n",
              "    </tr>\n",
              "    <tr>\n",
              "      <th>VehPower</th>\n",
              "      <td>-0.003987</td>\n",
              "      <td>-0.045398</td>\n",
              "      <td>1.000000</td>\n",
              "      <td>-0.006001</td>\n",
              "      <td>0.030108</td>\n",
              "      <td>-0.075895</td>\n",
              "      <td>0.042901</td>\n",
              "    </tr>\n",
              "    <tr>\n",
              "      <th>VehAge</th>\n",
              "      <td>-0.022181</td>\n",
              "      <td>0.151644</td>\n",
              "      <td>-0.006001</td>\n",
              "      <td>1.000000</td>\n",
              "      <td>-0.059213</td>\n",
              "      <td>0.079923</td>\n",
              "      <td>-0.090428</td>\n",
              "    </tr>\n",
              "    <tr>\n",
              "      <th>DrivAge</th>\n",
              "      <td>0.011312</td>\n",
              "      <td>0.172016</td>\n",
              "      <td>0.030108</td>\n",
              "      <td>-0.059213</td>\n",
              "      <td>1.000000</td>\n",
              "      <td>-0.479966</td>\n",
              "      <td>-0.004700</td>\n",
              "    </tr>\n",
              "    <tr>\n",
              "      <th>BonusMalus</th>\n",
              "      <td>0.051182</td>\n",
              "      <td>-0.183089</td>\n",
              "      <td>-0.075895</td>\n",
              "      <td>0.079923</td>\n",
              "      <td>-0.479966</td>\n",
              "      <td>1.000000</td>\n",
              "      <td>0.077717</td>\n",
              "    </tr>\n",
              "    <tr>\n",
              "      <th>Density</th>\n",
              "      <td>0.010924</td>\n",
              "      <td>-0.071196</td>\n",
              "      <td>0.042901</td>\n",
              "      <td>-0.090428</td>\n",
              "      <td>-0.004700</td>\n",
              "      <td>0.077717</td>\n",
              "      <td>1.000000</td>\n",
              "    </tr>\n",
              "  </tbody>\n",
              "</table>\n",
              "</div>"
            ],
            "text/plain": [
              "             ClaimNb  Exposure  VehPower  ...   DrivAge  BonusMalus   Density\n",
              "ClaimNb     1.000000  0.069744 -0.003987  ...  0.011312    0.051182  0.010924\n",
              "Exposure    0.069744  1.000000 -0.045398  ...  0.172016   -0.183089 -0.071196\n",
              "VehPower   -0.003987 -0.045398  1.000000  ...  0.030108   -0.075895  0.042901\n",
              "VehAge     -0.022181  0.151644 -0.006001  ... -0.059213    0.079923 -0.090428\n",
              "DrivAge     0.011312  0.172016  0.030108  ...  1.000000   -0.479966 -0.004700\n",
              "BonusMalus  0.051182 -0.183089 -0.075895  ... -0.479966    1.000000  0.077717\n",
              "Density     0.010924 -0.071196  0.042901  ... -0.004700    0.077717  1.000000\n",
              "\n",
              "[7 rows x 7 columns]"
            ]
          },
          "metadata": {
            "tags": []
          },
          "execution_count": 79
        }
      ]
    },
    {
      "cell_type": "markdown",
      "metadata": {
        "id": "kIBgS40qZGaJ"
      },
      "source": [
        "# Scaling and one-hot-encoding"
      ]
    },
    {
      "cell_type": "code",
      "metadata": {
        "id": "p89ncQP1ZJVO"
      },
      "source": [
        "onehot = OneHotEncoder()\n",
        "gasenc = LabelEncoder()\n",
        "minmax = MinMaxScaler(feature_range=(-1 , 1))\n",
        "claim"
      ],
      "execution_count": null,
      "outputs": []
    },
    {
      "cell_type": "code",
      "metadata": {
        "id": "yPrjAeqbdKNn"
      },
      "source": [
        "# transform area to numeric categories - ordinal\n",
        "claim['Area'] = claim['Area'].cat.codes"
      ],
      "execution_count": 150,
      "outputs": []
    },
    {
      "cell_type": "code",
      "metadata": {
        "colab": {
          "base_uri": "https://localhost:8080/",
          "height": 365
        },
        "id": "tJpHhyJARDW6",
        "outputId": "124a0214-9ea0-4838-9ef5-beafbf48185a"
      },
      "source": [
        "ax = sns.displot(x = 'Density', data = claim)\n",
        "ax.set(xlabel='dens', ylabel='Počet pozorovaní')\n",
        "plt.show()"
      ],
      "execution_count": 151,
      "outputs": [
        {
          "output_type": "display_data",
          "data": {
            "image/png": "[encoded data removed]",
            "text/plain": [
              "<Figure size 360x360 with 1 Axes>"
            ]
          },
          "metadata": {
            "tags": []
          }
        }
      ]
    },
    {
      "cell_type": "code",
      "metadata": {
        "id": "6vxZaCU9RxnC"
      },
      "source": [
        "claim[['minmaxlogdense']] = minmax.fit_transform(claim[['Density']])"
      ],
      "execution_count": 152,
      "outputs": []
    },
    {
      "cell_type": "code",
      "metadata": {
        "colab": {
          "base_uri": "https://localhost:8080/",
          "height": 365
        },
        "id": "WDUK1yMESGQJ",
        "outputId": "f8c7a767-5719-4690-809d-f12accf943e0"
      },
      "source": [
        "ax=sns.displot(x = 'minmaxlogdense', data = claim)\n",
        "ax.set(xlabel='log(dens)', ylabel='Počet pozorovaní')\n",
        "plt.show()"
      ],
      "execution_count": 153,
      "outputs": [
        {
          "output_type": "display_data",
          "data": {
            "image/png": "[encoded data removed]",
            "text/plain": [
              "<Figure size 360x360 with 1 Axes>"
            ]
          },
          "metadata": {
            "tags": []
          }
        }
      ]
    },
    {
      "cell_type": "code",
      "metadata": {
        "id": "uzOUkEHaoaQb"
      },
      "source": [
        "# transform dens to log dens (we follow the initial article of \n",
        "# M. V. Wuthrich - Data Analytics for Non-Life Insurance Pricing, 2020)\n",
        "claim['Density'] = np.log(claim['Density'])\n"
      ],
      "execution_count": 154,
      "outputs": []
    },
    {
      "cell_type": "code",
      "metadata": {
        "id": "4kPpfKPI4Hbx"
      },
      "source": [
        "# correlation of numerical features \n",
        "# significant correlation between area and dens\n",
        "claim = claim.drop('minmaxlogdense', axis = 1)\n"
      ],
      "execution_count": 155,
      "outputs": []
    },
    {
      "cell_type": "code",
      "metadata": {
        "colab": {
          "base_uri": "https://localhost:8080/",
          "height": 284
        },
        "id": "2T6fkkuVS1rS",
        "outputId": "694a7439-11ef-45eb-ad7e-d39d49b7e148"
      },
      "source": [
        "claim.corr()"
      ],
      "execution_count": 156,
      "outputs": [
        {
          "output_type": "execute_result",
          "data": {
            "text/html": [
              "<div>\n",
              "<style scoped>\n",
              "    .dataframe tbody tr th:only-of-type {\n",
              "        vertical-align: middle;\n",
              "    }\n",
              "\n",
              "    .dataframe tbody tr th {\n",
              "        vertical-align: top;\n",
              "    }\n",
              "\n",
              "    .dataframe thead th {\n",
              "        text-align: right;\n",
              "    }\n",
              "</style>\n",
              "<table border=\"1\" class=\"dataframe\">\n",
              "  <thead>\n",
              "    <tr style=\"text-align: right;\">\n",
              "      <th></th>\n",
              "      <th>ClaimNb</th>\n",
              "      <th>Exposure</th>\n",
              "      <th>VehPower</th>\n",
              "      <th>VehAge</th>\n",
              "      <th>DrivAge</th>\n",
              "      <th>BonusMalus</th>\n",
              "      <th>Area</th>\n",
              "      <th>Density</th>\n",
              "    </tr>\n",
              "  </thead>\n",
              "  <tbody>\n",
              "    <tr>\n",
              "      <th>ClaimNb</th>\n",
              "      <td>1.000000</td>\n",
              "      <td>0.069713</td>\n",
              "      <td>-0.003930</td>\n",
              "      <td>-0.022187</td>\n",
              "      <td>0.011269</td>\n",
              "      <td>0.049813</td>\n",
              "      <td>0.013443</td>\n",
              "      <td>0.014257</td>\n",
              "    </tr>\n",
              "    <tr>\n",
              "      <th>Exposure</th>\n",
              "      <td>0.069713</td>\n",
              "      <td>1.000000</td>\n",
              "      <td>-0.045262</td>\n",
              "      <td>0.153336</td>\n",
              "      <td>0.170824</td>\n",
              "      <td>-0.183712</td>\n",
              "      <td>-0.122053</td>\n",
              "      <td>-0.122322</td>\n",
              "    </tr>\n",
              "    <tr>\n",
              "      <th>VehPower</th>\n",
              "      <td>-0.003930</td>\n",
              "      <td>-0.045262</td>\n",
              "      <td>1.000000</td>\n",
              "      <td>-0.005880</td>\n",
              "      <td>0.031112</td>\n",
              "      <td>-0.076223</td>\n",
              "      <td>0.003161</td>\n",
              "      <td>0.004872</td>\n",
              "    </tr>\n",
              "    <tr>\n",
              "      <th>VehAge</th>\n",
              "      <td>-0.022187</td>\n",
              "      <td>0.153336</td>\n",
              "      <td>-0.005880</td>\n",
              "      <td>1.000000</td>\n",
              "      <td>-0.062329</td>\n",
              "      <td>0.081453</td>\n",
              "      <td>-0.105547</td>\n",
              "      <td>-0.104786</td>\n",
              "    </tr>\n",
              "    <tr>\n",
              "      <th>DrivAge</th>\n",
              "      <td>0.011269</td>\n",
              "      <td>0.170824</td>\n",
              "      <td>0.031112</td>\n",
              "      <td>-0.062329</td>\n",
              "      <td>1.000000</td>\n",
              "      <td>-0.483303</td>\n",
              "      <td>-0.044973</td>\n",
              "      <td>-0.044511</td>\n",
              "    </tr>\n",
              "    <tr>\n",
              "      <th>BonusMalus</th>\n",
              "      <td>0.049813</td>\n",
              "      <td>-0.183712</td>\n",
              "      <td>-0.076223</td>\n",
              "      <td>0.081453</td>\n",
              "      <td>-0.483303</td>\n",
              "      <td>1.000000</td>\n",
              "      <td>0.120986</td>\n",
              "      <td>0.125391</td>\n",
              "    </tr>\n",
              "    <tr>\n",
              "      <th>Area</th>\n",
              "      <td>0.013443</td>\n",
              "      <td>-0.122053</td>\n",
              "      <td>0.003161</td>\n",
              "      <td>-0.105547</td>\n",
              "      <td>-0.044973</td>\n",
              "      <td>0.120986</td>\n",
              "      <td>1.000000</td>\n",
              "      <td>0.970616</td>\n",
              "    </tr>\n",
              "    <tr>\n",
              "      <th>Density</th>\n",
              "      <td>0.014257</td>\n",
              "      <td>-0.122322</td>\n",
              "      <td>0.004872</td>\n",
              "      <td>-0.104786</td>\n",
              "      <td>-0.044511</td>\n",
              "      <td>0.125391</td>\n",
              "      <td>0.970616</td>\n",
              "      <td>1.000000</td>\n",
              "    </tr>\n",
              "  </tbody>\n",
              "</table>\n",
              "</div>"
            ],
            "text/plain": [
              "             ClaimNb  Exposure  VehPower  ...  BonusMalus      Area   Density\n",
              "ClaimNb     1.000000  0.069713 -0.003930  ...    0.049813  0.013443  0.014257\n",
              "Exposure    0.069713  1.000000 -0.045262  ...   -0.183712 -0.122053 -0.122322\n",
              "VehPower   -0.003930 -0.045262  1.000000  ...   -0.076223  0.003161  0.004872\n",
              "VehAge     -0.022187  0.153336 -0.005880  ...    0.081453 -0.105547 -0.104786\n",
              "DrivAge     0.011269  0.170824  0.031112  ...   -0.483303 -0.044973 -0.044511\n",
              "BonusMalus  0.049813 -0.183712 -0.076223  ...    1.000000  0.120986  0.125391\n",
              "Area        0.013443 -0.122053  0.003161  ...    0.120986  1.000000  0.970616\n",
              "Density     0.014257 -0.122322  0.004872  ...    0.125391  0.970616  1.000000\n",
              "\n",
              "[8 rows x 8 columns]"
            ]
          },
          "metadata": {
            "tags": []
          },
          "execution_count": 156
        }
      ]
    },
    {
      "cell_type": "code",
      "metadata": {
        "id": "YyP3f785agg4"
      },
      "source": [
        "# numerical we use min max scaler to map to interval [-1,1]\n",
        "claim[['VehAge', 'VehPower', 'DrivAge', 'Density', 'BonusMalus', 'Area']] = minmax.fit_transform(claim[['VehAge', 'VehPower', 'DrivAge', 'Density', 'BonusMalus', 'Area']])"
      ],
      "execution_count": 157,
      "outputs": []
    },
    {
      "cell_type": "code",
      "metadata": {
        "colab": {
          "base_uri": "https://localhost:8080/",
          "height": 365
        },
        "id": "nrOeuEXvS9JW",
        "outputId": "62410573-ed10-46ed-81b1-9692c5eb0adb"
      },
      "source": [
        "ax = sns.displot(x = 'Density', data = claim)\n",
        "ax.set(xlabel='log(Density)', ylabel='Počet pozorovaní')\n",
        "plt.show()"
      ],
      "execution_count": 158,
      "outputs": [
        {
          "output_type": "display_data",
          "data": {
            "image/png": "[encoded data removed]",
            "text/plain": [
              "<Figure size 360x360 with 1 Axes>"
            ]
          },
          "metadata": {
            "tags": []
          }
        }
      ]
    },
    {
      "cell_type": "code",
      "metadata": {
        "id": "pdVdummBqRue"
      },
      "source": [
        "# gas is transformed into two categories, -1.5, +1.5\n",
        "claim['VehGas'] = claim.VehGas.factorize()[0] - 0.5"
      ],
      "execution_count": 159,
      "outputs": []
    },
    {
      "cell_type": "code",
      "metadata": {
        "id": "LAmapRoO_war"
      },
      "source": [
        "# One hot encoding with drop first\n",
        "claim = pd.get_dummies(claim, drop_first=True, columns = ['VehBrand', 'Region'])"
      ],
      "execution_count": 160,
      "outputs": []
    },
    {
      "cell_type": "code",
      "metadata": {
        "colab": {
          "base_uri": "https://localhost:8080/",
          "height": 249
        },
        "id": "yfYFzKclYca8",
        "outputId": "8106d309-1664-4602-9dac-1b914a115a14"
      },
      "source": [
        "claim.head()"
      ],
      "execution_count": 161,
      "outputs": [
        {
          "output_type": "execute_result",
          "data": {
            "text/html": [
              "<div>\n",
              "<style scoped>\n",
              "    .dataframe tbody tr th:only-of-type {\n",
              "        vertical-align: middle;\n",
              "    }\n",
              "\n",
              "    .dataframe tbody tr th {\n",
              "        vertical-align: top;\n",
              "    }\n",
              "\n",
              "    .dataframe thead th {\n",
              "        text-align: right;\n",
              "    }\n",
              "</style>\n",
              "<table border=\"1\" class=\"dataframe\">\n",
              "  <thead>\n",
              "    <tr style=\"text-align: right;\">\n",
              "      <th></th>\n",
              "      <th>ClaimNb</th>\n",
              "      <th>Exposure</th>\n",
              "      <th>VehPower</th>\n",
              "      <th>VehAge</th>\n",
              "      <th>DrivAge</th>\n",
              "      <th>BonusMalus</th>\n",
              "      <th>VehGas</th>\n",
              "      <th>Area</th>\n",
              "      <th>Density</th>\n",
              "      <th>VehBrand_B10</th>\n",
              "      <th>VehBrand_B11</th>\n",
              "      <th>VehBrand_B12</th>\n",
              "      <th>VehBrand_B13</th>\n",
              "      <th>VehBrand_B14</th>\n",
              "      <th>VehBrand_B2</th>\n",
              "      <th>VehBrand_B3</th>\n",
              "      <th>VehBrand_B4</th>\n",
              "      <th>VehBrand_B5</th>\n",
              "      <th>VehBrand_B6</th>\n",
              "      <th>Region_Aquitaine</th>\n",
              "      <th>Region_Auvergne</th>\n",
              "      <th>Region_Basse-Normandie</th>\n",
              "      <th>Region_Bourgogne</th>\n",
              "      <th>Region_Bretagne</th>\n",
              "      <th>Region_Centre</th>\n",
              "      <th>Region_Champagne-Ardenne</th>\n",
              "      <th>Region_Corse</th>\n",
              "      <th>Region_Franche-Comte</th>\n",
              "      <th>Region_Haute-Normandie</th>\n",
              "      <th>Region_Ile-de-France</th>\n",
              "      <th>Region_Languedoc-Roussillon</th>\n",
              "      <th>Region_Limousin</th>\n",
              "      <th>Region_Midi-Pyrenees</th>\n",
              "      <th>Region_Nord-Pas-de-Calais</th>\n",
              "      <th>Region_Pays-de-la-Loire</th>\n",
              "      <th>Region_Picardie</th>\n",
              "      <th>Region_Poitou-Charentes</th>\n",
              "      <th>Region_Provence-Alpes-Cotes-D'Azur</th>\n",
              "      <th>Region_Rhone-Alpes</th>\n",
              "    </tr>\n",
              "  </thead>\n",
              "  <tbody>\n",
              "    <tr>\n",
              "      <th>0</th>\n",
              "      <td>1</td>\n",
              "      <td>0.10</td>\n",
              "      <td>-0.818182</td>\n",
              "      <td>-1.000000</td>\n",
              "      <td>0.042254</td>\n",
              "      <td>-1.0</td>\n",
              "      <td>-0.5</td>\n",
              "      <td>0.2</td>\n",
              "      <td>0.392479</td>\n",
              "      <td>0</td>\n",
              "      <td>0</td>\n",
              "      <td>1</td>\n",
              "      <td>0</td>\n",
              "      <td>0</td>\n",
              "      <td>0</td>\n",
              "      <td>0</td>\n",
              "      <td>0</td>\n",
              "      <td>0</td>\n",
              "      <td>0</td>\n",
              "      <td>0</td>\n",
              "      <td>0</td>\n",
              "      <td>0</td>\n",
              "      <td>0</td>\n",
              "      <td>0</td>\n",
              "      <td>0</td>\n",
              "      <td>0</td>\n",
              "      <td>0</td>\n",
              "      <td>0</td>\n",
              "      <td>0</td>\n",
              "      <td>0</td>\n",
              "      <td>0</td>\n",
              "      <td>0</td>\n",
              "      <td>0</td>\n",
              "      <td>0</td>\n",
              "      <td>0</td>\n",
              "      <td>0</td>\n",
              "      <td>0</td>\n",
              "      <td>0</td>\n",
              "      <td>1</td>\n",
              "    </tr>\n",
              "    <tr>\n",
              "      <th>1</th>\n",
              "      <td>1</td>\n",
              "      <td>0.77</td>\n",
              "      <td>-0.818182</td>\n",
              "      <td>-1.000000</td>\n",
              "      <td>0.042254</td>\n",
              "      <td>-1.0</td>\n",
              "      <td>-0.5</td>\n",
              "      <td>0.2</td>\n",
              "      <td>0.392479</td>\n",
              "      <td>0</td>\n",
              "      <td>0</td>\n",
              "      <td>1</td>\n",
              "      <td>0</td>\n",
              "      <td>0</td>\n",
              "      <td>0</td>\n",
              "      <td>0</td>\n",
              "      <td>0</td>\n",
              "      <td>0</td>\n",
              "      <td>0</td>\n",
              "      <td>0</td>\n",
              "      <td>0</td>\n",
              "      <td>0</td>\n",
              "      <td>0</td>\n",
              "      <td>0</td>\n",
              "      <td>0</td>\n",
              "      <td>0</td>\n",
              "      <td>0</td>\n",
              "      <td>0</td>\n",
              "      <td>0</td>\n",
              "      <td>0</td>\n",
              "      <td>0</td>\n",
              "      <td>0</td>\n",
              "      <td>0</td>\n",
              "      <td>0</td>\n",
              "      <td>0</td>\n",
              "      <td>0</td>\n",
              "      <td>0</td>\n",
              "      <td>0</td>\n",
              "      <td>1</td>\n",
              "    </tr>\n",
              "    <tr>\n",
              "      <th>2</th>\n",
              "      <td>1</td>\n",
              "      <td>0.75</td>\n",
              "      <td>-0.636364</td>\n",
              "      <td>-0.897436</td>\n",
              "      <td>-0.042254</td>\n",
              "      <td>-1.0</td>\n",
              "      <td>0.5</td>\n",
              "      <td>-0.6</td>\n",
              "      <td>-0.218122</td>\n",
              "      <td>0</td>\n",
              "      <td>0</td>\n",
              "      <td>1</td>\n",
              "      <td>0</td>\n",
              "      <td>0</td>\n",
              "      <td>0</td>\n",
              "      <td>0</td>\n",
              "      <td>0</td>\n",
              "      <td>0</td>\n",
              "      <td>0</td>\n",
              "      <td>0</td>\n",
              "      <td>0</td>\n",
              "      <td>0</td>\n",
              "      <td>0</td>\n",
              "      <td>0</td>\n",
              "      <td>0</td>\n",
              "      <td>0</td>\n",
              "      <td>0</td>\n",
              "      <td>0</td>\n",
              "      <td>0</td>\n",
              "      <td>0</td>\n",
              "      <td>0</td>\n",
              "      <td>0</td>\n",
              "      <td>0</td>\n",
              "      <td>0</td>\n",
              "      <td>0</td>\n",
              "      <td>1</td>\n",
              "      <td>0</td>\n",
              "      <td>0</td>\n",
              "      <td>0</td>\n",
              "    </tr>\n",
              "    <tr>\n",
              "      <th>3</th>\n",
              "      <td>1</td>\n",
              "      <td>0.09</td>\n",
              "      <td>-0.454545</td>\n",
              "      <td>-1.000000</td>\n",
              "      <td>-0.211268</td>\n",
              "      <td>-1.0</td>\n",
              "      <td>0.5</td>\n",
              "      <td>-0.6</td>\n",
              "      <td>-0.151136</td>\n",
              "      <td>0</td>\n",
              "      <td>0</td>\n",
              "      <td>1</td>\n",
              "      <td>0</td>\n",
              "      <td>0</td>\n",
              "      <td>0</td>\n",
              "      <td>0</td>\n",
              "      <td>0</td>\n",
              "      <td>0</td>\n",
              "      <td>0</td>\n",
              "      <td>1</td>\n",
              "      <td>0</td>\n",
              "      <td>0</td>\n",
              "      <td>0</td>\n",
              "      <td>0</td>\n",
              "      <td>0</td>\n",
              "      <td>0</td>\n",
              "      <td>0</td>\n",
              "      <td>0</td>\n",
              "      <td>0</td>\n",
              "      <td>0</td>\n",
              "      <td>0</td>\n",
              "      <td>0</td>\n",
              "      <td>0</td>\n",
              "      <td>0</td>\n",
              "      <td>0</td>\n",
              "      <td>0</td>\n",
              "      <td>0</td>\n",
              "      <td>0</td>\n",
              "      <td>0</td>\n",
              "    </tr>\n",
              "    <tr>\n",
              "      <th>4</th>\n",
              "      <td>1</td>\n",
              "      <td>0.84</td>\n",
              "      <td>-0.454545</td>\n",
              "      <td>-1.000000</td>\n",
              "      <td>-0.211268</td>\n",
              "      <td>-1.0</td>\n",
              "      <td>0.5</td>\n",
              "      <td>-0.6</td>\n",
              "      <td>-0.151136</td>\n",
              "      <td>0</td>\n",
              "      <td>0</td>\n",
              "      <td>1</td>\n",
              "      <td>0</td>\n",
              "      <td>0</td>\n",
              "      <td>0</td>\n",
              "      <td>0</td>\n",
              "      <td>0</td>\n",
              "      <td>0</td>\n",
              "      <td>0</td>\n",
              "      <td>1</td>\n",
              "      <td>0</td>\n",
              "      <td>0</td>\n",
              "      <td>0</td>\n",
              "      <td>0</td>\n",
              "      <td>0</td>\n",
              "      <td>0</td>\n",
              "      <td>0</td>\n",
              "      <td>0</td>\n",
              "      <td>0</td>\n",
              "      <td>0</td>\n",
              "      <td>0</td>\n",
              "      <td>0</td>\n",
              "      <td>0</td>\n",
              "      <td>0</td>\n",
              "      <td>0</td>\n",
              "      <td>0</td>\n",
              "      <td>0</td>\n",
              "      <td>0</td>\n",
              "      <td>0</td>\n",
              "    </tr>\n",
              "  </tbody>\n",
              "</table>\n",
              "</div>"
            ],
            "text/plain": [
              "   ClaimNb  Exposure  ...  Region_Provence-Alpes-Cotes-D'Azur  Region_Rhone-Alpes\n",
              "0        1      0.10  ...                                   0                   1\n",
              "1        1      0.77  ...                                   0                   1\n",
              "2        1      0.75  ...                                   0                   0\n",
              "3        1      0.09  ...                                   0                   0\n",
              "4        1      0.84  ...                                   0                   0\n",
              "\n",
              "[5 rows x 39 columns]"
            ]
          },
          "metadata": {
            "tags": []
          },
          "execution_count": 161
        }
      ]
    },
    {
      "cell_type": "code",
      "metadata": {
        "colab": {
          "base_uri": "https://localhost:8080/"
        },
        "id": "sC-n1vFrahqE",
        "outputId": "42922fb6-40e3-494d-ef34-bda38c42e807"
      },
      "source": [
        "claim.info()"
      ],
      "execution_count": 162,
      "outputs": [
        {
          "output_type": "stream",
          "text": [
            "<class 'pandas.core.frame.DataFrame'>\n",
            "Int64Index: 676990 entries, 0 to 678012\n",
            "Data columns (total 39 columns):\n",
            " #   Column                              Non-Null Count   Dtype  \n",
            "---  ------                              --------------   -----  \n",
            " 0   ClaimNb                             676990 non-null  int64  \n",
            " 1   Exposure                            676990 non-null  float64\n",
            " 2   VehPower                            676990 non-null  float64\n",
            " 3   VehAge                              676990 non-null  float64\n",
            " 4   DrivAge                             676990 non-null  float64\n",
            " 5   BonusMalus                          676990 non-null  float64\n",
            " 6   VehGas                              676990 non-null  float64\n",
            " 7   Area                                676990 non-null  float64\n",
            " 8   Density                             676990 non-null  float64\n",
            " 9   VehBrand_B10                        676990 non-null  uint8  \n",
            " 10  VehBrand_B11                        676990 non-null  uint8  \n",
            " 11  VehBrand_B12                        676990 non-null  uint8  \n",
            " 12  VehBrand_B13                        676990 non-null  uint8  \n",
            " 13  VehBrand_B14                        676990 non-null  uint8  \n",
            " 14  VehBrand_B2                         676990 non-null  uint8  \n",
            " 15  VehBrand_B3                         676990 non-null  uint8  \n",
            " 16  VehBrand_B4                         676990 non-null  uint8  \n",
            " 17  VehBrand_B5                         676990 non-null  uint8  \n",
            " 18  VehBrand_B6                         676990 non-null  uint8  \n",
            " 19  Region_Aquitaine                    676990 non-null  uint8  \n",
            " 20  Region_Auvergne                     676990 non-null  uint8  \n",
            " 21  Region_Basse-Normandie              676990 non-null  uint8  \n",
            " 22  Region_Bourgogne                    676990 non-null  uint8  \n",
            " 23  Region_Bretagne                     676990 non-null  uint8  \n",
            " 24  Region_Centre                       676990 non-null  uint8  \n",
            " 25  Region_Champagne-Ardenne            676990 non-null  uint8  \n",
            " 26  Region_Corse                        676990 non-null  uint8  \n",
            " 27  Region_Franche-Comte                676990 non-null  uint8  \n",
            " 28  Region_Haute-Normandie              676990 non-null  uint8  \n",
            " 29  Region_Ile-de-France                676990 non-null  uint8  \n",
            " 30  Region_Languedoc-Roussillon         676990 non-null  uint8  \n",
            " 31  Region_Limousin                     676990 non-null  uint8  \n",
            " 32  Region_Midi-Pyrenees                676990 non-null  uint8  \n",
            " 33  Region_Nord-Pas-de-Calais           676990 non-null  uint8  \n",
            " 34  Region_Pays-de-la-Loire             676990 non-null  uint8  \n",
            " 35  Region_Picardie                     676990 non-null  uint8  \n",
            " 36  Region_Poitou-Charentes             676990 non-null  uint8  \n",
            " 37  Region_Provence-Alpes-Cotes-D'Azur  676990 non-null  uint8  \n",
            " 38  Region_Rhone-Alpes                  676990 non-null  uint8  \n",
            "dtypes: float64(8), int64(1), uint8(30)\n",
            "memory usage: 71.0 MB\n"
          ],
          "name": "stdout"
        }
      ]
    },
    {
      "cell_type": "code",
      "metadata": {
        "id": "DCZOz-sUcDYW"
      },
      "source": [
        "claim.to_csv('/content/drive/MyDrive/data/scaled.csv')"
      ],
      "execution_count": 163,
      "outputs": []
    }
  ]
}